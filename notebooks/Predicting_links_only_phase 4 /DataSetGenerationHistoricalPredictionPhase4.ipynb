{
 "cells": [
  {
   "cell_type": "markdown",
   "metadata": {},
   "source": [
    "# Data set Generation\n",
    "\n",
    "This notebook shows how to generate datasets for the historical validation. We choose a year and get all available phase 4 clinical trials for test and training on this dataset. We additionally export files with positive data for all subsequent years of phase 4. As negative data, we choose all combinations of kinases and cancers that have remained negative up to the present day."
   ]
  },
  {
   "cell_type": "code",
   "execution_count": 1,
   "metadata": {},
   "outputs": [],
   "source": [
    "import pandas as pd\n",
    "import os\n",
    "import sys\n",
    "sys.path.insert(0, os.path.abspath('../..'))\n",
    "from kcet import KcetDatasetGenerator"
   ]
  },
  {
   "cell_type": "markdown",
   "metadata": {},
   "source": [
    "# Input file. \n",
    "We have placed a version of ``clinical_trials_by_phase.tsv`` into the ``data`` subfolder in the ``notebooks`` subfolder of kcet."
   ]
  },
  {
   "cell_type": "code",
   "execution_count": 2,
   "metadata": {},
   "outputs": [],
   "source": [
    "ctfile = os.path.abspath(os.path.join('../data', 'clinical_trials_by_phase.tsv'))"
   ]
  },
  {
   "cell_type": "markdown",
   "metadata": {},
   "source": [
    "## target year\n",
    "In this example, we show how to extract datasets for a target year."
   ]
  },
  {
   "cell_type": "code",
   "execution_count": 3,
   "metadata": {},
   "outputs": [],
   "source": [
    "target_year = 2014\n",
    "num_years_after_the_target_year = 6"
   ]
  },
  {
   "cell_type": "code",
   "execution_count": 4,
   "metadata": {
    "scrolled": true
   },
   "outputs": [
    {
     "name": "stdout",
     "output_type": "stream",
     "text": [
      "[INFO] Reading protein kinase information from /Users/ravanv/PycharmProjects/KCET/input/prot_kinase.tsv\n",
      "[INFO] ingested symbol_to_id_map with 522 entries such as {'NCBIGene:2870': 'GRK6'}\n",
      "[INFO] Ingested mesh_id list with 698 entries such as 'meshd000008' and 'meshd000069293', \n",
      "[INFO] Ingested _meshid2disease_map with 698 entries\n",
      "[INFO] Ingested meshid2disease_map with 514 entries\n",
      "[INFO] Ingested pki_to_kinase with 76 entries\n",
      "[INFO] Parsed data for the following medications:\n",
      "[INFO] avapritinib\n",
      "[INFO] olaratumab\n",
      "[INFO] dacomitinib\n",
      "[INFO] bosutinib\n",
      "[INFO] larotrectinib\n",
      "[INFO] midostaurin\n",
      "[INFO] trametinib\n",
      "[INFO] alectinib\n",
      "[INFO] apatinib\n",
      "[INFO] necitumumab\n",
      "[INFO] entrectinib\n",
      "[INFO] ponatinib\n",
      "[INFO] crizotinib\n",
      "[INFO] vemurafenib\n",
      "[INFO] regorafenib\n",
      "[INFO] nilotinib\n",
      "[INFO] icotinib\n",
      "[INFO] sorafenib\n",
      "[INFO] imatinib\n",
      "[INFO] trastuzumab\n",
      "[INFO] duvelisib\n",
      "[INFO] amlexanox\n",
      "[INFO] ribociclib\n",
      "[INFO] lorlatinib\n",
      "[INFO] acalabrutinib\n",
      "[INFO] gilteritinib\n",
      "[INFO] ruxolitinib\n",
      "[INFO] cobimetinib\n",
      "[INFO] fedratinib\n",
      "[INFO] vandetanib\n",
      "[INFO] ramucirumab\n",
      "[INFO] fostamatinib\n",
      "[INFO] tivozanib\n",
      "[INFO] tucatinib\n",
      "[INFO] selumetinib\n",
      "[INFO] everolimus\n",
      "[INFO] zanubrutinib\n",
      "[INFO] panitumumab\n",
      "[INFO] brigatinib\n",
      "[INFO] cabozantinib\n",
      "[INFO] pemigatinib\n",
      "[INFO] lenvatinib\n",
      "[INFO] cetuximab\n",
      "[INFO] quizartinib\n",
      "[INFO] sirolimus\n",
      "[INFO] erdafitinib\n",
      "[INFO] gefitinib\n",
      "[INFO] olmutinib\n",
      "[INFO] alpelisib\n",
      "[INFO] neratinib\n",
      "[INFO] pertuzumab\n",
      "[INFO] axitinib\n",
      "[INFO] dasatinib\n",
      "[INFO] tofacitinib\n",
      "[INFO] binimetinib\n",
      "[INFO] encorafenib\n",
      "[INFO] erlotinib\n",
      "[INFO] copanlisib\n",
      "[INFO] afatinib\n",
      "[INFO] ceritinib\n",
      "[INFO] nintedanib\n",
      "[INFO] osimertinib\n",
      "[INFO] dabrafenib\n",
      "[INFO] palbociclib\n",
      "[INFO] pexidartinib\n",
      "[INFO] sunitinib\n",
      "[INFO] ibrutinib\n",
      "[INFO] lapatinib\n",
      "[INFO] abemaciclib\n",
      "[INFO] pazopanib\n"
     ]
    }
   ],
   "source": [
    "dsGen = KcetDatasetGenerator(clinical_trials=ctfile)"
   ]
  },
  {
   "cell_type": "code",
   "execution_count": 5,
   "metadata": {},
   "outputs": [
    {
     "name": "stdout",
     "output_type": "stream",
     "text": [
      "Skipping random link(ncbigene780,meshd018567) since we found it in the positive set\n",
      "Skipping random link(ncbigene2322,meshd008415) since we found it in the positive set\n",
      "Skipping random link(ncbigene80122,meshd002276) since we found it in the positive set\n",
      "Skipping random link(ncbigene5159,meshd054364) since we found it in the positive set\n",
      "Skipping random link(ncbigene5294,meshd015451) since we found it in the positive set\n",
      "Skipping random link(ncbigene80122,meshd008545) since we found it in the positive set\n",
      "Skipping random link(ncbigene3815,meshd054364) since we found it in the positive set\n",
      "Skipping random link(ncbigene2475,meshd013274) since we found it in the positive set\n",
      "Skipping random link(ncbigene5159,meshd008258) since we found it in the positive set\n",
      "Skipping random link(ncbigene660,meshd015451) since we found it in the positive set\n",
      "Skipping random link(ncbigene9263,meshd000077192) since we found it in the positive set\n",
      "Skipping random link(ncbigene3932,meshd010255) since we found it in the positive set\n",
      "Skipping random link(ncbigene3791,meshd051642) since we found it in the positive set\n",
      "Skipping random link(ncbigene25,meshd012468) since we found it in the positive set\n",
      "Skipping random link(ncbigene2324,meshd005910) since we found it in the positive set\n",
      "Skipping random link(ncbigene51776,meshd005910) since we found it in the positive set\n",
      "Skipping random link (ncbigene57538,meshd018198) since we already added it to the negative set\n",
      "Skipping random link(ncbigene7010,meshd000230) since we found it in the positive set\n",
      "Skipping random link(ncbigene1021,meshd011289) since we found it in the positive set\n",
      "Skipping random link(ncbigene1956,meshd015470) since we found it in the positive set\n",
      "Skipping random link(ncbigene780,meshd012004) since we found it in the positive set\n",
      "Skipping random link(ncbigene3791,meshd020522) since we found it in the positive set\n",
      "Skipping random link (ncbigene7046,meshd005834) since we already added it to the negative set\n",
      "Skipping random link(ncbigene80122,meshd010386) since we found it in the positive set\n",
      "Skipping random link (ncbigene1021,meshd007340) since we already added it to the negative set\n",
      "Skipping random link (ncbigene494551,meshd009378) since we already added it to the negative set\n",
      "Skipping random link (ncbigene341676,meshd016066) since we already added it to the negative set\n",
      "Skipping random link(ncbigene3932,meshd009447) since we found it in the positive set\n",
      "Skipping random link(ncbigene80122,meshd001650) since we found it in the positive set\n",
      "Skipping random link(ncbigene1436,meshd012512) since we found it in the positive set\n",
      "Skipping random link(ncbigene7297,meshd008175) since we found it in the positive set\n",
      "Skipping random link (ncbigene28996,meshd018231) since we already added it to the negative set\n",
      "Skipping random link(ncbigene695,meshd007938) since we found it in the positive set\n",
      "Skipping random link(ncbigene1956,meshd018308) since we found it in the positive set\n",
      "Skipping random link(ncbigene1436,meshd002345) since we found it in the positive set\n",
      "Skipping random link (ncbigene255239,meshd008224) since we already added it to the negative set\n",
      "Skipping random link (ncbigene1018,meshd014496) since we already added it to the negative set\n",
      "Skipping random link(ncbigene3717,meshd009101) since we found it in the positive set\n",
      "Skipping random link(ncbigene147746,meshd018248) since we found it in the positive set\n",
      "Skipping random link (ncbigene23139,meshd005354) since we already added it to the negative set\n",
      "Skipping random link(ncbigene5159,meshd054438) since we found it in the positive set\n",
      "Skipping random link(ncbigene2321,meshd018200) since we found it in the positive set\n",
      "Skipping random link (ncbigene167359,meshd001859) since we already added it to the negative set\n",
      "[INFO] We generated a negative set with 2560 examples (the positive set has 5335)\n",
      "Skipping random link (ncbigene55872,meshd012517) since we already added it to the negative set\n",
      "Skipping random link (ncbigene83732,meshd018204) since we already added it to the negative set\n",
      "Skipping random link (ncbigene25,meshd015463) since we found it in the positive set\n",
      "Skipping random link (ncbigene80122,meshd008175) since we found it in the positive set\n",
      "Skipping random link (ncbigene55589,meshd018262) since we found it in the positive set\n",
      "Skipping random link (ncbigene2475,meshd015463) since we found it in the positive set\n",
      "Skipping random link (ncbigene3815,meshd005910) since we found it in the positive set\n",
      "Skipping random link (ncbigene147746,meshd002294) since we found it in the positive set\n",
      "Skipping random link (ncbigene84446,meshd010954) since we already added it to the negative set\n",
      "Skipping random link (ncbigene2042,meshd016403) since we found it in the positive set\n",
      "Skipping random link (ncbigene984,meshd000075122) since we already added it to the negative set\n",
      "Skipping random link (ncbigene6795,meshd018268) since we found it in the positive set\n",
      "Skipping random link (ncbigene6795,meshd007680) since we found it in the positive set\n",
      "Skipping random link (ncbigene5584,meshd018237) since we already added it to the negative set\n",
      "Skipping random link (ncbigene5894,meshd018242) since we found it in the positive set\n",
      "Skipping random link (ncbigene60493,meshd020339) since we already added it to the negative set\n",
      "Skipping random link (ncbigene7294,meshd008230) since we found it in the positive set\n",
      "Skipping random link (ncbigene3932,meshd015470) since we found it in the positive set\n",
      "Skipping random link (ncbigene3791,meshd016400) since we found it in the positive set\n",
      "Skipping random link (ncbigene1956,meshd001357) since we already added it to the negative set\n",
      "Skipping random link (ncbigene5159,meshd008175) since we found it in the positive set\n",
      "Skipping random link (ncbigene4217,meshd010017) since we already added it to the negative set\n",
      "Skipping random link (ncbigene27347,meshd002291) since we already added it to the negative set\n",
      "Skipping random link (ncbigene1022,meshd001063) since we already added it to the negative set\n",
      "Skipping random link (ncbigene5159,meshd006689) since we found it in the positive set\n",
      "Skipping random link (ncbigene4293,meshd007078) since we already added it to the negative set\n",
      "Skipping random link (ncbigene2066,meshd018307) since we found it in the positive set\n",
      "Skipping random link (ncbigene29110,meshd034721) since we found it in the positive set\n",
      "Skipping random link (ncbigene2065,meshd005909) since we found it in the positive set\n",
      "Skipping random link (ncbigene80122,meshd010255) since we found it in the positive set\n",
      "Skipping random link (ncbigene5894,meshd018242) since we found it in the positive set\n",
      "Skipping random link (ncbigene80122,meshd012208) since we found it in the positive set\n",
      "Skipping random link (ncbigene2065,meshd000314) since we already added it to the negative set\n",
      "Skipping random link (ncbigene6885,meshd002295) since we found it in the positive set\n",
      "Skipping random link (ncbigene7297,meshd016403) since we found it in the positive set\n",
      "Skipping random link (ncbigene2580,meshd010212) since we found it in the positive set\n",
      "Skipping random link (ncbigene640,meshd012468) since we found it in the positive set\n",
      "Skipping random link (ncbigene23683,meshd010386) since we already added it to the negative set\n",
      "Skipping random link (ncbigene51765,meshd002289) since we found it in the positive set\n",
      "Skipping random link (ncbigene2322,meshd003110) since we found it in the positive set\n",
      "Skipping random link (ncbigene5156,meshd005185) since we found it in the positive set\n",
      "Skipping random link (ncbigene2322,meshd002813) since we found it in the positive set\n",
      "Skipping random link (ncbigene3791,meshd051642) since we found it in the positive set\n",
      "Skipping random link (ncbigene27,meshd011471) since we found it in the positive set\n",
      "Skipping random link (ncbigene1956,meshd008527) since we found it in the positive set\n",
      "Skipping random link (ncbigene7272,meshd002817) since we already added it to the negative set\n",
      "Skipping random link (ncbigene2580,meshd009386) since we found it in the positive set\n",
      "Skipping random link (ncbigene147746,meshd018289) since we found it in the positive set\n",
      "Skipping random link (ncbigene780,meshd018813) since we found it in the positive set\n",
      "Skipping random link (ncbigene5156,meshd009362) since we found it in the positive set\n",
      "Skipping random link (ncbigene701,meshd013964) since we already added it to the negative set\n",
      "Skipping random link (ncbigene2042,meshd012004) since we found it in the positive set\n",
      "Skipping random link (ncbigene2868,meshd018241) since we already added it to the negative set\n",
      "Skipping random link (ncbigene1956,meshd018242) since we found it in the positive set\n",
      "Skipping random link (ncbigene146057,meshd002283) since we already added it to the negative set\n",
      "[INFO] We generated a negative set with 2560 examples (the positive set has 5335)\n"
     ]
    }
   ],
   "source": [
    "positive_train_df, negative_train_df, positive_validation_df, negative_validation_df = \\\n",
    "   dsGen.get_data_after_target_year_upto_later_year_phase_4(target_year=target_year,num_years_later= num_years_after_the_target_year)"
   ]
  },
  {
   "cell_type": "markdown",
   "metadata": {},
   "source": [
    "# Positive training data\n",
    "We use this data frame for test and training. It contains all phase 4 trials completed up to and including the target year."
   ]
  },
  {
   "cell_type": "code",
   "execution_count": 6,
   "metadata": {},
   "outputs": [
    {
     "data": {
      "text/html": [
       "<div>\n",
       "<style scoped>\n",
       "    .dataframe tbody tr th:only-of-type {\n",
       "        vertical-align: middle;\n",
       "    }\n",
       "\n",
       "    .dataframe tbody tr th {\n",
       "        vertical-align: top;\n",
       "    }\n",
       "\n",
       "    .dataframe thead th {\n",
       "        text-align: right;\n",
       "    }\n",
       "</style>\n",
       "<table border=\"1\" class=\"dataframe\">\n",
       "  <thead>\n",
       "    <tr style=\"text-align: right;\">\n",
       "      <th></th>\n",
       "      <th>cancer</th>\n",
       "      <th>mesh_id</th>\n",
       "      <th>kinase</th>\n",
       "      <th>gene_id</th>\n",
       "      <th>pki</th>\n",
       "      <th>nct</th>\n",
       "      <th>phase</th>\n",
       "      <th>year</th>\n",
       "    </tr>\n",
       "  </thead>\n",
       "  <tbody>\n",
       "    <tr>\n",
       "      <th>4</th>\n",
       "      <td>Carcinoma, Non-Small-Cell Lung</td>\n",
       "      <td>meshd002289</td>\n",
       "      <td>EGFR</td>\n",
       "      <td>ncbigene1956</td>\n",
       "      <td>afatinib</td>\n",
       "      <td>NCT04413201;NCT02695290;NCT02208843;NCT0435611...</td>\n",
       "      <td>Phase 4</td>\n",
       "      <td>2014</td>\n",
       "    </tr>\n",
       "    <tr>\n",
       "      <th>5</th>\n",
       "      <td>Carcinoma, Non-Small-Cell Lung</td>\n",
       "      <td>meshd002289</td>\n",
       "      <td>ERBB2</td>\n",
       "      <td>ncbigene2064</td>\n",
       "      <td>afatinib</td>\n",
       "      <td>NCT04413201;NCT02695290;NCT02208843;NCT0435611...</td>\n",
       "      <td>Phase 4</td>\n",
       "      <td>2014</td>\n",
       "    </tr>\n",
       "    <tr>\n",
       "      <th>6</th>\n",
       "      <td>Carcinoma, Non-Small-Cell Lung</td>\n",
       "      <td>meshd002289</td>\n",
       "      <td>ERBB4</td>\n",
       "      <td>ncbigene2066</td>\n",
       "      <td>afatinib</td>\n",
       "      <td>NCT04413201;NCT02695290;NCT02208843;NCT0435611...</td>\n",
       "      <td>Phase 4</td>\n",
       "      <td>2014</td>\n",
       "    </tr>\n",
       "    <tr>\n",
       "      <th>81</th>\n",
       "      <td>Leukemia</td>\n",
       "      <td>meshd007938</td>\n",
       "      <td>ABL1</td>\n",
       "      <td>ncbigene25</td>\n",
       "      <td>bosutinib</td>\n",
       "      <td>NCT02228382</td>\n",
       "      <td>Phase 4</td>\n",
       "      <td>2014</td>\n",
       "    </tr>\n",
       "    <tr>\n",
       "      <th>82</th>\n",
       "      <td>Leukemia</td>\n",
       "      <td>meshd007938</td>\n",
       "      <td>MAP4K5</td>\n",
       "      <td>ncbigene11183</td>\n",
       "      <td>bosutinib</td>\n",
       "      <td>NCT02228382</td>\n",
       "      <td>Phase 4</td>\n",
       "      <td>2014</td>\n",
       "    </tr>\n",
       "  </tbody>\n",
       "</table>\n",
       "</div>"
      ],
      "text/plain": [
       "                            cancer      mesh_id  kinase        gene_id  \\\n",
       "4   Carcinoma, Non-Small-Cell Lung  meshd002289    EGFR   ncbigene1956   \n",
       "5   Carcinoma, Non-Small-Cell Lung  meshd002289   ERBB2   ncbigene2064   \n",
       "6   Carcinoma, Non-Small-Cell Lung  meshd002289   ERBB4   ncbigene2066   \n",
       "81                        Leukemia  meshd007938    ABL1     ncbigene25   \n",
       "82                        Leukemia  meshd007938  MAP4K5  ncbigene11183   \n",
       "\n",
       "          pki                                                nct    phase  \\\n",
       "4    afatinib  NCT04413201;NCT02695290;NCT02208843;NCT0435611...  Phase 4   \n",
       "5    afatinib  NCT04413201;NCT02695290;NCT02208843;NCT0435611...  Phase 4   \n",
       "6    afatinib  NCT04413201;NCT02695290;NCT02208843;NCT0435611...  Phase 4   \n",
       "81  bosutinib                                        NCT02228382  Phase 4   \n",
       "82  bosutinib                                        NCT02228382  Phase 4   \n",
       "\n",
       "    year  \n",
       "4   2014  \n",
       "5   2014  \n",
       "6   2014  \n",
       "81  2014  \n",
       "82  2014  "
      ]
     },
     "execution_count": 6,
     "metadata": {},
     "output_type": "execute_result"
    }
   ],
   "source": [
    "positive_train_df.head()"
   ]
  },
  {
   "cell_type": "code",
   "execution_count": 7,
   "metadata": {},
   "outputs": [
    {
     "name": "stdout",
     "output_type": "stream",
     "text": [
      "          gene_id      mesh_id\n",
      "4    ncbigene1956  meshd002289\n",
      "5    ncbigene2064  meshd002289\n",
      "6    ncbigene2066  meshd002289\n",
      "81     ncbigene25  meshd007938\n",
      "82  ncbigene11183  meshd007938\n",
      "Number of positive trainig links: 307\n"
     ]
    }
   ],
   "source": [
    "#We write the file for machine learning as follows\n",
    "pos_train_df = positive_train_df[['gene_id','mesh_id']]\n",
    "outname = \"positive_training_upto_{}.tsv\".format(target_year)\n",
    "pos_train_df.to_csv(outname, sep='\\t')\n",
    "print(pos_train_df.head())\n",
    "print(\"Number of positive trainig links: {}\".format(pos_train_df.shape[0]) )"
   ]
  },
  {
   "cell_type": "markdown",
   "metadata": {},
   "source": [
    "# Negative training data\n",
    "This data is used for test and training. It contains a sample with factor times (default=10) as many random combinations of kinases and cancers that we not positive as of the target year. Note that the dataframes for negative examples just have the columns ``gene_id`` and ``mesh_id``."
   ]
  },
  {
   "cell_type": "code",
   "execution_count": 8,
   "metadata": {},
   "outputs": [
    {
     "name": "stdout",
     "output_type": "stream",
     "text": [
      "       mesh_id       gene_id\n",
      "0  meshd014516  ncbigene8550\n",
      "1  meshd018270  ncbigene8899\n",
      "2  meshd009374  ncbigene4139\n",
      "3  meshd007953  ncbigene4486\n",
      "4  meshd009918   ncbigene701\n",
      "Number of negative trainig links: 2560\n"
     ]
    }
   ],
   "source": [
    "print(negative_train_df.head())\n",
    "outname = \"negative_training_upto_{}.tsv\".format(target_year)\n",
    "negative_train_df.to_csv(outname, sep='\\t')\n",
    "print(\"Number of negative trainig links: {}\".format(negative_train_df.shape[0]) )"
   ]
  },
  {
   "cell_type": "markdown",
   "metadata": {},
   "source": [
    "# Positive validation data\n",
    "This file has data for all four study phases and for all years following the target year. We should predicting them\n",
    "all at once and then use postprocessing in a script to figure out the results for each year."
   ]
  },
  {
   "cell_type": "code",
   "execution_count": 9,
   "metadata": {},
   "outputs": [
    {
     "name": "stdout",
     "output_type": "stream",
     "text": [
      "        gene_id      mesh_id\n",
      "0  ncbigene2241  meshd008175\n",
      "1  ncbigene2268  meshd008258\n",
      "2  ncbigene2322  meshd002277\n",
      "3  ncbigene6098  meshd009362\n",
      "4   ncbigene660  meshd008258\n",
      "Number of positive validation links: 328\n"
     ]
    }
   ],
   "source": [
    "pos_validation_df = positive_validation_df[['gene_id','mesh_id']]\n",
    "outname = \"positive_validation_{}_years_after_{}_phase4.tsv\".format(num_years_after_the_target_year,target_year)\n",
    "pos_validation_df.to_csv(outname, sep='\\t')\n",
    "print(pos_validation_df.head())\n",
    "print(\"Number of positive validation links: {}\".format(pos_validation_df.shape[0]) )"
   ]
  },
  {
   "cell_type": "markdown",
   "metadata": {},
   "source": [
    "# Negative validation data\n",
    "This is similar to the negative training data in that it just has two columns."
   ]
  },
  {
   "cell_type": "code",
   "execution_count": 10,
   "metadata": {},
   "outputs": [
    {
     "name": "stdout",
     "output_type": "stream",
     "text": [
      "       mesh_id       gene_id\n",
      "0  meshd000239  ncbigene6352\n",
      "1  meshd002472  ncbigene3717\n",
      "2  meshd014685  ncbigene5592\n",
      "3  meshd009507  ncbigene3932\n",
      "4  meshd005909  ncbigene9113\n",
      "Number of negative validation links: 2560\n"
     ]
    }
   ],
   "source": [
    "print(negative_validation_df.head())\n",
    "outname = \"negative_validation_{}_years_after_{}_phase4.tsv\".format(num_years_after_the_target_year,target_year)\n",
    "negative_validation_df.to_csv(outname, sep='\\t')\n",
    "print(\"Number of negative validation links: {}\".format(negative_validation_df.shape[0]) )"
   ]
  },
  {
   "cell_type": "code",
   "execution_count": null,
   "metadata": {},
   "outputs": [],
   "source": []
  }
 ],
 "metadata": {
  "kernelspec": {
   "display_name": "kcet_env",
   "language": "python",
   "name": "kcet_env"
  },
  "language_info": {
   "codemirror_mode": {
    "name": "ipython",
    "version": 3
   },
   "file_extension": ".py",
   "mimetype": "text/x-python",
   "name": "python",
   "nbconvert_exporter": "python",
   "pygments_lexer": "ipython3",
   "version": "3.7.7"
  }
 },
 "nbformat": 4,
 "nbformat_minor": 2
}
