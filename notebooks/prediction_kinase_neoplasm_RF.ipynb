{
 "cells": [
  {
   "cell_type": "code",
   "execution_count": null,
   "metadata": {
    "collapsed": true
   },
   "outputs": [],
   "source": [
    "import pandas as pd\n",
    "import numpy as np\n",
    "import matplotlib.pyplot as plt\n",
    "from sklearn.decomposition import PCA\n",
    "import seaborn as sns\n",
    "from scipy.spatial.distance import cosine\n",
    "from collections import defaultdict\n",
    "from random import randint\n",
    "from sklearn.model_selection import train_test_split\n",
    "from sklearn.ensemble import RandomForestClassifier\n",
    "from sklearn.metrics import roc_auc_score, roc_curve, auc, classification_report\n",
    "from sklearn.model_selection import StratifiedKFold\n",
    "from sklearn.metrics import confusion_matrix, accuracy_score, average_precision_score\n",
    "from sklearn.model_selection import RandomizedSearchCV, GridSearchCV\n"
   ]
  },
  {
   "cell_type": "markdown",
   "metadata": {},
   "source": [
    "In this notebook, we predict new kinase-disease links using the RF classifier. "
   ]
  },
  {
   "cell_type": "markdown",
   "metadata": {},
   "source": [
    "#### Send your gmail address to vidarmehr@gmail.com to have access the files. "
   ]
  },
  {
   "cell_type": "markdown",
   "metadata": {},
   "source": [
    "## Load embeddings"
   ]
  },
  {
   "cell_type": "code",
   "execution_count": null,
   "metadata": {
    "collapsed": true
   },
   "outputs": [],
   "source": [
    "embedding_vectors = np.load(\"data/before2021/Jan2021/embedding_Skipgram_dim100.npy\", mmap_mode=None, allow_pickle=False, fix_imports=True, encoding='ASCII')"
   ]
  },
  {
   "cell_type": "markdown",
   "metadata": {},
   "source": [
    "## Load pubmed words"
   ]
  },
  {
   "cell_type": "code",
   "execution_count": null,
   "metadata": {},
   "outputs": [],
   "source": [
    "words = []\n",
    "word_count = 0\n",
    "with open(\"data/before2021/Jan2021/words.txt\",\"r\") as f:\n",
    "    for line in f:\n",
    "        word = line[2:-3]\n",
    "        words.append(word)\n",
    "        word_count += 1\n",
    "print(\"number of words in pubmed abstracts:{}\".format(word_count))       \n",
    "        "
   ]
  },
  {
   "cell_type": "markdown",
   "metadata": {},
   "source": [
    "## Create a dataframe of words and embeddings "
   ]
  },
  {
   "cell_type": "code",
   "execution_count": null,
   "metadata": {},
   "outputs": [],
   "source": [
    "embeddings = pd.DataFrame(data=embedding_vectors,index = words)\n",
    "embeddings.head(n=10)"
   ]
  },
  {
   "cell_type": "markdown",
   "metadata": {},
   "source": [
    "## Create a map meshid to disease"
   ]
  },
  {
   "cell_type": "code",
   "execution_count": null,
   "metadata": {
    "collapsed": true
   },
   "outputs": [],
   "source": [
    "disease_mesh = pd.read_csv(\"../input/neoplasms_labels.tsv\",  sep= \"\\t\", header = None)"
   ]
  },
  {
   "cell_type": "code",
   "execution_count": null,
   "metadata": {},
   "outputs": [],
   "source": [
    "disease_mesh.head()"
   ]
  },
  {
   "cell_type": "code",
   "execution_count": null,
   "metadata": {
    "collapsed": true
   },
   "outputs": [],
   "source": [
    "meshid2disease_map = defaultdict()\n",
    "for i in disease_mesh.index:\n",
    "        mesh = disease_mesh.iloc[i][0]\n",
    "        mesh_first_letter = mesh[0].lower()\n",
    "        mesh_id = \"mesh\" + mesh_first_letter + mesh[1:]\n",
    "        disease = disease_mesh.iloc[i][1]\n",
    "        meshid2disease_map[mesh_id] = disease\n",
    "        #print(mesh_id,disease)"
   ]
  },
  {
   "cell_type": "markdown",
   "metadata": {},
   "source": [
    "## Create a map ncbigene to gene symbol"
   ]
  },
  {
   "cell_type": "code",
   "execution_count": null,
   "metadata": {
    "collapsed": true
   },
   "outputs": [],
   "source": [
    "kinase_gene_id = pd.read_csv(\"../input/prot_kinase.tsv\",  sep= \"\\t\", header = None)"
   ]
  },
  {
   "cell_type": "code",
   "execution_count": null,
   "metadata": {},
   "outputs": [],
   "source": [
    "kinase_gene_id.head()"
   ]
  },
  {
   "cell_type": "code",
   "execution_count": null,
   "metadata": {
    "collapsed": true
   },
   "outputs": [],
   "source": [
    "ncbigene2symbol_map = defaultdict()\n",
    "for i in kinase_gene_id.index:\n",
    "    gene_symbol = kinase_gene_id.iloc[i][0]\n",
    "    ncbigene = kinase_gene_id.iloc[i][2]\n",
    "    ncbigene_id = \"ncbigene\" + str(ncbigene)\n",
    "    ncbigene2symbol_map[ncbigene_id] = gene_symbol\n",
    "    #print(ncbigene_id,gene_symbol)"
   ]
  },
  {
   "cell_type": "markdown",
   "metadata": {},
   "source": [
    "## Positive training"
   ]
  },
  {
   "cell_type": "code",
   "execution_count": null,
   "metadata": {
    "collapsed": true
   },
   "outputs": [],
   "source": [
    "pos_train_data = pd.read_csv(\"../KCET_positive_2021.tsv\",  sep= \"\\t\")"
   ]
  },
  {
   "cell_type": "code",
   "execution_count": null,
   "metadata": {
    "collapsed": true
   },
   "outputs": [],
   "source": [
    "pos_train = pos_train_data[[\"mesh_id\", \"gene.id\"]]"
   ]
  },
  {
   "cell_type": "code",
   "execution_count": null,
   "metadata": {},
   "outputs": [],
   "source": [
    "pos_train.head()"
   ]
  },
  {
   "cell_type": "markdown",
   "metadata": {},
   "source": [
    "## Calculate the difference between the kinases and mesh ids  "
   ]
  },
  {
   "cell_type": "code",
   "execution_count": null,
   "metadata": {},
   "outputs": [],
   "source": [
    "diff_kinase_mesh_list_pos_train = []\n",
    "diff_index_pos_train = []\n",
    "for i in pos_train.index:\n",
    "    ncbigene_id = pos_train.iloc[i][1]\n",
    "    mesh_id = pos_train.iloc[i][0]\n",
    "    if ncbigene_id in embeddings.index:\n",
    "        ncbigene_id_embedding = embeddings.loc[ncbigene_id]\n",
    "    else:\n",
    "        print(\"The gene {} does not exist in Pubmed\". format(ncbigene_id))\n",
    "    if mesh_id in embeddings.index:\n",
    "        mesh_id_embedding = embeddings.loc[mesh_id]\n",
    "    else:\n",
    "        print(\"The mesh id {} does not exist in Pubmed\". format(mesh_id))   \n",
    "    if ncbigene_id in embeddings.index and mesh_id in embeddings.index:     \n",
    "        diff_kinase_mesh = np.subtract(ncbigene_id_embedding, mesh_id_embedding)\n",
    "        diff_kinase_mesh_list_pos_train.append(diff_kinase_mesh)\n",
    "        diff_index_pos_train.append(ncbigene_id + \",\" + mesh_id)"
   ]
  },
  {
   "cell_type": "markdown",
   "metadata": {},
   "source": [
    "## Create a new dataframe, each row index is the ncbigene_id and mesh_id and the columns represent a diff vector between the vector of ncbigene_id and the vector of mesh_id"
   ]
  },
  {
   "cell_type": "code",
   "execution_count": null,
   "metadata": {},
   "outputs": [],
   "source": [
    "diff_kinase_mesh_pos_train_data = pd.DataFrame(diff_kinase_mesh_list_pos_train, index = diff_index_pos_train) \n",
    "diff_kinase_mesh_pos_train_data.head()"
   ]
  },
  {
   "cell_type": "code",
   "execution_count": null,
   "metadata": {},
   "outputs": [],
   "source": [
    "diff_kinase_mesh_pos_train_data.shape\n"
   ]
  },
  {
   "cell_type": "markdown",
   "metadata": {},
   "source": [
    "#  Predictions"
   ]
  },
  {
   "cell_type": "code",
   "execution_count": null,
   "metadata": {
    "collapsed": true
   },
   "outputs": [],
   "source": [
    "prediction = pd.read_csv(\"../KCET_prediction_2021.tsv\",  sep= \"\\t\")"
   ]
  },
  {
   "cell_type": "code",
   "execution_count": null,
   "metadata": {},
   "outputs": [],
   "source": [
    "prediction.head()"
   ]
  },
  {
   "cell_type": "code",
   "execution_count": null,
   "metadata": {},
   "outputs": [],
   "source": [
    "prediction.shape"
   ]
  },
  {
   "cell_type": "markdown",
   "metadata": {},
   "source": [
    "## Calculate the difference between the kinases and mesh id "
   ]
  },
  {
   "cell_type": "code",
   "execution_count": null,
   "metadata": {},
   "outputs": [],
   "source": [
    "diff_kinase_mesh_list_prediction = []\n",
    "diff_index_prediction = []\n",
    "\n",
    "for i in prediction.index:\n",
    "    ncbigene_id = prediction.iloc[i][2]\n",
    "    mesh_id = prediction.iloc[i][1]\n",
    "    if ncbigene_id in embeddings.index:\n",
    "        ncbigene_id_embedding = embeddings.loc[ncbigene_id]\n",
    "    else:\n",
    "        print(\"The gene {} does not exist in Pubmed\". format(ncbigene_id))\n",
    "    if mesh_id in embeddings.index:\n",
    "        mesh_id_embedding = embeddings.loc[mesh_id]\n",
    "    else:\n",
    "        print(\"The mesh id {} does not exist in Pubmed\". format(mesh_id)) \n",
    "    if ncbigene_id in embeddings.index and mesh_id in embeddings.index:    \n",
    "        diff_kinase_mesh = np.subtract(ncbigene_id_embedding, mesh_id_embedding)\n",
    "        diff_kinase_mesh_list_prediction.append(diff_kinase_mesh)\n",
    "        diff_index_prediction.append(ncbigene_id + \",\" + mesh_id)\n"
   ]
  },
  {
   "cell_type": "markdown",
   "metadata": {},
   "source": [
    "## Create a new dataframe, each row index is the ncbigene_id and mesh_id and the columns represent a diff vector between the vector of ncbigene_id and the vector of mesh_id"
   ]
  },
  {
   "cell_type": "code",
   "execution_count": null,
   "metadata": {
    "collapsed": true
   },
   "outputs": [],
   "source": [
    "diff_kinase_mesh_prediction_data = pd.DataFrame(diff_kinase_mesh_list_prediction, index = diff_index_prediction) "
   ]
  },
  {
   "cell_type": "code",
   "execution_count": null,
   "metadata": {},
   "outputs": [],
   "source": [
    "diff_kinase_mesh_prediction_data.head()\n"
   ]
  },
  {
   "cell_type": "markdown",
   "metadata": {},
   "source": [
    "## Negative training \n"
   ]
  },
  {
   "cell_type": "code",
   "execution_count": null,
   "metadata": {
    "collapsed": true
   },
   "outputs": [],
   "source": [
    "neg_train = pd.read_csv(\"../KCET_negative_2021.tsv\",  sep= \"\\t\")"
   ]
  },
  {
   "cell_type": "code",
   "execution_count": null,
   "metadata": {},
   "outputs": [],
   "source": [
    "neg_train.head()"
   ]
  },
  {
   "cell_type": "code",
   "execution_count": null,
   "metadata": {},
   "outputs": [],
   "source": [
    "neg_train.shape"
   ]
  },
  {
   "cell_type": "markdown",
   "metadata": {},
   "source": [
    "## Calculate the difference between the kinases and mesh id "
   ]
  },
  {
   "cell_type": "code",
   "execution_count": null,
   "metadata": {},
   "outputs": [],
   "source": [
    "diff_kinase_mesh_list_neg_train = []\n",
    "diff_index_neg_train = []\n",
    "for i in neg_train.index:\n",
    "    ncbigene_id = neg_train.iloc[i][2]\n",
    "    mesh_id = neg_train.iloc[i][1]\n",
    "    if ncbigene_id in embeddings.index:\n",
    "        ncbigene_id_embedding = embeddings.loc[ncbigene_id]\n",
    "    else:\n",
    "        print(\"The gene {} does not exist in Pubmed\". format(ncbigene_id))\n",
    "    if mesh_id in embeddings.index:\n",
    "        mesh_id_embedding = embeddings.loc[mesh_id]\n",
    "    else:\n",
    "        print(\"The disease {} does not exist in Pubmed\". format(mesh_id)) \n",
    "    if ncbigene_id in embeddings.index and mesh_id in embeddings.index:    \n",
    "        diff_kinase_mesh = np.subtract(ncbigene_id_embedding, mesh_id_embedding)\n",
    "        diff_kinase_mesh_list_neg_train.append(diff_kinase_mesh)\n",
    "        diff_index_neg_train.append(ncbigene_id + \",\" + mesh_id)\n"
   ]
  },
  {
   "cell_type": "markdown",
   "metadata": {},
   "source": [
    "## Create a new dataframe, each row index is the ncbigene_id and mesh_id and the columns represent a diff vector between the vector of ncbigene_id and the vector of mesh_id"
   ]
  },
  {
   "cell_type": "code",
   "execution_count": null,
   "metadata": {
    "collapsed": true
   },
   "outputs": [],
   "source": [
    "diff_kinase_mesh_neg_train_data = pd.DataFrame(diff_kinase_mesh_list_neg_train, index = diff_index_neg_train) "
   ]
  },
  {
   "cell_type": "code",
   "execution_count": null,
   "metadata": {},
   "outputs": [],
   "source": [
    "diff_kinase_mesh_neg_train_data.head()"
   ]
  },
  {
   "cell_type": "code",
   "execution_count": null,
   "metadata": {},
   "outputs": [],
   "source": [
    "diff_kinase_mesh_neg_train_data.shape"
   ]
  },
  {
   "cell_type": "markdown",
   "metadata": {},
   "source": [
    "## Ceate trianing data by concatinating positive and negative training data"
   ]
  },
  {
   "cell_type": "code",
   "execution_count": null,
   "metadata": {
    "collapsed": true
   },
   "outputs": [],
   "source": [
    "train_data = [diff_kinase_mesh_pos_train_data,diff_kinase_mesh_neg_train_data]\n",
    "X_train = pd.concat(train_data)"
   ]
  },
  {
   "cell_type": "markdown",
   "metadata": {},
   "source": [
    "## Create labels for training data (label 1 for positive, 0 for negative data)"
   ]
  },
  {
   "cell_type": "code",
   "execution_count": null,
   "metadata": {
    "collapsed": true
   },
   "outputs": [],
   "source": [
    "label_1 = np.ones(diff_kinase_mesh_pos_train_data.shape[0])\n",
    "label_0 = np.zeros(diff_kinase_mesh_neg_train_data.shape[0])\n",
    "label_train = np.concatenate((label_1,label_0))\n",
    "y_train = label_train"
   ]
  },
  {
   "cell_type": "markdown",
   "metadata": {},
   "source": [
    "## Ceate test data (predictions) "
   ]
  },
  {
   "cell_type": "code",
   "execution_count": null,
   "metadata": {
    "collapsed": true
   },
   "outputs": [],
   "source": [
    "X_test = diff_kinase_mesh_prediction_data"
   ]
  },
  {
   "cell_type": "markdown",
   "metadata": {},
   "source": [
    "## Create labels for prediction data"
   ]
  },
  {
   "cell_type": "code",
   "execution_count": null,
   "metadata": {
    "collapsed": true
   },
   "outputs": [],
   "source": [
    "label_test = np.ones(diff_kinase_mesh_prediction_data.shape[0])\n",
    "y_test = label_test"
   ]
  },
  {
   "cell_type": "markdown",
   "metadata": {},
   "source": [
    "## Random Forest classifeir"
   ]
  },
  {
   "cell_type": "code",
   "execution_count": null,
   "metadata": {
    "collapsed": true
   },
   "outputs": [],
   "source": [
    "param_grid = {\n",
    "                 'n_estimators': [10, 20, 50, 100, 150, 200],\n",
    "                # 'min_samples_leaf': np.linspace(0.1, 0.5, 5, endpoint=True),\n",
    "                # 'max_depth' : np.linspace(1, 10, 5, endpoint=True),\n",
    "             }"
   ]
  },
  {
   "cell_type": "code",
   "execution_count": null,
   "metadata": {},
   "outputs": [],
   "source": [
    "clf=RandomForestClassifier()\n",
    "random_clf = GridSearchCV(clf, param_grid, cv=10)\n",
    "random_clf.fit(X_train,y_train)"
   ]
  },
  {
   "cell_type": "code",
   "execution_count": null,
   "metadata": {
    "collapsed": true
   },
   "outputs": [],
   "source": [
    "best_model = random_clf.best_estimator_"
   ]
  },
  {
   "cell_type": "code",
   "execution_count": null,
   "metadata": {},
   "outputs": [],
   "source": [
    "y_pred=best_model.predict(X_test)\n",
    "y_pred"
   ]
  },
  {
   "cell_type": "code",
   "execution_count": null,
   "metadata": {},
   "outputs": [],
   "source": [
    "yproba = best_model.predict_proba(X_test)[::,1]\n",
    "yproba"
   ]
  },
  {
   "cell_type": "code",
   "execution_count": null,
   "metadata": {},
   "outputs": [],
   "source": [
    "X_test"
   ]
  },
  {
   "cell_type": "code",
   "execution_count": null,
   "metadata": {},
   "outputs": [],
   "source": [
    "best_model.predict_proba(X_test)"
   ]
  },
  {
   "cell_type": "code",
   "execution_count": null,
   "metadata": {
    "collapsed": true
   },
   "outputs": [],
   "source": [
    "gene_symbol_list = []\n",
    "cancer_list = []\n",
    "for vec in X_test.index:\n",
    "    fields = vec.split(\",\")\n",
    "    ncbi_gene = fields[0]\n",
    "    mesh_cancer = fields[1]\n",
    "    #print(mesh_cancer)\n",
    "    gene_symbol = ncbigene2symbol_map[ncbi_gene]\n",
    "    gene_symbol_list.append(gene_symbol)\n",
    "    cancer = meshid2disease_map[mesh_cancer]\n",
    "    cancer_list.append(cancer)\n"
   ]
  },
  {
   "cell_type": "code",
   "execution_count": null,
   "metadata": {
    "collapsed": true
   },
   "outputs": [],
   "source": [
    "X_test.insert(0,\"gene_symbol\", gene_symbol_list, True)\n",
    "X_test.insert(1,\"cancer\", cancer_list, True)\n",
    "X_test.insert(2,\"probability\",yproba, True)"
   ]
  },
  {
   "cell_type": "code",
   "execution_count": null,
   "metadata": {},
   "outputs": [],
   "source": [
    "X_test.head()"
   ]
  },
  {
   "cell_type": "code",
   "execution_count": null,
   "metadata": {},
   "outputs": [],
   "source": [
    "sorted_X_test = X_test.sort_values(by=['probability'],ascending=False)\n",
    "sorted_X_test.head()"
   ]
  },
  {
   "cell_type": "code",
   "execution_count": null,
   "metadata": {
    "collapsed": true
   },
   "outputs": [],
   "source": [
    "top_predictions = sorted_X_test[[\"gene_symbol\",\"cancer\",\"probability\"]]"
   ]
  },
  {
   "cell_type": "code",
   "execution_count": null,
   "metadata": {},
   "outputs": [],
   "source": [
    "top_predictions.head(n=20)"
   ]
  },
  {
   "cell_type": "code",
   "execution_count": null,
   "metadata": {
    "collapsed": true
   },
   "outputs": [],
   "source": [
    "top_predictions.to_csv(\"top_predictions_2021.tsv\",index=False,sep=\"\\t\")"
   ]
  },
  {
   "cell_type": "markdown",
   "metadata": {},
   "source": [
    "## Read dark kinases. The file was obtained from https://schurerlab.shinyapps.io/CKIApp/ "
   ]
  },
  {
   "cell_type": "code",
   "execution_count": null,
   "metadata": {},
   "outputs": [],
   "source": [
    "dark_kinase_list = pd.read_csv(\"dark_kinases.csv\")[\"Gene\"].to_list()\n",
    "dark_kinase = set(dark_kinase_list)\n",
    "print(\"There are {} dark kianses\".format(len(dark_kinase)))"
   ]
  },
  {
   "cell_type": "code",
   "execution_count": null,
   "metadata": {},
   "outputs": [],
   "source": [
    "dark_kinase"
   ]
  },
  {
   "cell_type": "code",
   "execution_count": null,
   "metadata": {},
   "outputs": [],
   "source": [
    "dk_list = []\n",
    "cancer_list = []\n",
    "prob_list = []\n",
    "index_list = []\n",
    "#ratio_list = []\n",
    "for i in range(top_predictions.shape[0]):\n",
    "    if top_predictions.iloc[i][\"gene_symbol\"] in dark_kinase and top_predictions.iloc[i][\"probability\"] > 0:\n",
    "        dk_list.append(top_predictions.iloc[i][\"gene_symbol\"])\n",
    "        cancer_list.append(top_predictions.iloc[i][\"cancer\"])\n",
    "        prob_list.append(top_predictions.iloc[i][\"probability\"])\n",
    "        index_list.append(i)\n",
    "        #ratio_list.append(i/top_predictions.shape[0])\n",
    "        print(top_predictions.iloc[i][\"gene_symbol\"])\n",
    "dark_kinase_cancer_prob = pd.DataFrame(list(zip(dk_list, cancer_list, prob_list, index_list)),columns= [\"dark_kinase\", 'cancer', 'probability', 'index(rank)'])\n",
    "dark_kinase_cancer_prob.head()"
   ]
  },
  {
   "cell_type": "code",
   "execution_count": null,
   "metadata": {
    "collapsed": true
   },
   "outputs": [],
   "source": [
    "dark_kinase_cancer_prob.to_csv(\"dark_kinase_cancer_prob.tsv\", sep =\"\\t\", index= False)"
   ]
  },
  {
   "cell_type": "markdown",
   "metadata": {},
   "source": [
    "## Histogram of probabilities "
   ]
  },
  {
   "cell_type": "code",
   "execution_count": null,
   "metadata": {},
   "outputs": [],
   "source": [
    "import matplotlib.pyplot as plt\n",
    "from numpy import array\n",
    "gn=array(top_predictions.loc[top_predictions[\"probability\"] < 1][\"probability\"])\n",
    "plt.hist(gn.astype('float'))\n",
    "plt.show()"
   ]
  },
  {
   "cell_type": "markdown",
   "metadata": {},
   "source": [
    "## Find dark kinases that have predicted LSI pairs"
   ]
  },
  {
   "cell_type": "code",
   "execution_count": null,
   "metadata": {},
   "outputs": [],
   "source": [
    "def FindOverlapSliPubmedPredictions(sli_predictions_path,dark_kinase_cancer_predictions_path, common_kinases_output, score):\n",
    "    gene1_sli = pd.read_csv(sli_predictions_path, sep = \",\")['sources'].tolist()\n",
    "    gene2_sli = pd.read_csv(sli_predictions_path, sep = \",\")['destinations'].tolist()\n",
    "    sli_score_list = pd.read_csv(sli_predictions_path, sep = \",\")['score'].tolist()\n",
    "\n",
    "    dark_kinase_cancer_predictions = pd.read_csv(dark_kinase_cancer_predictions_path, sep = \"\\t\")\n",
    "    dark_kinases_predicted = dark_kinase_cancer_predictions[\"dark_kinase\"].tolist()\n",
    "    cancer = dark_kinase_cancer_predictions[\"cancer\"].tolist()\n",
    "    prob = dark_kinase_cancer_predictions[\"probability\"].tolist()\n",
    "    print(len(gene1_sli))\n",
    "    minimum_score = score\n",
    "    common_kinase = []\n",
    "    gene1 = []\n",
    "    gene2 = []\n",
    "    sli_score = []\n",
    "    probability_score_RF = []\n",
    "    cancers = []\n",
    "    for i in range(len(dark_kinases_predicted)):\n",
    "        for j in range(len(gene1_sli)):\n",
    "            if gene1_sli[j] == dark_kinases_predicted[i] or gene2_sli[j] == dark_kinases_predicted[i]:\n",
    "                if sli_score_list[j] > minimum_score:\n",
    "                    common_kinase.append(dark_kinases_predicted[i])\n",
    "                    gene1.append(gene1_sli[j])\n",
    "                    gene2.append(gene2_sli[j])\n",
    "                    sli_score.append(sli_score_list[j])\n",
    "                    probability_score_RF.append(prob[i])\n",
    "                    cancers.append(cancer[i])\n",
    "                    #print(dark_kinases_predicted[j],gene1_sli[i],gene2_sli[i],dark_kinase_cancer_predictions.iloc[j][\"cancer\"],sli_score_list[i], dark_kinase_cancer_predictions.iloc[j][\"probability\"])\n",
    "                    \n",
    "\n",
    "    common_kinases = pd.DataFrame(list(zip(common_kinase,  probability_score_RF, cancers,gene1, gene2, sli_score )),\n",
    "               columns =['dark_kinase', 'probability_RF_classifier', 'cancer','kinase_1_SLI', 'kinase_2_SLI', 'sli_score'])\n",
    "    sorted_common_kinases = common_kinases.sort_values(by=['sli_score'],ascending=False)\n",
    "    print(sorted_common_kinases.head(n=10))\n",
    "    sorted_common_kinases.to_csv(common_kinases_output, sep = \"\\t\", index = False)\n",
    "    #print(common_genes_high_score.head(n=100))"
   ]
  },
  {
   "cell_type": "code",
   "execution_count": null,
   "metadata": {},
   "outputs": [],
   "source": [
    "score = 0.0001\n",
    "predicted_sli_path = \"new_predicted_SLI_edges_from_depmap.csv\"\n",
    "dark_kinase_cancer_path = \"dark_kinase_cancer_prob.tsv\"\n",
    "output_path = \"common_kinases_sli_depmap_dark_kinase.tsv\"\n",
    "FindOverlapSliPubmedPredictions(predicted_sli_path,dark_kinase_cancer_path , \n",
    "                                output_path,score) \n",
    "                                "
   ]
  },
  {
   "cell_type": "code",
   "execution_count": null,
   "metadata": {},
   "outputs": [],
   "source": [
    "score = 0.0001\n",
    "predicted_sli_path = \"new_predicted_SLI_edges_from_string_ppi.csv\"\n",
    "dark_kinase_cancer_path = \"dark_kinase_cancer_prob.tsv\"\n",
    "output_path = \"common_kinases_sli_string_ppi_dark_kinase.tsv\"\n",
    "FindOverlapSliPubmedPredictions(predicted_sli_path,dark_kinase_cancer_path , \n",
    "                                output_path,score) "
   ]
  }
 ],
 "metadata": {
  "kernelspec": {
   "display_name": "p38",
   "language": "python",
   "name": "p38"
  },
  "language_info": {
   "codemirror_mode": {
    "name": "ipython",
    "version": 3
   },
   "file_extension": ".py",
   "mimetype": "text/x-python",
   "name": "python",
   "nbconvert_exporter": "python",
   "pygments_lexer": "ipython3",
   "version": "3.7.3"
  }
 },
 "nbformat": 4,
 "nbformat_minor": 2
}
