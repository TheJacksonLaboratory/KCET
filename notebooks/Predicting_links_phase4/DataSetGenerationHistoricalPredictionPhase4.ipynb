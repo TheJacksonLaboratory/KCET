{
 "cells": [
  {
   "cell_type": "markdown",
   "metadata": {},
   "source": [
    "# Data set Generation\n",
    "\n",
    "This notebook shows how to generate datasets for the historical validation. We choose a year and get all available phase 4 clinical trials for test and training on this dataset. We additionally export files with positive data for all subsequent years of phase 4. As negative data, we choose all combinations of kinases and cancers that have remained negative up to the present day."
   ]
  },
  {
   "cell_type": "code",
   "execution_count": 1,
   "metadata": {},
   "outputs": [],
   "source": [
    "import pandas as pd\n",
    "import os\n",
    "import sys\n",
    "sys.path.insert(0, os.path.abspath('../..'))\n",
    "from kcet import KcetDatasetGenerator"
   ]
  },
  {
   "cell_type": "markdown",
   "metadata": {},
   "source": [
    "# Input file. \n",
    "We have placed a version of ``clinical_trials_by_phase.tsv`` into the ``data`` subfolder in the ``notebooks`` subfolder of kcet."
   ]
  },
  {
   "cell_type": "code",
   "execution_count": 2,
   "metadata": {},
   "outputs": [],
   "source": [
    "ctfile = os.path.abspath(os.path.join('../data', 'clinical_trials_by_phase.tsv'))"
   ]
  },
  {
   "cell_type": "markdown",
   "metadata": {},
   "source": [
    "## target year\n",
    "In this example, we show how to extract datasets for a target year."
   ]
  },
  {
   "cell_type": "code",
   "execution_count": 3,
   "metadata": {},
   "outputs": [],
   "source": [
    "target_year = 2010\n",
    "mid_year = 2011\n",
    "num_years_after_the_mid_year = 1"
   ]
  },
  {
   "cell_type": "code",
   "execution_count": 4,
   "metadata": {
    "scrolled": true
   },
   "outputs": [
    {
     "name": "stdout",
     "output_type": "stream",
     "text": [
      "[INFO] Reading protein kinase information from /Users/ravanv/PycharmProjects/KCET/input/prot_kinase.tsv\n",
      "[INFO] ingested symbol_to_id_map with 522 entries such as {'NCBIGene:2870': 'GRK6'}\n",
      "[INFO] Ingested mesh_id list with 698 entries such as 'meshd000008' and 'meshd000069293', \n",
      "[INFO] Ingested _meshid2disease_map with 698 entries\n",
      "[INFO] Ingested meshid2disease_map with 514 entries\n",
      "[INFO] Ingested pki_to_kinase with 76 entries\n",
      "[INFO] Parsed data for the following medications:\n",
      "[INFO] cobimetinib\n",
      "[INFO] tucatinib\n",
      "[INFO] copanlisib\n",
      "[INFO] nilotinib\n",
      "[INFO] abemaciclib\n",
      "[INFO] amlexanox\n",
      "[INFO] nintedanib\n",
      "[INFO] imatinib\n",
      "[INFO] sirolimus\n",
      "[INFO] icotinib\n",
      "[INFO] vandetanib\n",
      "[INFO] avapritinib\n",
      "[INFO] zanubrutinib\n",
      "[INFO] erlotinib\n",
      "[INFO] osimertinib\n",
      "[INFO] crizotinib\n",
      "[INFO] ribociclib\n",
      "[INFO] tivozanib\n",
      "[INFO] trametinib\n",
      "[INFO] alpelisib\n",
      "[INFO] larotrectinib\n",
      "[INFO] acalabrutinib\n",
      "[INFO] axitinib\n",
      "[INFO] everolimus\n",
      "[INFO] binimetinib\n",
      "[INFO] bosutinib\n",
      "[INFO] afatinib\n",
      "[INFO] selumetinib\n",
      "[INFO] regorafenib\n",
      "[INFO] ponatinib\n",
      "[INFO] palbociclib\n",
      "[INFO] vemurafenib\n",
      "[INFO] neratinib\n",
      "[INFO] entrectinib\n",
      "[INFO] ramucirumab\n",
      "[INFO] ruxolitinib\n",
      "[INFO] quizartinib\n",
      "[INFO] sorafenib\n",
      "[INFO] alectinib\n",
      "[INFO] cetuximab\n",
      "[INFO] fostamatinib\n",
      "[INFO] lapatinib\n",
      "[INFO] lorlatinib\n",
      "[INFO] dacomitinib\n",
      "[INFO] panitumumab\n",
      "[INFO] gefitinib\n",
      "[INFO] pexidartinib\n",
      "[INFO] pertuzumab\n",
      "[INFO] trastuzumab\n",
      "[INFO] olmutinib\n",
      "[INFO] apatinib\n",
      "[INFO] duvelisib\n",
      "[INFO] midostaurin\n",
      "[INFO] tofacitinib\n",
      "[INFO] erdafitinib\n",
      "[INFO] necitumumab\n",
      "[INFO] ibrutinib\n",
      "[INFO] pemigatinib\n",
      "[INFO] ceritinib\n",
      "[INFO] dabrafenib\n",
      "[INFO] fedratinib\n",
      "[INFO] lenvatinib\n",
      "[INFO] brigatinib\n",
      "[INFO] encorafenib\n",
      "[INFO] sunitinib\n",
      "[INFO] cabozantinib\n",
      "[INFO] olaratumab\n",
      "[INFO] gilteritinib\n",
      "[INFO] pazopanib\n",
      "[INFO] dasatinib\n"
     ]
    }
   ],
   "source": [
    "dsGen = KcetDatasetGenerator(clinical_trials=ctfile)"
   ]
  },
  {
   "cell_type": "code",
   "execution_count": 5,
   "metadata": {},
   "outputs": [
    {
     "name": "stdout",
     "output_type": "stream",
     "text": [
      "Skipping random link(ncbigene5156,meshd015470) since we found it in the positive set\n",
      "Skipping random link(ncbigene3815,meshd018365) since we found it in the positive set\n",
      "Skipping random link(ncbigene2051,meshd009182) since we found it in the positive set\n",
      "Skipping random link(ncbigene5156,meshd007414) since we found it in the positive set\n",
      "Skipping random link(ncbigene9263,meshd005910) since we found it in the positive set\n",
      "Skipping random link(ncbigene4067,meshd007951) since we found it in the positive set\n",
      "Skipping random link(ncbigene780,meshd012514) since we found it in the positive set\n",
      "Skipping random link(ncbigene2322,meshd000069293) since we found it in the positive set\n",
      "Skipping random link(ncbigene3791,meshd009101) since we found it in the positive set\n",
      "Skipping random link(ncbigene780,meshd009447) since we found it in the positive set\n",
      "Skipping random link(ncbigene2322,meshd008175) since we found it in the positive set\n",
      "Skipping random link(ncbigene1956,meshd009837) since we found it in the positive set\n",
      "Skipping random link(ncbigene5894,meshd009101) since we found it in the positive set\n",
      "Skipping random link(ncbigene3932,meshd008223) since we found it in the positive set\n",
      "Skipping random link(ncbigene9263,meshd018240) since we found it in the positive set\n",
      "Skipping random link(ncbigene6793,meshd008175) since we found it in the positive set\n",
      "[INFO] We generated a negative set with 1350 examples (the positive set has 4087)\n",
      "Skipping  link (ncbigene25,meshd008415) since we found it in the positive all phases set\n",
      "Skipping  link (ncbigene1956,meshd000230) since we found it in the positive all phases set\n",
      "Skipping  link (ncbigene2475,meshd018358) since we found it in the positive all phases set\n",
      "Skipping  link (ncbigene2580,meshd002292) since we found it in the positive all phases set\n",
      "Skipping  link (ncbigene5979,meshd013964) since we found it in the positive all phases set\n",
      "Skipping  link (ncbigene3932,meshd007938) since we found it in the positive all phases set\n",
      "Skipping  link (ncbigene2064,meshd001943) since we found it in the positive all phases set\n",
      "Skipping  link (ncbigene673,meshd008545) since we found it in the positive all phases set\n",
      "Skipping  link (ncbigene2042,meshd007951) since we found it in the positive all phases set\n",
      "Skipping  link (ncbigene5156,meshd002292) since we found it in the positive all phases set\n",
      "Skipping  link (ncbigene27,meshd007938) since we found it in the positive all phases set\n",
      "Skipping  link (ncbigene2064,meshd013274) since we found it in the positive all phases set\n",
      "Skipping  link (ncbigene1956,meshd002292) since we found it in the positive all phases set\n",
      "Skipping  link (ncbigene5159,meshd007516) since we found it in the positive all phases set\n",
      "Skipping  link (ncbigene2475,meshd008223) since we found it in the positive all phases set\n",
      "Skipping  link (ncbigene80122,meshd000077192) since we found it in the positive all phases set\n",
      "Skipping  link (ncbigene3791,meshd018358) since we found it in the positive all phases set\n",
      "Skipping  link (ncbigene2322,meshd009362) since we found it in the positive all phases set\n",
      "Skipping  link (ncbigene2051,meshd007938) since we found it in the positive all phases set\n",
      "Skipping  link (ncbigene2051,meshd007951) since we found it in the positive all phases set\n",
      "Skipping  link (ncbigene3932,meshd015466) since we found it in the positive all phases set\n",
      "Skipping  link (ncbigene3815,meshd007516) since we found it in the positive all phases set\n",
      "Skipping  link (ncbigene2042,meshd015466) since we found it in the positive all phases set\n",
      "Skipping  link (ncbigene1436,meshd002277) since we found it in the positive all phases set\n",
      "Skipping  link (ncbigene3815,meshd008415) since we found it in the positive all phases set\n",
      "Skipping  link (ncbigene2051,meshd015466) since we found it in the positive all phases set\n",
      "Skipping  link (ncbigene27,meshd008415) since we found it in the positive all phases set\n",
      "Skipping  link (ncbigene2475,meshd001943) since we found it in the positive all phases set\n",
      "Skipping  link (ncbigene5156,meshd002277) since we found it in the positive all phases set\n",
      "Skipping  link (ncbigene1956,meshd013964) since we found it in the positive all phases set\n",
      "Skipping  link (ncbigene3791,meshd007516) since we found it in the positive all phases set\n",
      "Skipping  link (ncbigene1956,meshd046152) since we found it in the positive all phases set\n",
      "Skipping  link (ncbigene1436,meshd034721) since we found it in the positive all phases set\n",
      "Skipping  link (ncbigene2580,meshd000077192) since we found it in the positive all phases set\n",
      "Skipping  link (ncbigene780,meshd008415) since we found it in the positive all phases set\n",
      "Skipping  link (ncbigene6793,meshd046152) since we found it in the positive all phases set\n",
      "Skipping  link (ncbigene2322,meshd018358) since we found it in the positive all phases set\n",
      "Skipping  link (ncbigene27,meshd007951) since we found it in the positive all phases set\n",
      "Skipping  link (ncbigene27,meshd015466) since we found it in the positive all phases set\n",
      "Skipping  link (ncbigene780,meshd009362) since we found it in the positive all phases set\n",
      "Skipping  link (ncbigene2580,meshd000230) since we found it in the positive all phases set\n",
      "Skipping  link (ncbigene6793,meshd000230) since we found it in the positive all phases set\n",
      "Skipping  link (ncbigene3932,meshd007951) since we found it in the positive all phases set\n",
      "Skipping  link (ncbigene640,meshd015466) since we found it in the positive all phases set\n",
      "Skipping  link (ncbigene80122,meshd000230) since we found it in the positive all phases set\n",
      "Skipping  link (ncbigene9748,meshd002292) since we found it in the positive all phases set\n",
      "Skipping  link (ncbigene5159,meshd002292) since we found it in the positive all phases set\n",
      "Skipping  link (ncbigene1436,meshd002292) since we found it in the positive all phases set\n",
      "Skipping  link (ncbigene6793,meshd000077192) since we found it in the positive all phases set\n",
      "Skipping  link (ncbigene5159,meshd002277) since we found it in the positive all phases set\n",
      "Skipping  link (ncbigene1956,meshd002289) since we found it in the positive all phases set\n",
      "Skipping  link (ncbigene3815,meshd018358) since we found it in the positive all phases set\n",
      "Skipping  link (ncbigene25,meshd034721) since we found it in the positive all phases set\n",
      "Skipping  link (ncbigene27,meshd015464) since we found it in the positive all phases set\n",
      "Skipping  link (ncbigene2475,meshd020522) since we found it in the positive all phases set\n",
      "Skipping  link (ncbigene3815,meshd002292) since we found it in the positive all phases set\n",
      "Skipping  link (ncbigene780,meshd013964) since we found it in the positive all phases set\n",
      "Skipping  link (ncbigene80122,meshd002292) since we found it in the positive all phases set\n",
      "Skipping  link (ncbigene9748,meshd000230) since we found it in the positive all phases set\n",
      "Skipping  link (ncbigene3791,meshd009362) since we found it in the positive all phases set\n",
      "Skipping  link (ncbigene25,meshd013964) since we found it in the positive all phases set\n",
      "Skipping  link (ncbigene3815,meshd002277) since we found it in the positive all phases set\n",
      "Skipping  link (ncbigene5159,meshd018358) since we found it in the positive all phases set\n",
      "Skipping  link (ncbigene6793,meshd002292) since we found it in the positive all phases set\n",
      "Skipping  link (ncbigene1436,meshd008415) since we found it in the positive all phases set\n",
      "Skipping  link (ncbigene640,meshd007938) since we found it in the positive all phases set\n",
      "Skipping  link (ncbigene9748,meshd000077192) since we found it in the positive all phases set\n",
      "Skipping  link (ncbigene2042,meshd007938) since we found it in the positive all phases set\n",
      "Skipping  link (ncbigene2321,meshd002277) since we found it in the positive all phases set\n",
      "Skipping  link (ncbigene3815,meshd034721) since we found it in the positive all phases set\n",
      "Skipping  link (ncbigene9263,meshd007516) since we found it in the positive all phases set\n",
      "Skipping  link (ncbigene147746,meshd009362) since we found it in the positive all phases set\n",
      "Skipping  link (ncbigene2321,meshd002292) since we found it in the positive all phases set\n",
      "Skipping  link (ncbigene9748,meshd046152) since we found it in the positive all phases set\n",
      "Skipping  link (ncbigene2051,meshd015464) since we found it in the positive all phases set\n",
      "Skipping  link (ncbigene2475,meshd008175) since we found it in the positive all phases set\n",
      "Skipping  link (ncbigene2580,meshd046152) since we found it in the positive all phases set\n",
      "Skipping  link (ncbigene3932,meshd015464) since we found it in the positive all phases set\n",
      "Skipping  link (ncbigene5894,meshd009362) since we found it in the positive all phases set\n",
      "Skipping  link (ncbigene780,meshd034721) since we found it in the positive all phases set\n",
      "Skipping  link (ncbigene1956,meshd006258) since we found it in the positive all phases set\n",
      "Skipping  link (ncbigene640,meshd007951) since we found it in the positive all phases set\n",
      "Skipping  link (ncbigene2322,meshd007516) since we found it in the positive all phases set\n",
      "Skipping  link (ncbigene80122,meshd046152) since we found it in the positive all phases set\n",
      "Skipping  link (ncbigene2475,meshd008228) since we found it in the positive all phases set\n",
      "Skipping  link (ncbigene27,meshd034721) since we found it in the positive all phases set\n",
      "Skipping  link (ncbigene1956,meshd000077192) since we found it in the positive all phases set\n",
      "Skipping  link (ncbigene2042,meshd015464) since we found it in the positive all phases set\n",
      "Skipping  link (ncbigene640,meshd015464) since we found it in the positive all phases set\n",
      "Skipping  link (ncbigene9263,meshd018358) since we found it in the positive all phases set\n",
      "Skipping  link (ncbigene8767,meshd013964) since we found it in the positive all phases set\n"
     ]
    },
    {
     "name": "stdout",
     "output_type": "stream",
     "text": [
      "Skipping random link (ncbigene80122,meshd003528) since we found it in the positive set\n",
      "Skipping random link (ncbigene2049,meshd005185) since we already added it to the negative set\n",
      "Skipping random link (ncbigene2051,meshd005870) since we found it in the positive set\n",
      "Skipping random link (ncbigene10595,meshd001353) since we already added it to the negative set\n",
      "Skipping random link (ncbigene51776,meshd000070779) since we found it in the positive set\n",
      "Skipping random link (ncbigene27,meshd009182) since we found it in the positive set\n",
      "Skipping random link (ncbigene29110,meshd010181) since we already added it to the negative set\n",
      "Skipping random link (ncbigene8621,meshd000310) since we already added it to the negative set\n",
      "Skipping random link (ncbigene8408,meshd059545) since we already added it to the negative set\n",
      "Skipping random link (ncbigene55359,meshd046152) since we already added it to the negative set\n",
      "Skipping random link (ncbigene9263,meshd058922) since we found it in the positive set\n",
      "Skipping random link (ncbigene9263,meshd013724) since we found it in the positive set\n",
      "Skipping random link (ncbigene167359,meshd018287) since we already added it to the negative set\n",
      "Skipping random link (ncbigene9344,meshd012510) since we already added it to the negative set\n",
      "Skipping random link (ncbigene3791,meshd010954) since we found it in the positive set\n",
      "Skipping random link (ncbigene27,meshd016411) since we found it in the positive set\n",
      "Skipping random link (ncbigene2322,meshd009423) since we found it in the positive set\n",
      "Skipping random link (ncbigene5605,meshd001948) since we found it in the positive set\n",
      "Skipping random link (ncbigene5165,meshd009232) since we already added it to the negative set\n",
      "Skipping random link (ncbigene1436,meshd034721) since we found it in the positive set\n",
      "Skipping random link (ncbigene2868,meshd012811) since we already added it to the negative set\n",
      "Skipping random link (ncbigene9201,meshd002294) since we already added it to the negative set\n",
      "Skipping random link (ncbigene780,meshd001650) since we found it in the positive set\n",
      "[INFO] We generated a negative set with 1350 examples (the positive set has 4087)\n"
     ]
    }
   ],
   "source": [
    "positive_train_df, negative_train_df, positive_validation_df, negative_validation_df = \\\n",
    "   dsGen.get_data_years_after_target_year_upto_later_year_phase_4(target_year=target_year, mid_year = mid_year, num_years_later= num_years_after_the_mid_year)"
   ]
  },
  {
   "cell_type": "markdown",
   "metadata": {},
   "source": [
    "# Positive training data\n",
    "We use this data frame for test and training. It contains all phase 4 trials completed up to and including the target year."
   ]
  },
  {
   "cell_type": "code",
   "execution_count": 6,
   "metadata": {},
   "outputs": [
    {
     "data": {
      "text/html": [
       "<div>\n",
       "<style scoped>\n",
       "    .dataframe tbody tr th:only-of-type {\n",
       "        vertical-align: middle;\n",
       "    }\n",
       "\n",
       "    .dataframe tbody tr th {\n",
       "        vertical-align: top;\n",
       "    }\n",
       "\n",
       "    .dataframe thead th {\n",
       "        text-align: right;\n",
       "    }\n",
       "</style>\n",
       "<table border=\"1\" class=\"dataframe\">\n",
       "  <thead>\n",
       "    <tr style=\"text-align: right;\">\n",
       "      <th></th>\n",
       "      <th>cancer</th>\n",
       "      <th>mesh_id</th>\n",
       "      <th>kinase</th>\n",
       "      <th>gene_id</th>\n",
       "      <th>pki</th>\n",
       "      <th>nct</th>\n",
       "      <th>phase</th>\n",
       "      <th>year</th>\n",
       "    </tr>\n",
       "  </thead>\n",
       "  <tbody>\n",
       "    <tr>\n",
       "      <th>140</th>\n",
       "      <td>Colorectal Neoplasms</td>\n",
       "      <td>meshd015179</td>\n",
       "      <td>EGFR</td>\n",
       "      <td>ncbigene1956</td>\n",
       "      <td>cetuximab</td>\n",
       "      <td>NCT00327093;NCT01564810;NCT01315990</td>\n",
       "      <td>Phase 4</td>\n",
       "      <td>2006</td>\n",
       "    </tr>\n",
       "    <tr>\n",
       "      <th>145</th>\n",
       "      <td>Neoplasm Metastasis</td>\n",
       "      <td>meshd009362</td>\n",
       "      <td>EGFR</td>\n",
       "      <td>ncbigene1956</td>\n",
       "      <td>cetuximab</td>\n",
       "      <td>NCT00327093;NCT01564810;NCT00510627</td>\n",
       "      <td>Phase 4</td>\n",
       "      <td>2006</td>\n",
       "    </tr>\n",
       "    <tr>\n",
       "      <th>146</th>\n",
       "      <td>Neoplasms, Second Primary</td>\n",
       "      <td>meshd016609</td>\n",
       "      <td>EGFR</td>\n",
       "      <td>ncbigene1956</td>\n",
       "      <td>cetuximab</td>\n",
       "      <td>NCT00327093</td>\n",
       "      <td>Phase 4</td>\n",
       "      <td>2006</td>\n",
       "    </tr>\n",
       "    <tr>\n",
       "      <th>147</th>\n",
       "      <td>Liver Neoplasms</td>\n",
       "      <td>meshd008113</td>\n",
       "      <td>EGFR</td>\n",
       "      <td>ncbigene1956</td>\n",
       "      <td>cetuximab</td>\n",
       "      <td>NCT01564810;NCT00510627</td>\n",
       "      <td>Phase 4</td>\n",
       "      <td>2006</td>\n",
       "    </tr>\n",
       "    <tr>\n",
       "      <th>249</th>\n",
       "      <td>Carcinoma, Non-Small-Cell Lung</td>\n",
       "      <td>meshd002289</td>\n",
       "      <td>EGFR</td>\n",
       "      <td>ncbigene1956</td>\n",
       "      <td>erlotinib</td>\n",
       "      <td>NCT01287754;NCT01320501;NCT01230710;NCT0106688...</td>\n",
       "      <td>Phase 4</td>\n",
       "      <td>2004</td>\n",
       "    </tr>\n",
       "  </tbody>\n",
       "</table>\n",
       "</div>"
      ],
      "text/plain": [
       "                             cancer      mesh_id kinase       gene_id  \\\n",
       "140            Colorectal Neoplasms  meshd015179   EGFR  ncbigene1956   \n",
       "145             Neoplasm Metastasis  meshd009362   EGFR  ncbigene1956   \n",
       "146       Neoplasms, Second Primary  meshd016609   EGFR  ncbigene1956   \n",
       "147                 Liver Neoplasms  meshd008113   EGFR  ncbigene1956   \n",
       "249  Carcinoma, Non-Small-Cell Lung  meshd002289   EGFR  ncbigene1956   \n",
       "\n",
       "           pki                                                nct    phase  \\\n",
       "140  cetuximab                NCT00327093;NCT01564810;NCT01315990  Phase 4   \n",
       "145  cetuximab                NCT00327093;NCT01564810;NCT00510627  Phase 4   \n",
       "146  cetuximab                                        NCT00327093  Phase 4   \n",
       "147  cetuximab                            NCT01564810;NCT00510627  Phase 4   \n",
       "249  erlotinib  NCT01287754;NCT01320501;NCT01230710;NCT0106688...  Phase 4   \n",
       "\n",
       "     year  \n",
       "140  2006  \n",
       "145  2006  \n",
       "146  2006  \n",
       "147  2006  \n",
       "249  2004  "
      ]
     },
     "execution_count": 6,
     "metadata": {},
     "output_type": "execute_result"
    }
   ],
   "source": [
    "positive_train_df.head()"
   ]
  },
  {
   "cell_type": "code",
   "execution_count": 7,
   "metadata": {},
   "outputs": [
    {
     "name": "stdout",
     "output_type": "stream",
     "text": [
      "          gene_id      mesh_id\n",
      "140  ncbigene1956  meshd015179\n",
      "145  ncbigene1956  meshd009362\n",
      "146  ncbigene1956  meshd016609\n",
      "147  ncbigene1956  meshd008113\n",
      "249  ncbigene1956  meshd002289\n",
      "Number of positive training links: 161\n"
     ]
    }
   ],
   "source": [
    "#We write the file for machine learning as follows\n",
    "pos_train_df = positive_train_df[['gene_id','mesh_id']]\n",
    "outname = \"positive_training_upto_{}.tsv\".format(target_year)\n",
    "pos_train_df.to_csv(outname, sep='\\t')\n",
    "print(pos_train_df.head())\n",
    "print(\"Number of positive training links: {}\".format(pos_train_df.shape[0]) )"
   ]
  },
  {
   "cell_type": "markdown",
   "metadata": {},
   "source": [
    "# Negative training data\n",
    "This data is used for test and training. It contains a sample with factor times (default=10) as many random combinations of kinases and cancers that we not positive as of the target year. Note that the dataframes for negative examples just have the columns ``gene_id`` and ``mesh_id``."
   ]
  },
  {
   "cell_type": "code",
   "execution_count": 8,
   "metadata": {},
   "outputs": [
    {
     "name": "stdout",
     "output_type": "stream",
     "text": [
      "       mesh_id        gene_id\n",
      "0  meshd005770   ncbigene2045\n",
      "1  meshd007822  ncbigene91754\n",
      "2  meshd010039  ncbigene29110\n",
      "3  meshd058922   ncbigene1263\n",
      "4  meshd016403   ncbigene8805\n",
      "Number of negative training links: 1350\n"
     ]
    }
   ],
   "source": [
    "print(negative_train_df.head())\n",
    "outname = \"negative_training_upto_{}.tsv\".format(target_year)\n",
    "negative_train_df.to_csv(outname, sep='\\t')\n",
    "print(\"Number of negative training links: {}\".format(negative_train_df.shape[0]) )"
   ]
  },
  {
   "cell_type": "markdown",
   "metadata": {},
   "source": [
    "# Positive validation data\n",
    "This file has data for all four study phases and for all years following the target year. We should predicting them\n",
    "all at once and then use postprocessing in a script to figure out the results for each year."
   ]
  },
  {
   "cell_type": "code",
   "execution_count": 9,
   "metadata": {},
   "outputs": [
    {
     "name": "stdout",
     "output_type": "stream",
     "text": [
      "        gene_id      mesh_id\n",
      "0  ncbigene2475  meshd018287\n",
      "Number of positive validation links: 1\n"
     ]
    }
   ],
   "source": [
    "pos_validation_df = positive_validation_df[['gene_id','mesh_id']]\n",
    "outname = \"positive_validation_{}_years_after_{}_target_{}_phase4.tsv\".format(num_years_after_the_mid_year,mid_year,target_year)\n",
    "pos_validation_df.to_csv(outname, sep='\\t')\n",
    "print(pos_validation_df.head())\n",
    "print(\"Number of positive validation links: {}\".format(pos_validation_df.shape[0]) )"
   ]
  },
  {
   "cell_type": "markdown",
   "metadata": {},
   "source": [
    "# Negative validation data\n",
    "This is similar to the negative training data in that it just has two columns."
   ]
  },
  {
   "cell_type": "code",
   "execution_count": 10,
   "metadata": {},
   "outputs": [
    {
     "name": "stdout",
     "output_type": "stream",
     "text": [
      "       mesh_id         gene_id\n",
      "0  meshd002292   ncbigene23043\n",
      "1  meshd018267  ncbigene124923\n",
      "2  meshd009808  ncbigene282974\n",
      "3  meshd015448    ncbigene5585\n",
      "4  meshd018233    ncbigene6196\n",
      "Number of negative validation links: 1350\n"
     ]
    }
   ],
   "source": [
    "print(negative_validation_df.head())\n",
    "outname = \"negative_validation_upto_{}.tsv\".format(target_year)\n",
    "negative_validation_df.to_csv(outname, sep='\\t')\n",
    "print(\"Number of negative validation links: {}\".format(negative_validation_df.shape[0]) )"
   ]
  },
  {
   "cell_type": "code",
   "execution_count": null,
   "metadata": {},
   "outputs": [],
   "source": []
  }
 ],
 "metadata": {
  "kernelspec": {
   "display_name": "kcet_env",
   "language": "python",
   "name": "kcet_env"
  },
  "language_info": {
   "codemirror_mode": {
    "name": "ipython",
    "version": 3
   },
   "file_extension": ".py",
   "mimetype": "text/x-python",
   "name": "python",
   "nbconvert_exporter": "python",
   "pygments_lexer": "ipython3",
   "version": "3.7.7"
  }
 },
 "nbformat": 4,
 "nbformat_minor": 2
}
