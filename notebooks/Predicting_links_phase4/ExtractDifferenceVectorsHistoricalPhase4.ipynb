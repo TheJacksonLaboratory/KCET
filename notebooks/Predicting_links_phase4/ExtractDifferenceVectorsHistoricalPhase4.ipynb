{
 "cells": [
  {
   "cell_type": "markdown",
   "metadata": {},
   "source": [
    "# Prediction of relevant protein kinase-cancer relations\n",
    "We aim to learn pairs (x,y), where x is a protein kinase and y is a cancer that \n",
    "can be effectively treated by inhibiting x. We use word2vec to embed words found\n",
    "in abstracts from the PubMed corpus; we use [marea](https://github.com/TheJacksonLaboratory/marea) to preprocess PubMed abstracts by replacing words and phrases with concept IDs, followed by analysis with [embiggen](https://pypi.org/project/embiggen/) for word embedding. This notebook imports the embedded vectors and corresponding labels (words) from embiggen. We then extract vectors that correspond to\n",
    "both protein kinases and cancers. We use a positive set of (x,y) relations that\n",
    "we have derived from an analysis of Clinical Trials data with [yatcp](https://github.com/monarch-initiative/yactp), and rank other possible protein-kinase cancer relations."
   ]
  },
  {
   "cell_type": "markdown",
   "metadata": {},
   "source": [
    "## How to set up this notebook\n",
    "This notebook depends on the files ``embedding_SG_dim100_upto{year}.npy``, ``words_SG_upto{year}.txt`` (from embiggen), \n",
    "``positive_training_upto_{year}.tsv``, ``negative_training_upto_{year].tsv``, ``positive_validation_after_{year}_pahse_4.tsv``, ``negative_prediction_after_{year}_phase_4.tsv`` from the [KCET](https://github.com/TheJacksonLaboratory/KCET) package. For now, the corresponding files are available in\n",
    "Google drive. Download that folder to someplace on your drive, and then cd to the KCET/notebooks folder,\n",
    "and softlist the downloaded folder\n",
    "```\n",
    "ln -s /path/to/downloaded/folder/ data\n",
    "```\n",
    "This notebook assumes it will find the files there."
   ]
  },
  {
   "cell_type": "code",
   "execution_count": 36,
   "metadata": {},
   "outputs": [],
   "source": [
    "import os\n",
    "import sys\n",
    "import pandas as pd\n",
    "import numpy as np\n",
    "from sklearn.decomposition import PCA\n",
    "import matplotlib.pyplot as plt\n",
    "%matplotlib inline\n",
    "from mpl_toolkits.mplot3d import Axes3D\n",
    "import seaborn as sns\n",
    "sys.path.insert(0, os.path.abspath('../..'))\n",
    "from kcet import KinasePredictor"
   ]
  },
  {
   "cell_type": "markdown",
   "metadata": {},
   "source": [
    "## Input files\n",
    "``embedding_Skipgram_dim100.npy`` is the result of word2vec embedding of pubmed. ``words.txt`` are the corresponding words. A directory of files was downloaded and softlinked to data using ``ln -s <path> data``."
   ]
  },
  {
   "cell_type": "code",
   "execution_count": 37,
   "metadata": {},
   "outputs": [],
   "source": [
    "target_year = 2010\n",
    "mid_year = 2011\n",
    "num_years_later = 1"
   ]
  },
  {
   "cell_type": "code",
   "execution_count": 38,
   "metadata": {},
   "outputs": [
    {
     "name": "stdout",
     "output_type": "stream",
     "text": [
      "\n",
      "[INFO] We ingested 195088 labeled word vectors from ../data/embeddings_final/embedding_SG_dim100_upto2010.npy and ../data/embeddings_final/words_SG_upto2010.txt\n",
      "[INFO] We ingested 522 symbol/NCBI gene id mappings from /Users/ravanv/PycharmProjects/KCET/input/prot_kinase.tsv\n",
      "[INFO] We ingested 698 meshId/disease mappings from /Users/ravanv/PycharmProjects/KCET/input/neoplasms_labels.tsv\n",
      "\n"
     ]
    }
   ],
   "source": [
    "data_directory = '../data/embeddings_final'\n",
    "if not os.path.isdir(data_directory):\n",
    "    raise FileNotFoundError(\"Could not find data directory\")\n",
    "\n",
    "embedding_file = os.path.join(data_directory, \"embedding_SG_dim100_upto{}.npy\".format(target_year))\n",
    "words_file = os.path.join(data_directory, \"words_SG_upto{}.txt\".format(target_year))\n",
    "predictor = KinasePredictor(embeddings=embedding_file, words=words_file)"
   ]
  },
  {
   "cell_type": "markdown",
   "metadata": {},
   "source": [
    "# PubMed Word Embeddings\n",
    "The following code displays the numbers of word embeddings used as input."
   ]
  },
  {
   "cell_type": "code",
   "execution_count": 39,
   "metadata": {},
   "outputs": [
    {
     "data": {
      "text/html": [
       "<div>\n",
       "<style scoped>\n",
       "    .dataframe tbody tr th:only-of-type {\n",
       "        vertical-align: middle;\n",
       "    }\n",
       "\n",
       "    .dataframe tbody tr th {\n",
       "        vertical-align: top;\n",
       "    }\n",
       "\n",
       "    .dataframe thead th {\n",
       "        text-align: right;\n",
       "    }\n",
       "</style>\n",
       "<table border=\"1\" class=\"dataframe\">\n",
       "  <thead>\n",
       "    <tr style=\"text-align: right;\">\n",
       "      <th></th>\n",
       "      <th>0</th>\n",
       "      <th>1</th>\n",
       "      <th>2</th>\n",
       "      <th>3</th>\n",
       "      <th>4</th>\n",
       "      <th>5</th>\n",
       "      <th>6</th>\n",
       "      <th>7</th>\n",
       "      <th>8</th>\n",
       "      <th>9</th>\n",
       "      <th>...</th>\n",
       "      <th>90</th>\n",
       "      <th>91</th>\n",
       "      <th>92</th>\n",
       "      <th>93</th>\n",
       "      <th>94</th>\n",
       "      <th>95</th>\n",
       "      <th>96</th>\n",
       "      <th>97</th>\n",
       "      <th>98</th>\n",
       "      <th>99</th>\n",
       "    </tr>\n",
       "  </thead>\n",
       "  <tbody>\n",
       "    <tr>\n",
       "      <th>cell</th>\n",
       "      <td>-2.641621</td>\n",
       "      <td>3.124869</td>\n",
       "      <td>-4.353377</td>\n",
       "      <td>-2.018315</td>\n",
       "      <td>1.823348</td>\n",
       "      <td>-4.975201</td>\n",
       "      <td>-4.787686</td>\n",
       "      <td>2.649930</td>\n",
       "      <td>-2.948251</td>\n",
       "      <td>-0.916163</td>\n",
       "      <td>...</td>\n",
       "      <td>-1.869853</td>\n",
       "      <td>-3.522519</td>\n",
       "      <td>2.618166</td>\n",
       "      <td>-4.450459</td>\n",
       "      <td>-3.961528</td>\n",
       "      <td>-2.892118</td>\n",
       "      <td>-5.928490</td>\n",
       "      <td>0.367299</td>\n",
       "      <td>-4.532290</td>\n",
       "      <td>2.421597</td>\n",
       "    </tr>\n",
       "    <tr>\n",
       "      <th>patient</th>\n",
       "      <td>-3.817505</td>\n",
       "      <td>2.731132</td>\n",
       "      <td>-3.133406</td>\n",
       "      <td>-3.360924</td>\n",
       "      <td>3.251447</td>\n",
       "      <td>-3.779796</td>\n",
       "      <td>-4.411118</td>\n",
       "      <td>2.816041</td>\n",
       "      <td>-5.475833</td>\n",
       "      <td>-2.382731</td>\n",
       "      <td>...</td>\n",
       "      <td>-1.941187</td>\n",
       "      <td>-5.431289</td>\n",
       "      <td>2.350188</td>\n",
       "      <td>-5.862311</td>\n",
       "      <td>-3.625207</td>\n",
       "      <td>-4.146669</td>\n",
       "      <td>-4.293906</td>\n",
       "      <td>0.900865</td>\n",
       "      <td>-4.954704</td>\n",
       "      <td>3.698488</td>\n",
       "    </tr>\n",
       "    <tr>\n",
       "      <th>meshd009369</th>\n",
       "      <td>-2.000293</td>\n",
       "      <td>2.692290</td>\n",
       "      <td>-3.906482</td>\n",
       "      <td>-2.403826</td>\n",
       "      <td>2.087734</td>\n",
       "      <td>-4.683461</td>\n",
       "      <td>-4.715221</td>\n",
       "      <td>3.363425</td>\n",
       "      <td>-3.719787</td>\n",
       "      <td>-1.557153</td>\n",
       "      <td>...</td>\n",
       "      <td>-1.572250</td>\n",
       "      <td>-5.367291</td>\n",
       "      <td>2.859295</td>\n",
       "      <td>-5.173111</td>\n",
       "      <td>-5.736109</td>\n",
       "      <td>-3.077639</td>\n",
       "      <td>-3.752953</td>\n",
       "      <td>0.597677</td>\n",
       "      <td>-3.388928</td>\n",
       "      <td>4.321077</td>\n",
       "    </tr>\n",
       "    <tr>\n",
       "      <th>study</th>\n",
       "      <td>-3.286283</td>\n",
       "      <td>2.197396</td>\n",
       "      <td>-3.055143</td>\n",
       "      <td>-3.488384</td>\n",
       "      <td>1.583849</td>\n",
       "      <td>-3.476388</td>\n",
       "      <td>-4.572982</td>\n",
       "      <td>2.568147</td>\n",
       "      <td>-4.655032</td>\n",
       "      <td>-2.002333</td>\n",
       "      <td>...</td>\n",
       "      <td>-1.750167</td>\n",
       "      <td>-4.790527</td>\n",
       "      <td>2.999226</td>\n",
       "      <td>-5.209653</td>\n",
       "      <td>-4.173866</td>\n",
       "      <td>-6.466439</td>\n",
       "      <td>-4.163732</td>\n",
       "      <td>0.406401</td>\n",
       "      <td>-3.173547</td>\n",
       "      <td>2.894467</td>\n",
       "    </tr>\n",
       "    <tr>\n",
       "      <th>1</th>\n",
       "      <td>-1.973735</td>\n",
       "      <td>2.599354</td>\n",
       "      <td>-4.169664</td>\n",
       "      <td>-2.950947</td>\n",
       "      <td>1.642805</td>\n",
       "      <td>-4.464195</td>\n",
       "      <td>-4.122997</td>\n",
       "      <td>3.285105</td>\n",
       "      <td>-3.085233</td>\n",
       "      <td>-2.332377</td>\n",
       "      <td>...</td>\n",
       "      <td>-1.851673</td>\n",
       "      <td>-4.228116</td>\n",
       "      <td>2.728837</td>\n",
       "      <td>-6.189056</td>\n",
       "      <td>-3.837825</td>\n",
       "      <td>-5.297565</td>\n",
       "      <td>-4.471994</td>\n",
       "      <td>0.961740</td>\n",
       "      <td>-3.943491</td>\n",
       "      <td>3.863080</td>\n",
       "    </tr>\n",
       "    <tr>\n",
       "      <th>0</th>\n",
       "      <td>-2.586123</td>\n",
       "      <td>2.689704</td>\n",
       "      <td>-4.212170</td>\n",
       "      <td>-3.771425</td>\n",
       "      <td>1.231912</td>\n",
       "      <td>-4.831149</td>\n",
       "      <td>-4.203139</td>\n",
       "      <td>2.516318</td>\n",
       "      <td>-4.278717</td>\n",
       "      <td>-0.870984</td>\n",
       "      <td>...</td>\n",
       "      <td>-1.646774</td>\n",
       "      <td>-3.917393</td>\n",
       "      <td>3.147377</td>\n",
       "      <td>-6.403146</td>\n",
       "      <td>-3.208885</td>\n",
       "      <td>-4.337939</td>\n",
       "      <td>-5.274619</td>\n",
       "      <td>1.493022</td>\n",
       "      <td>-4.262381</td>\n",
       "      <td>3.811445</td>\n",
       "    </tr>\n",
       "    <tr>\n",
       "      <th>case</th>\n",
       "      <td>-2.901989</td>\n",
       "      <td>3.094942</td>\n",
       "      <td>-2.662760</td>\n",
       "      <td>-2.999618</td>\n",
       "      <td>3.339018</td>\n",
       "      <td>-4.174236</td>\n",
       "      <td>-3.733308</td>\n",
       "      <td>3.043080</td>\n",
       "      <td>-5.015265</td>\n",
       "      <td>-2.009101</td>\n",
       "      <td>...</td>\n",
       "      <td>-1.629706</td>\n",
       "      <td>-5.274364</td>\n",
       "      <td>2.490766</td>\n",
       "      <td>-6.020258</td>\n",
       "      <td>-4.223149</td>\n",
       "      <td>-5.065413</td>\n",
       "      <td>-4.717482</td>\n",
       "      <td>1.171679</td>\n",
       "      <td>-4.160813</td>\n",
       "      <td>3.578443</td>\n",
       "    </tr>\n",
       "    <tr>\n",
       "      <th>2</th>\n",
       "      <td>-1.995389</td>\n",
       "      <td>2.613357</td>\n",
       "      <td>-4.465601</td>\n",
       "      <td>-3.374403</td>\n",
       "      <td>1.476374</td>\n",
       "      <td>-3.963554</td>\n",
       "      <td>-4.275064</td>\n",
       "      <td>3.415569</td>\n",
       "      <td>-3.165894</td>\n",
       "      <td>-2.673264</td>\n",
       "      <td>...</td>\n",
       "      <td>-1.870650</td>\n",
       "      <td>-4.507325</td>\n",
       "      <td>2.781323</td>\n",
       "      <td>-6.268209</td>\n",
       "      <td>-3.587891</td>\n",
       "      <td>-5.258845</td>\n",
       "      <td>-4.164574</td>\n",
       "      <td>0.931996</td>\n",
       "      <td>-4.031983</td>\n",
       "      <td>3.908941</td>\n",
       "    </tr>\n",
       "    <tr>\n",
       "      <th>use</th>\n",
       "      <td>-2.350996</td>\n",
       "      <td>2.471157</td>\n",
       "      <td>-3.943660</td>\n",
       "      <td>-4.285838</td>\n",
       "      <td>1.903959</td>\n",
       "      <td>-3.824636</td>\n",
       "      <td>-5.363203</td>\n",
       "      <td>3.795658</td>\n",
       "      <td>-3.144410</td>\n",
       "      <td>-2.605247</td>\n",
       "      <td>...</td>\n",
       "      <td>-1.496192</td>\n",
       "      <td>-3.672382</td>\n",
       "      <td>3.161894</td>\n",
       "      <td>-3.771332</td>\n",
       "      <td>-5.287291</td>\n",
       "      <td>-5.904677</td>\n",
       "      <td>-6.007619</td>\n",
       "      <td>0.785128</td>\n",
       "      <td>-5.524373</td>\n",
       "      <td>3.306188</td>\n",
       "    </tr>\n",
       "    <tr>\n",
       "      <th>treatment</th>\n",
       "      <td>-4.137800</td>\n",
       "      <td>2.313303</td>\n",
       "      <td>-4.491300</td>\n",
       "      <td>-4.538378</td>\n",
       "      <td>2.906991</td>\n",
       "      <td>-3.536086</td>\n",
       "      <td>-5.214668</td>\n",
       "      <td>3.688766</td>\n",
       "      <td>-3.349134</td>\n",
       "      <td>-2.446090</td>\n",
       "      <td>...</td>\n",
       "      <td>-1.661259</td>\n",
       "      <td>-3.453831</td>\n",
       "      <td>2.958672</td>\n",
       "      <td>-6.402697</td>\n",
       "      <td>-2.986871</td>\n",
       "      <td>-6.025044</td>\n",
       "      <td>-3.379093</td>\n",
       "      <td>0.627732</td>\n",
       "      <td>-5.395659</td>\n",
       "      <td>5.521724</td>\n",
       "    </tr>\n",
       "  </tbody>\n",
       "</table>\n",
       "<p>10 rows × 100 columns</p>\n",
       "</div>"
      ],
      "text/plain": [
       "                   0         1         2         3         4         5   \\\n",
       "cell        -2.641621  3.124869 -4.353377 -2.018315  1.823348 -4.975201   \n",
       "patient     -3.817505  2.731132 -3.133406 -3.360924  3.251447 -3.779796   \n",
       "meshd009369 -2.000293  2.692290 -3.906482 -2.403826  2.087734 -4.683461   \n",
       "study       -3.286283  2.197396 -3.055143 -3.488384  1.583849 -3.476388   \n",
       "1           -1.973735  2.599354 -4.169664 -2.950947  1.642805 -4.464195   \n",
       "0           -2.586123  2.689704 -4.212170 -3.771425  1.231912 -4.831149   \n",
       "case        -2.901989  3.094942 -2.662760 -2.999618  3.339018 -4.174236   \n",
       "2           -1.995389  2.613357 -4.465601 -3.374403  1.476374 -3.963554   \n",
       "use         -2.350996  2.471157 -3.943660 -4.285838  1.903959 -3.824636   \n",
       "treatment   -4.137800  2.313303 -4.491300 -4.538378  2.906991 -3.536086   \n",
       "\n",
       "                   6         7         8         9   ...        90        91  \\\n",
       "cell        -4.787686  2.649930 -2.948251 -0.916163  ... -1.869853 -3.522519   \n",
       "patient     -4.411118  2.816041 -5.475833 -2.382731  ... -1.941187 -5.431289   \n",
       "meshd009369 -4.715221  3.363425 -3.719787 -1.557153  ... -1.572250 -5.367291   \n",
       "study       -4.572982  2.568147 -4.655032 -2.002333  ... -1.750167 -4.790527   \n",
       "1           -4.122997  3.285105 -3.085233 -2.332377  ... -1.851673 -4.228116   \n",
       "0           -4.203139  2.516318 -4.278717 -0.870984  ... -1.646774 -3.917393   \n",
       "case        -3.733308  3.043080 -5.015265 -2.009101  ... -1.629706 -5.274364   \n",
       "2           -4.275064  3.415569 -3.165894 -2.673264  ... -1.870650 -4.507325   \n",
       "use         -5.363203  3.795658 -3.144410 -2.605247  ... -1.496192 -3.672382   \n",
       "treatment   -5.214668  3.688766 -3.349134 -2.446090  ... -1.661259 -3.453831   \n",
       "\n",
       "                   92        93        94        95        96        97  \\\n",
       "cell         2.618166 -4.450459 -3.961528 -2.892118 -5.928490  0.367299   \n",
       "patient      2.350188 -5.862311 -3.625207 -4.146669 -4.293906  0.900865   \n",
       "meshd009369  2.859295 -5.173111 -5.736109 -3.077639 -3.752953  0.597677   \n",
       "study        2.999226 -5.209653 -4.173866 -6.466439 -4.163732  0.406401   \n",
       "1            2.728837 -6.189056 -3.837825 -5.297565 -4.471994  0.961740   \n",
       "0            3.147377 -6.403146 -3.208885 -4.337939 -5.274619  1.493022   \n",
       "case         2.490766 -6.020258 -4.223149 -5.065413 -4.717482  1.171679   \n",
       "2            2.781323 -6.268209 -3.587891 -5.258845 -4.164574  0.931996   \n",
       "use          3.161894 -3.771332 -5.287291 -5.904677 -6.007619  0.785128   \n",
       "treatment    2.958672 -6.402697 -2.986871 -6.025044 -3.379093  0.627732   \n",
       "\n",
       "                   98        99  \n",
       "cell        -4.532290  2.421597  \n",
       "patient     -4.954704  3.698488  \n",
       "meshd009369 -3.388928  4.321077  \n",
       "study       -3.173547  2.894467  \n",
       "1           -3.943491  3.863080  \n",
       "0           -4.262381  3.811445  \n",
       "case        -4.160813  3.578443  \n",
       "2           -4.031983  3.908941  \n",
       "use         -5.524373  3.306188  \n",
       "treatment   -5.395659  5.521724  \n",
       "\n",
       "[10 rows x 100 columns]"
      ]
     },
     "execution_count": 39,
     "metadata": {},
     "output_type": "execute_result"
    }
   ],
   "source": [
    "embeddings = predictor.get_embeddings()\n",
    "embeddings.head(n=10)"
   ]
  },
  {
   "cell_type": "code",
   "execution_count": 40,
   "metadata": {},
   "outputs": [
    {
     "name": "stdout",
     "output_type": "stream",
     "text": [
      "Total number of embeddings:  195088\n"
     ]
    }
   ],
   "source": [
    "print(\"Total number of embeddings: \", len(embeddings))"
   ]
  },
  {
   "cell_type": "markdown",
   "metadata": {},
   "source": [
    "# Positive examples\n",
    "Note that we need to rename the gene.id to gene_id upstream TODO"
   ]
  },
  {
   "cell_type": "code",
   "execution_count": 41,
   "metadata": {},
   "outputs": [
    {
     "data": {
      "text/html": [
       "<div>\n",
       "<style scoped>\n",
       "    .dataframe tbody tr th:only-of-type {\n",
       "        vertical-align: middle;\n",
       "    }\n",
       "\n",
       "    .dataframe tbody tr th {\n",
       "        vertical-align: top;\n",
       "    }\n",
       "\n",
       "    .dataframe thead th {\n",
       "        text-align: right;\n",
       "    }\n",
       "</style>\n",
       "<table border=\"1\" class=\"dataframe\">\n",
       "  <thead>\n",
       "    <tr style=\"text-align: right;\">\n",
       "      <th></th>\n",
       "      <th>mesh_id</th>\n",
       "      <th>gene_id</th>\n",
       "    </tr>\n",
       "  </thead>\n",
       "  <tbody>\n",
       "    <tr>\n",
       "      <th>0</th>\n",
       "      <td>meshd015179</td>\n",
       "      <td>ncbigene1956</td>\n",
       "    </tr>\n",
       "    <tr>\n",
       "      <th>1</th>\n",
       "      <td>meshd009362</td>\n",
       "      <td>ncbigene1956</td>\n",
       "    </tr>\n",
       "    <tr>\n",
       "      <th>2</th>\n",
       "      <td>meshd016609</td>\n",
       "      <td>ncbigene1956</td>\n",
       "    </tr>\n",
       "    <tr>\n",
       "      <th>3</th>\n",
       "      <td>meshd008113</td>\n",
       "      <td>ncbigene1956</td>\n",
       "    </tr>\n",
       "    <tr>\n",
       "      <th>4</th>\n",
       "      <td>meshd002289</td>\n",
       "      <td>ncbigene1956</td>\n",
       "    </tr>\n",
       "  </tbody>\n",
       "</table>\n",
       "</div>"
      ],
      "text/plain": [
       "       mesh_id       gene_id\n",
       "0  meshd015179  ncbigene1956\n",
       "1  meshd009362  ncbigene1956\n",
       "2  meshd016609  ncbigene1956\n",
       "3  meshd008113  ncbigene1956\n",
       "4  meshd002289  ncbigene1956"
      ]
     },
     "execution_count": 41,
     "metadata": {},
     "output_type": "execute_result"
    }
   ],
   "source": [
    "positive_examples =  \"positive_training_upto_{}.tsv\".format(target_year)\n",
    "positive_df = pd.read_csv(positive_examples,  sep= \"\\t\")[[\"mesh_id\", \"gene_id\"]]\n",
    "positive_df.head()"
   ]
  },
  {
   "cell_type": "code",
   "execution_count": 42,
   "metadata": {},
   "outputs": [
    {
     "name": "stdout",
     "output_type": "stream",
     "text": [
      "161 positive examples\n",
      "195088 embedded words in total\n"
     ]
    }
   ],
   "source": [
    "print(\"%d positive examples\" % len(positive_df))\n",
    "print(\"%d embedded words in total\" % len(predictor.get_embeddings()))"
   ]
  },
  {
   "cell_type": "markdown",
   "metadata": {},
   "source": [
    "# Difference vectors\n",
    "We form difference vectors by substracting the word vectors for the protein kinases (in the column ``gene.id``)\n",
    "from the corresponding vectors for the cancer (in the column ``mesh_id``). The following function in the\n",
    "KCET package takes the dataframe shown above, finds the corrresponding vectors, substracts them, and\n",
    "returns a new Pandas dataframe."
   ]
  },
  {
   "cell_type": "code",
   "execution_count": 43,
   "metadata": {},
   "outputs": [
    {
     "name": "stdout",
     "output_type": "stream",
     "text": [
      "[INFO] Extracted 132 kinase-cancer difference vectors\n",
      "[INFO]\tInitial data: 161 examples\n",
      "[INFO]\tCould not identify 1 gene ids\n",
      "[INFO]\tCould not identify 0 MeSH ids\n"
     ]
    }
   ],
   "source": [
    "diff_vectors_pos_train = predictor.get_disease_kinase_difference_vectors(examples=positive_df)"
   ]
  },
  {
   "cell_type": "code",
   "execution_count": 44,
   "metadata": {},
   "outputs": [
    {
     "data": {
      "text/html": [
       "<div>\n",
       "<style scoped>\n",
       "    .dataframe tbody tr th:only-of-type {\n",
       "        vertical-align: middle;\n",
       "    }\n",
       "\n",
       "    .dataframe tbody tr th {\n",
       "        vertical-align: top;\n",
       "    }\n",
       "\n",
       "    .dataframe thead th {\n",
       "        text-align: right;\n",
       "    }\n",
       "</style>\n",
       "<table border=\"1\" class=\"dataframe\">\n",
       "  <thead>\n",
       "    <tr style=\"text-align: right;\">\n",
       "      <th></th>\n",
       "      <th>0</th>\n",
       "      <th>1</th>\n",
       "      <th>2</th>\n",
       "      <th>3</th>\n",
       "      <th>4</th>\n",
       "      <th>5</th>\n",
       "      <th>6</th>\n",
       "      <th>7</th>\n",
       "      <th>8</th>\n",
       "      <th>9</th>\n",
       "      <th>...</th>\n",
       "      <th>90</th>\n",
       "      <th>91</th>\n",
       "      <th>92</th>\n",
       "      <th>93</th>\n",
       "      <th>94</th>\n",
       "      <th>95</th>\n",
       "      <th>96</th>\n",
       "      <th>97</th>\n",
       "      <th>98</th>\n",
       "      <th>99</th>\n",
       "    </tr>\n",
       "  </thead>\n",
       "  <tbody>\n",
       "    <tr>\n",
       "      <th>ncbigene1956-meshd015179</th>\n",
       "      <td>-1.758768</td>\n",
       "      <td>0.821506</td>\n",
       "      <td>-0.218957</td>\n",
       "      <td>-0.418908</td>\n",
       "      <td>1.173821</td>\n",
       "      <td>2.282200</td>\n",
       "      <td>-0.896008</td>\n",
       "      <td>0.869499</td>\n",
       "      <td>-0.596625</td>\n",
       "      <td>-1.125477</td>\n",
       "      <td>...</td>\n",
       "      <td>0.244606</td>\n",
       "      <td>-0.978184</td>\n",
       "      <td>-0.364866</td>\n",
       "      <td>-0.861954</td>\n",
       "      <td>2.721985</td>\n",
       "      <td>0.355013</td>\n",
       "      <td>-1.774969</td>\n",
       "      <td>0.447741</td>\n",
       "      <td>0.221942</td>\n",
       "      <td>0.967503</td>\n",
       "    </tr>\n",
       "    <tr>\n",
       "      <th>ncbigene1956-meshd009362</th>\n",
       "      <td>-0.488660</td>\n",
       "      <td>-0.127344</td>\n",
       "      <td>1.152679</td>\n",
       "      <td>-1.458963</td>\n",
       "      <td>0.629901</td>\n",
       "      <td>1.370382</td>\n",
       "      <td>-0.432642</td>\n",
       "      <td>-0.060593</td>\n",
       "      <td>-0.768857</td>\n",
       "      <td>-0.831967</td>\n",
       "      <td>...</td>\n",
       "      <td>-0.106943</td>\n",
       "      <td>-2.545844</td>\n",
       "      <td>1.020391</td>\n",
       "      <td>2.764358</td>\n",
       "      <td>0.198052</td>\n",
       "      <td>-1.228320</td>\n",
       "      <td>-2.482996</td>\n",
       "      <td>0.121853</td>\n",
       "      <td>-0.002106</td>\n",
       "      <td>-0.983001</td>\n",
       "    </tr>\n",
       "    <tr>\n",
       "      <th>ncbigene1956-meshd016609</th>\n",
       "      <td>1.205292</td>\n",
       "      <td>0.113798</td>\n",
       "      <td>-1.177771</td>\n",
       "      <td>-1.224409</td>\n",
       "      <td>-0.320766</td>\n",
       "      <td>0.655336</td>\n",
       "      <td>-1.157197</td>\n",
       "      <td>1.443528</td>\n",
       "      <td>-1.263317</td>\n",
       "      <td>-1.750137</td>\n",
       "      <td>...</td>\n",
       "      <td>0.342476</td>\n",
       "      <td>-3.346388</td>\n",
       "      <td>-0.123938</td>\n",
       "      <td>-0.298214</td>\n",
       "      <td>0.739539</td>\n",
       "      <td>-0.900963</td>\n",
       "      <td>-2.440659</td>\n",
       "      <td>1.079363</td>\n",
       "      <td>0.378580</td>\n",
       "      <td>-1.017632</td>\n",
       "    </tr>\n",
       "    <tr>\n",
       "      <th>ncbigene1956-meshd008113</th>\n",
       "      <td>0.243748</td>\n",
       "      <td>0.850496</td>\n",
       "      <td>-0.247731</td>\n",
       "      <td>-1.412440</td>\n",
       "      <td>-1.462184</td>\n",
       "      <td>3.085130</td>\n",
       "      <td>-1.012596</td>\n",
       "      <td>2.120200</td>\n",
       "      <td>-1.968772</td>\n",
       "      <td>-2.174910</td>\n",
       "      <td>...</td>\n",
       "      <td>0.080879</td>\n",
       "      <td>-2.727978</td>\n",
       "      <td>0.043658</td>\n",
       "      <td>-0.467317</td>\n",
       "      <td>0.111648</td>\n",
       "      <td>0.602614</td>\n",
       "      <td>-2.497726</td>\n",
       "      <td>0.504189</td>\n",
       "      <td>-1.959718</td>\n",
       "      <td>0.611904</td>\n",
       "    </tr>\n",
       "    <tr>\n",
       "      <th>ncbigene1956-meshd002289</th>\n",
       "      <td>-0.197365</td>\n",
       "      <td>0.567358</td>\n",
       "      <td>-0.211547</td>\n",
       "      <td>0.391760</td>\n",
       "      <td>0.885465</td>\n",
       "      <td>2.867372</td>\n",
       "      <td>0.110631</td>\n",
       "      <td>1.182542</td>\n",
       "      <td>1.366991</td>\n",
       "      <td>-1.176261</td>\n",
       "      <td>...</td>\n",
       "      <td>0.283839</td>\n",
       "      <td>-0.278417</td>\n",
       "      <td>0.089316</td>\n",
       "      <td>0.738022</td>\n",
       "      <td>1.080370</td>\n",
       "      <td>-0.954275</td>\n",
       "      <td>-1.885794</td>\n",
       "      <td>0.135279</td>\n",
       "      <td>-1.811702</td>\n",
       "      <td>-0.210935</td>\n",
       "    </tr>\n",
       "  </tbody>\n",
       "</table>\n",
       "<p>5 rows × 100 columns</p>\n",
       "</div>"
      ],
      "text/plain": [
       "                                0         1         2         3         4   \\\n",
       "ncbigene1956-meshd015179 -1.758768  0.821506 -0.218957 -0.418908  1.173821   \n",
       "ncbigene1956-meshd009362 -0.488660 -0.127344  1.152679 -1.458963  0.629901   \n",
       "ncbigene1956-meshd016609  1.205292  0.113798 -1.177771 -1.224409 -0.320766   \n",
       "ncbigene1956-meshd008113  0.243748  0.850496 -0.247731 -1.412440 -1.462184   \n",
       "ncbigene1956-meshd002289 -0.197365  0.567358 -0.211547  0.391760  0.885465   \n",
       "\n",
       "                                5         6         7         8         9   \\\n",
       "ncbigene1956-meshd015179  2.282200 -0.896008  0.869499 -0.596625 -1.125477   \n",
       "ncbigene1956-meshd009362  1.370382 -0.432642 -0.060593 -0.768857 -0.831967   \n",
       "ncbigene1956-meshd016609  0.655336 -1.157197  1.443528 -1.263317 -1.750137   \n",
       "ncbigene1956-meshd008113  3.085130 -1.012596  2.120200 -1.968772 -2.174910   \n",
       "ncbigene1956-meshd002289  2.867372  0.110631  1.182542  1.366991 -1.176261   \n",
       "\n",
       "                          ...        90        91        92        93  \\\n",
       "ncbigene1956-meshd015179  ...  0.244606 -0.978184 -0.364866 -0.861954   \n",
       "ncbigene1956-meshd009362  ... -0.106943 -2.545844  1.020391  2.764358   \n",
       "ncbigene1956-meshd016609  ...  0.342476 -3.346388 -0.123938 -0.298214   \n",
       "ncbigene1956-meshd008113  ...  0.080879 -2.727978  0.043658 -0.467317   \n",
       "ncbigene1956-meshd002289  ...  0.283839 -0.278417  0.089316  0.738022   \n",
       "\n",
       "                                94        95        96        97        98  \\\n",
       "ncbigene1956-meshd015179  2.721985  0.355013 -1.774969  0.447741  0.221942   \n",
       "ncbigene1956-meshd009362  0.198052 -1.228320 -2.482996  0.121853 -0.002106   \n",
       "ncbigene1956-meshd016609  0.739539 -0.900963 -2.440659  1.079363  0.378580   \n",
       "ncbigene1956-meshd008113  0.111648  0.602614 -2.497726  0.504189 -1.959718   \n",
       "ncbigene1956-meshd002289  1.080370 -0.954275 -1.885794  0.135279 -1.811702   \n",
       "\n",
       "                                99  \n",
       "ncbigene1956-meshd015179  0.967503  \n",
       "ncbigene1956-meshd009362 -0.983001  \n",
       "ncbigene1956-meshd016609 -1.017632  \n",
       "ncbigene1956-meshd008113  0.611904  \n",
       "ncbigene1956-meshd002289 -0.210935  \n",
       "\n",
       "[5 rows x 100 columns]"
      ]
     },
     "execution_count": 44,
     "metadata": {},
     "output_type": "execute_result"
    }
   ],
   "source": [
    "diff_vectors_pos_train.head()"
   ]
  },
  {
   "cell_type": "code",
   "execution_count": 45,
   "metadata": {},
   "outputs": [
    {
     "name": "stdout",
     "output_type": "stream",
     "text": [
      "132 total difference vectors were extracted.\n"
     ]
    }
   ],
   "source": [
    "print(\"%d total difference vectors were extracted.\" % len(diff_vectors_pos_train))"
   ]
  },
  {
   "cell_type": "markdown",
   "metadata": {},
   "source": [
    "# Negative examples\n",
    "Here, we process negative examples in the same way. TODO LINK TO EXPLANATION OF HOW WE MAKE POS AND NEG"
   ]
  },
  {
   "cell_type": "code",
   "execution_count": 46,
   "metadata": {},
   "outputs": [
    {
     "data": {
      "text/html": [
       "<div>\n",
       "<style scoped>\n",
       "    .dataframe tbody tr th:only-of-type {\n",
       "        vertical-align: middle;\n",
       "    }\n",
       "\n",
       "    .dataframe tbody tr th {\n",
       "        vertical-align: top;\n",
       "    }\n",
       "\n",
       "    .dataframe thead th {\n",
       "        text-align: right;\n",
       "    }\n",
       "</style>\n",
       "<table border=\"1\" class=\"dataframe\">\n",
       "  <thead>\n",
       "    <tr style=\"text-align: right;\">\n",
       "      <th></th>\n",
       "      <th>mesh_id</th>\n",
       "      <th>gene_id</th>\n",
       "    </tr>\n",
       "  </thead>\n",
       "  <tbody>\n",
       "    <tr>\n",
       "      <th>0</th>\n",
       "      <td>meshd005770</td>\n",
       "      <td>ncbigene2045</td>\n",
       "    </tr>\n",
       "    <tr>\n",
       "      <th>1</th>\n",
       "      <td>meshd007822</td>\n",
       "      <td>ncbigene91754</td>\n",
       "    </tr>\n",
       "    <tr>\n",
       "      <th>2</th>\n",
       "      <td>meshd010039</td>\n",
       "      <td>ncbigene29110</td>\n",
       "    </tr>\n",
       "    <tr>\n",
       "      <th>3</th>\n",
       "      <td>meshd058922</td>\n",
       "      <td>ncbigene1263</td>\n",
       "    </tr>\n",
       "    <tr>\n",
       "      <th>4</th>\n",
       "      <td>meshd016403</td>\n",
       "      <td>ncbigene8805</td>\n",
       "    </tr>\n",
       "  </tbody>\n",
       "</table>\n",
       "</div>"
      ],
      "text/plain": [
       "       mesh_id        gene_id\n",
       "0  meshd005770   ncbigene2045\n",
       "1  meshd007822  ncbigene91754\n",
       "2  meshd010039  ncbigene29110\n",
       "3  meshd058922   ncbigene1263\n",
       "4  meshd016403   ncbigene8805"
      ]
     },
     "execution_count": 46,
     "metadata": {},
     "output_type": "execute_result"
    }
   ],
   "source": [
    "negative_examples =  \"negative_training_upto_{}.tsv\".format(target_year)\n",
    "negative_df = pd.read_csv(negative_examples,  sep= \"\\t\")[[\"mesh_id\", \"gene_id\"]]\n",
    "negative_df.head()"
   ]
  },
  {
   "cell_type": "code",
   "execution_count": 47,
   "metadata": {},
   "outputs": [
    {
     "name": "stdout",
     "output_type": "stream",
     "text": [
      "1350 negative examples\n"
     ]
    }
   ],
   "source": [
    "print(\"%d negative examples\" % len(negative_df))"
   ]
  },
  {
   "cell_type": "code",
   "execution_count": 48,
   "metadata": {},
   "outputs": [
    {
     "name": "stdout",
     "output_type": "stream",
     "text": [
      "[INFO] Extracted 1124 kinase-cancer difference vectors\n",
      "[INFO]\tInitial data: 1350 examples\n",
      "[INFO]\tCould not identify 41 gene ids\n",
      "[INFO]\tCould not identify 48 MeSH ids\n"
     ]
    }
   ],
   "source": [
    "diff_vectors_neg_train = predictor.get_disease_kinase_difference_vectors(examples=negative_df)"
   ]
  },
  {
   "cell_type": "code",
   "execution_count": 49,
   "metadata": {},
   "outputs": [
    {
     "data": {
      "text/html": [
       "<div>\n",
       "<style scoped>\n",
       "    .dataframe tbody tr th:only-of-type {\n",
       "        vertical-align: middle;\n",
       "    }\n",
       "\n",
       "    .dataframe tbody tr th {\n",
       "        vertical-align: top;\n",
       "    }\n",
       "\n",
       "    .dataframe thead th {\n",
       "        text-align: right;\n",
       "    }\n",
       "</style>\n",
       "<table border=\"1\" class=\"dataframe\">\n",
       "  <thead>\n",
       "    <tr style=\"text-align: right;\">\n",
       "      <th></th>\n",
       "      <th>0</th>\n",
       "      <th>1</th>\n",
       "      <th>2</th>\n",
       "      <th>3</th>\n",
       "      <th>4</th>\n",
       "      <th>5</th>\n",
       "      <th>6</th>\n",
       "      <th>7</th>\n",
       "      <th>8</th>\n",
       "      <th>9</th>\n",
       "      <th>...</th>\n",
       "      <th>90</th>\n",
       "      <th>91</th>\n",
       "      <th>92</th>\n",
       "      <th>93</th>\n",
       "      <th>94</th>\n",
       "      <th>95</th>\n",
       "      <th>96</th>\n",
       "      <th>97</th>\n",
       "      <th>98</th>\n",
       "      <th>99</th>\n",
       "    </tr>\n",
       "  </thead>\n",
       "  <tbody>\n",
       "    <tr>\n",
       "      <th>ncbigene2045-meshd005770</th>\n",
       "      <td>0.079102</td>\n",
       "      <td>0.140739</td>\n",
       "      <td>-0.636759</td>\n",
       "      <td>-0.551788</td>\n",
       "      <td>0.285947</td>\n",
       "      <td>-0.862563</td>\n",
       "      <td>-1.081320</td>\n",
       "      <td>0.279698</td>\n",
       "      <td>-1.421246</td>\n",
       "      <td>-0.301845</td>\n",
       "      <td>...</td>\n",
       "      <td>0.024023</td>\n",
       "      <td>-1.032559</td>\n",
       "      <td>0.021355</td>\n",
       "      <td>-1.348079</td>\n",
       "      <td>-0.524308</td>\n",
       "      <td>-0.879363</td>\n",
       "      <td>-0.956672</td>\n",
       "      <td>-0.015384</td>\n",
       "      <td>-0.840487</td>\n",
       "      <td>0.909708</td>\n",
       "    </tr>\n",
       "    <tr>\n",
       "      <th>ncbigene91754-meshd007822</th>\n",
       "      <td>1.031886</td>\n",
       "      <td>-0.885862</td>\n",
       "      <td>1.186334</td>\n",
       "      <td>1.182781</td>\n",
       "      <td>0.487590</td>\n",
       "      <td>2.922208</td>\n",
       "      <td>1.119999</td>\n",
       "      <td>-1.449995</td>\n",
       "      <td>2.860540</td>\n",
       "      <td>1.924890</td>\n",
       "      <td>...</td>\n",
       "      <td>1.571640</td>\n",
       "      <td>4.593875</td>\n",
       "      <td>-2.125336</td>\n",
       "      <td>2.581230</td>\n",
       "      <td>1.748546</td>\n",
       "      <td>1.639117</td>\n",
       "      <td>2.620692</td>\n",
       "      <td>-0.438429</td>\n",
       "      <td>1.121155</td>\n",
       "      <td>-2.906359</td>\n",
       "    </tr>\n",
       "    <tr>\n",
       "      <th>ncbigene29110-meshd010039</th>\n",
       "      <td>-0.493388</td>\n",
       "      <td>0.137326</td>\n",
       "      <td>-1.870432</td>\n",
       "      <td>-1.928063</td>\n",
       "      <td>1.178215</td>\n",
       "      <td>-0.864682</td>\n",
       "      <td>-1.530044</td>\n",
       "      <td>1.717341</td>\n",
       "      <td>-1.554578</td>\n",
       "      <td>-0.616941</td>\n",
       "      <td>...</td>\n",
       "      <td>-1.231021</td>\n",
       "      <td>-1.500984</td>\n",
       "      <td>0.697842</td>\n",
       "      <td>-1.804156</td>\n",
       "      <td>-0.990704</td>\n",
       "      <td>-1.025167</td>\n",
       "      <td>-1.009895</td>\n",
       "      <td>-0.517425</td>\n",
       "      <td>-0.937564</td>\n",
       "      <td>1.268977</td>\n",
       "    </tr>\n",
       "    <tr>\n",
       "      <th>ncbigene1263-meshd058922</th>\n",
       "      <td>1.551042</td>\n",
       "      <td>-0.807235</td>\n",
       "      <td>0.655559</td>\n",
       "      <td>0.325580</td>\n",
       "      <td>0.525500</td>\n",
       "      <td>1.427408</td>\n",
       "      <td>0.321216</td>\n",
       "      <td>-0.274013</td>\n",
       "      <td>1.494982</td>\n",
       "      <td>0.810571</td>\n",
       "      <td>...</td>\n",
       "      <td>0.435590</td>\n",
       "      <td>0.335051</td>\n",
       "      <td>-0.058195</td>\n",
       "      <td>1.230050</td>\n",
       "      <td>0.344783</td>\n",
       "      <td>0.548167</td>\n",
       "      <td>0.011528</td>\n",
       "      <td>-1.138362</td>\n",
       "      <td>0.482162</td>\n",
       "      <td>-0.387847</td>\n",
       "    </tr>\n",
       "    <tr>\n",
       "      <th>ncbigene8805-meshd016403</th>\n",
       "      <td>1.368280</td>\n",
       "      <td>-1.090764</td>\n",
       "      <td>0.736213</td>\n",
       "      <td>0.292741</td>\n",
       "      <td>-0.939507</td>\n",
       "      <td>0.527804</td>\n",
       "      <td>0.077326</td>\n",
       "      <td>-0.470190</td>\n",
       "      <td>1.114533</td>\n",
       "      <td>0.449106</td>\n",
       "      <td>...</td>\n",
       "      <td>1.050371</td>\n",
       "      <td>1.032558</td>\n",
       "      <td>-0.770681</td>\n",
       "      <td>0.837487</td>\n",
       "      <td>0.513381</td>\n",
       "      <td>-0.400449</td>\n",
       "      <td>0.674533</td>\n",
       "      <td>-1.140260</td>\n",
       "      <td>0.802441</td>\n",
       "      <td>0.044253</td>\n",
       "    </tr>\n",
       "  </tbody>\n",
       "</table>\n",
       "<p>5 rows × 100 columns</p>\n",
       "</div>"
      ],
      "text/plain": [
       "                                 0         1         2         3         4   \\\n",
       "ncbigene2045-meshd005770   0.079102  0.140739 -0.636759 -0.551788  0.285947   \n",
       "ncbigene91754-meshd007822  1.031886 -0.885862  1.186334  1.182781  0.487590   \n",
       "ncbigene29110-meshd010039 -0.493388  0.137326 -1.870432 -1.928063  1.178215   \n",
       "ncbigene1263-meshd058922   1.551042 -0.807235  0.655559  0.325580  0.525500   \n",
       "ncbigene8805-meshd016403   1.368280 -1.090764  0.736213  0.292741 -0.939507   \n",
       "\n",
       "                                 5         6         7         8         9   \\\n",
       "ncbigene2045-meshd005770  -0.862563 -1.081320  0.279698 -1.421246 -0.301845   \n",
       "ncbigene91754-meshd007822  2.922208  1.119999 -1.449995  2.860540  1.924890   \n",
       "ncbigene29110-meshd010039 -0.864682 -1.530044  1.717341 -1.554578 -0.616941   \n",
       "ncbigene1263-meshd058922   1.427408  0.321216 -0.274013  1.494982  0.810571   \n",
       "ncbigene8805-meshd016403   0.527804  0.077326 -0.470190  1.114533  0.449106   \n",
       "\n",
       "                           ...        90        91        92        93  \\\n",
       "ncbigene2045-meshd005770   ...  0.024023 -1.032559  0.021355 -1.348079   \n",
       "ncbigene91754-meshd007822  ...  1.571640  4.593875 -2.125336  2.581230   \n",
       "ncbigene29110-meshd010039  ... -1.231021 -1.500984  0.697842 -1.804156   \n",
       "ncbigene1263-meshd058922   ...  0.435590  0.335051 -0.058195  1.230050   \n",
       "ncbigene8805-meshd016403   ...  1.050371  1.032558 -0.770681  0.837487   \n",
       "\n",
       "                                 94        95        96        97        98  \\\n",
       "ncbigene2045-meshd005770  -0.524308 -0.879363 -0.956672 -0.015384 -0.840487   \n",
       "ncbigene91754-meshd007822  1.748546  1.639117  2.620692 -0.438429  1.121155   \n",
       "ncbigene29110-meshd010039 -0.990704 -1.025167 -1.009895 -0.517425 -0.937564   \n",
       "ncbigene1263-meshd058922   0.344783  0.548167  0.011528 -1.138362  0.482162   \n",
       "ncbigene8805-meshd016403   0.513381 -0.400449  0.674533 -1.140260  0.802441   \n",
       "\n",
       "                                 99  \n",
       "ncbigene2045-meshd005770   0.909708  \n",
       "ncbigene91754-meshd007822 -2.906359  \n",
       "ncbigene29110-meshd010039  1.268977  \n",
       "ncbigene1263-meshd058922  -0.387847  \n",
       "ncbigene8805-meshd016403   0.044253  \n",
       "\n",
       "[5 rows x 100 columns]"
      ]
     },
     "execution_count": 49,
     "metadata": {},
     "output_type": "execute_result"
    }
   ],
   "source": [
    "diff_vectors_neg_train.head()"
   ]
  },
  {
   "cell_type": "markdown",
   "metadata": {},
   "source": [
    "# PCA visualization\n",
    "To do PCA, we concatenate the positive and negative examples and label them so that we can visualize them using PCA."
   ]
  },
  {
   "cell_type": "code",
   "execution_count": 50,
   "metadata": {},
   "outputs": [
    {
     "name": "stdout",
     "output_type": "stream",
     "text": [
      "[INFO] We combined positive (n=132) and negative (n=1124) to the combined dataframe (1256)\n"
     ]
    }
   ],
   "source": [
    "X_train = diff_vectors_pos_train.append(diff_vectors_neg_train)\n",
    "print(\"[INFO] We combined positive (n=%d) and negative (n=%d) to the combined dataframe (%d)\" % \n",
    "      (len(diff_vectors_pos_train), len(diff_vectors_neg_train), len(X_train)))"
   ]
  },
  {
   "cell_type": "code",
   "execution_count": 51,
   "metadata": {},
   "outputs": [
    {
     "data": {
      "text/plain": [
       "array([[-1.7587682e+00,  8.2150578e-01, -2.1895671e-01, ...,\n",
       "         4.4774115e-01,  2.2194195e-01,  9.6750259e-01],\n",
       "       [-4.8866010e-01, -1.2734413e-01,  1.1526792e+00, ...,\n",
       "         1.2185264e-01, -2.1064281e-03, -9.8300052e-01],\n",
       "       [ 1.2052921e+00,  1.1379838e-01, -1.1777706e+00, ...,\n",
       "         1.0793628e+00,  3.7857962e-01, -1.0176322e+00],\n",
       "       ...,\n",
       "       [ 2.5474310e+00, -1.2754434e+00,  2.7958274e-01, ...,\n",
       "        -1.6827515e+00,  1.2137187e+00, -1.3335419e-01],\n",
       "       [ 1.9294865e+00, -1.0541983e+00,  1.3356475e+00, ...,\n",
       "        -5.9849954e-01,  2.7531829e+00, -2.5294318e+00],\n",
       "       [ 1.0643927e+00, -1.2412397e+00, -2.7100110e-01, ...,\n",
       "        -1.4443469e+00,  7.9144692e-01, -5.7951689e-02]], dtype=float32)"
      ]
     },
     "execution_count": 51,
     "metadata": {},
     "output_type": "execute_result"
    }
   ],
   "source": [
    "X_train.values"
   ]
  },
  {
   "cell_type": "code",
   "execution_count": 52,
   "metadata": {},
   "outputs": [],
   "source": [
    "# vector with colors for the data points -- red for positive, blue for negative\n",
    "cvec = [ \"red\" if i < len(diff_vectors_pos_train) else \"blue\" for i in range(len(X_train))]"
   ]
  },
  {
   "cell_type": "code",
   "execution_count": 53,
   "metadata": {},
   "outputs": [
    {
     "name": "stdout",
     "output_type": "stream",
     "text": [
      "Explained variation per principal component: [0.6148622  0.05334993 0.03240423]\n"
     ]
    }
   ],
   "source": [
    "pca = PCA(n_components=3)\n",
    "pca_result = pca.fit_transform(X_train.values)\n",
    "df = pd.DataFrame()\n",
    "df['pca-one'] = pca_result[:,0]\n",
    "df['pca-two'] = pca_result[:,1] \n",
    "df['pca-three'] = pca_result[:,2]\n",
    "print('Explained variation per principal component: {}'.format(pca.explained_variance_ratio_))"
   ]
  },
  {
   "cell_type": "code",
   "execution_count": 54,
   "metadata": {},
   "outputs": [
    {
     "data": {
      "text/plain": [
       "Text(0, 0.5, 'PC 2 (5.33%)')"
      ]
     },
     "execution_count": 54,
     "metadata": {},
     "output_type": "execute_result"
    },
    {
     "data": {
      "image/png": "[encoded data removed]",
      "text/plain": [
       "<Figure size 576x576 with 1 Axes>"
      ]
     },
     "metadata": {
      "needs_background": "light"
     },
     "output_type": "display_data"
    }
   ],
   "source": [
    "plt.figure(figsize=(8,8))\n",
    "\n",
    "plt.scatter(pca_result[:,0], pca_result[:,1],c=cvec, alpha=0.9)\n",
    "plt.xlabel('PC 1 (%.2f%%)' % (pca.explained_variance_ratio_[0]*100))\n",
    "plt.ylabel('PC 2 (%.2f%%)' % (pca.explained_variance_ratio_[1]*100)) "
   ]
  },
  {
   "cell_type": "markdown",
   "metadata": {},
   "source": [
    "# T-Distributed Stochastic Neighbouring Entities (t-SNE) Plot"
   ]
  },
  {
   "cell_type": "code",
   "execution_count": 55,
   "metadata": {},
   "outputs": [
    {
     "name": "stdout",
     "output_type": "stream",
     "text": [
      "[t-SNE] Computing 121 nearest neighbors...\n",
      "[t-SNE] Indexed 1256 samples in 0.001s...\n",
      "[t-SNE] Computed neighbors for 1256 samples in 0.041s...\n",
      "[t-SNE] Computed conditional probabilities for sample 1000 / 1256\n",
      "[t-SNE] Computed conditional probabilities for sample 1256 / 1256\n",
      "[t-SNE] Mean sigma: 1.223562\n",
      "[t-SNE] KL divergence after 250 iterations with early exaggeration: 58.523972\n",
      "[t-SNE] KL divergence after 300 iterations: 0.743467\n",
      "t-SNE done! Time elapsed: 2.4575750827789307 seconds\n"
     ]
    }
   ],
   "source": [
    "import time\n",
    "from sklearn.manifold import TSNE\n",
    "time_start = time.time()\n",
    "tsne = TSNE(n_components=2, verbose=1, perplexity=40, n_iter=300)\n",
    "tsne_results = tsne.fit_transform(pca_result)\n",
    "print('t-SNE done! Time elapsed: {} seconds'.format(time.time()-time_start))"
   ]
  },
  {
   "cell_type": "code",
   "execution_count": 56,
   "metadata": {},
   "outputs": [
    {
     "data": {
      "text/plain": [
       "Text(0, 0.5, 'tsne-2d-two')"
      ]
     },
     "execution_count": 56,
     "metadata": {},
     "output_type": "execute_result"
    },
    {
     "data": {
      "image/png": "[encoded data removed]",
      "text/plain": [
       "<Figure size 1152x720 with 1 Axes>"
      ]
     },
     "metadata": {
      "needs_background": "light"
     },
     "output_type": "display_data"
    }
   ],
   "source": [
    "plt.figure(figsize=(16,10))\n",
    "plt.scatter(tsne_results[:,0], tsne_results[:,1], c=cvec,  alpha=0.9)\n",
    "plt.xlabel('tsne-2d-one')\n",
    "plt.ylabel('tsne-2d-two') "
   ]
  },
  {
   "cell_type": "markdown",
   "metadata": {},
   "source": [
    "# Random forest\n",
    "First, let's arrange the training data. X_train we have from above. We additionally need to create a data structure for the labels with 1=positive, 0=negative example"
   ]
  },
  {
   "cell_type": "code",
   "execution_count": 57,
   "metadata": {},
   "outputs": [
    {
     "name": "stdout",
     "output_type": "stream",
     "text": [
      "Training data dimensions: (1256, 100)\n"
     ]
    }
   ],
   "source": [
    "print(\"Training data dimensions:\", X_train.shape)"
   ]
  },
  {
   "cell_type": "code",
   "execution_count": 58,
   "metadata": {},
   "outputs": [
    {
     "name": "stdout",
     "output_type": "stream",
     "text": [
      "Number of positive examples: 132, number of negative examples: 1124, Y_train.shape: (1256,)\n"
     ]
    }
   ],
   "source": [
    "label_1 = np.ones(diff_vectors_pos_train.shape[0])\n",
    "label_0 = np.zeros(diff_vectors_neg_train.shape[0])\n",
    "Y_train = np.concatenate((label_1,label_0))\n",
    "n_pos_examples = sum([x for x in Y_train])\n",
    "n_neg_examples = sum([(1-x) for x in Y_train])\n",
    "print(\"Number of positive examples: %d, number of negative examples: %d, Y_train.shape: %s\" % (n_pos_examples, n_neg_examples, Y_train.shape))"
   ]
  },
  {
   "cell_type": "markdown",
   "metadata": {},
   "source": [
    "## Positive validation data\n",
    "Note that for this pilot experiment, we are not checking ROC, but we are just predicting values for all combinations of protein kinases and cancers"
   ]
  },
  {
   "cell_type": "code",
   "execution_count": 59,
   "metadata": {},
   "outputs": [],
   "source": [
    "positive_validation_data =  \"positive_validation_{}_years_after_{}_target_{}_phase4.tsv\".format(num_years_later, mid_year,target_year)\n",
    "positive_validation_df = pd.read_csv(positive_validation_data, sep='\\t')[[\"mesh_id\", \"gene_id\"]]\n"
   ]
  },
  {
   "cell_type": "code",
   "execution_count": 60,
   "metadata": {},
   "outputs": [
    {
     "data": {
      "text/html": [
       "<div>\n",
       "<style scoped>\n",
       "    .dataframe tbody tr th:only-of-type {\n",
       "        vertical-align: middle;\n",
       "    }\n",
       "\n",
       "    .dataframe tbody tr th {\n",
       "        vertical-align: top;\n",
       "    }\n",
       "\n",
       "    .dataframe thead th {\n",
       "        text-align: right;\n",
       "    }\n",
       "</style>\n",
       "<table border=\"1\" class=\"dataframe\">\n",
       "  <thead>\n",
       "    <tr style=\"text-align: right;\">\n",
       "      <th></th>\n",
       "      <th>mesh_id</th>\n",
       "      <th>gene_id</th>\n",
       "    </tr>\n",
       "  </thead>\n",
       "  <tbody>\n",
       "    <tr>\n",
       "      <th>0</th>\n",
       "      <td>meshd018287</td>\n",
       "      <td>ncbigene2475</td>\n",
       "    </tr>\n",
       "  </tbody>\n",
       "</table>\n",
       "</div>"
      ],
      "text/plain": [
       "       mesh_id       gene_id\n",
       "0  meshd018287  ncbigene2475"
      ]
     },
     "execution_count": 60,
     "metadata": {},
     "output_type": "execute_result"
    }
   ],
   "source": [
    "positive_validation_df.head()"
   ]
  },
  {
   "cell_type": "code",
   "execution_count": 61,
   "metadata": {},
   "outputs": [
    {
     "name": "stdout",
     "output_type": "stream",
     "text": [
      "[INFO] Extracted 1 kinase-cancer difference vectors\n",
      "[INFO]\tInitial data: 1 examples\n",
      "[INFO]\tCould not identify 0 gene ids\n",
      "[INFO]\tCould not identify 0 MeSH ids\n"
     ]
    }
   ],
   "source": [
    "diff_vectors_pos_validation = predictor.get_disease_kinase_difference_vectors(positive_validation_df)"
   ]
  },
  {
   "cell_type": "code",
   "execution_count": 62,
   "metadata": {},
   "outputs": [
    {
     "data": {
      "text/html": [
       "<div>\n",
       "<style scoped>\n",
       "    .dataframe tbody tr th:only-of-type {\n",
       "        vertical-align: middle;\n",
       "    }\n",
       "\n",
       "    .dataframe tbody tr th {\n",
       "        vertical-align: top;\n",
       "    }\n",
       "\n",
       "    .dataframe thead th {\n",
       "        text-align: right;\n",
       "    }\n",
       "</style>\n",
       "<table border=\"1\" class=\"dataframe\">\n",
       "  <thead>\n",
       "    <tr style=\"text-align: right;\">\n",
       "      <th></th>\n",
       "      <th>0</th>\n",
       "      <th>1</th>\n",
       "      <th>2</th>\n",
       "      <th>3</th>\n",
       "      <th>4</th>\n",
       "      <th>5</th>\n",
       "      <th>6</th>\n",
       "      <th>7</th>\n",
       "      <th>8</th>\n",
       "      <th>9</th>\n",
       "      <th>...</th>\n",
       "      <th>90</th>\n",
       "      <th>91</th>\n",
       "      <th>92</th>\n",
       "      <th>93</th>\n",
       "      <th>94</th>\n",
       "      <th>95</th>\n",
       "      <th>96</th>\n",
       "      <th>97</th>\n",
       "      <th>98</th>\n",
       "      <th>99</th>\n",
       "    </tr>\n",
       "  </thead>\n",
       "  <tbody>\n",
       "    <tr>\n",
       "      <th>ncbigene2475-meshd018287</th>\n",
       "      <td>0.946715</td>\n",
       "      <td>0.105206</td>\n",
       "      <td>-1.025198</td>\n",
       "      <td>-4.12202</td>\n",
       "      <td>1.281455</td>\n",
       "      <td>-0.322257</td>\n",
       "      <td>-1.842697</td>\n",
       "      <td>0.098851</td>\n",
       "      <td>-0.657799</td>\n",
       "      <td>0.265823</td>\n",
       "      <td>...</td>\n",
       "      <td>-0.144348</td>\n",
       "      <td>1.174294</td>\n",
       "      <td>0.44352</td>\n",
       "      <td>-2.68775</td>\n",
       "      <td>-0.34389</td>\n",
       "      <td>-2.309534</td>\n",
       "      <td>-0.671291</td>\n",
       "      <td>-0.938608</td>\n",
       "      <td>-0.644755</td>\n",
       "      <td>1.395599</td>\n",
       "    </tr>\n",
       "  </tbody>\n",
       "</table>\n",
       "<p>1 rows × 100 columns</p>\n",
       "</div>"
      ],
      "text/plain": [
       "                                0         1         2        3         4   \\\n",
       "ncbigene2475-meshd018287  0.946715  0.105206 -1.025198 -4.12202  1.281455   \n",
       "\n",
       "                                5         6         7         8         9   \\\n",
       "ncbigene2475-meshd018287 -0.322257 -1.842697  0.098851 -0.657799  0.265823   \n",
       "\n",
       "                          ...        90        91       92       93       94  \\\n",
       "ncbigene2475-meshd018287  ... -0.144348  1.174294  0.44352 -2.68775 -0.34389   \n",
       "\n",
       "                                95        96        97        98        99  \n",
       "ncbigene2475-meshd018287 -2.309534 -0.671291 -0.938608 -0.644755  1.395599  \n",
       "\n",
       "[1 rows x 100 columns]"
      ]
     },
     "execution_count": 62,
     "metadata": {},
     "output_type": "execute_result"
    }
   ],
   "source": [
    "diff_vectors_pos_validation.head()"
   ]
  },
  {
   "cell_type": "markdown",
   "metadata": {},
   "source": [
    "## Negative validation data"
   ]
  },
  {
   "cell_type": "code",
   "execution_count": 63,
   "metadata": {},
   "outputs": [],
   "source": [
    "negative_validation_data = \"negative_validation_upto_{}.tsv\".format(target_year)\n",
    "negative_validation_df = pd.read_csv(negative_validation_data, sep='\\t')[[\"mesh_id\", \"gene_id\"]]\n"
   ]
  },
  {
   "cell_type": "code",
   "execution_count": 64,
   "metadata": {},
   "outputs": [
    {
     "data": {
      "text/html": [
       "<div>\n",
       "<style scoped>\n",
       "    .dataframe tbody tr th:only-of-type {\n",
       "        vertical-align: middle;\n",
       "    }\n",
       "\n",
       "    .dataframe tbody tr th {\n",
       "        vertical-align: top;\n",
       "    }\n",
       "\n",
       "    .dataframe thead th {\n",
       "        text-align: right;\n",
       "    }\n",
       "</style>\n",
       "<table border=\"1\" class=\"dataframe\">\n",
       "  <thead>\n",
       "    <tr style=\"text-align: right;\">\n",
       "      <th></th>\n",
       "      <th>mesh_id</th>\n",
       "      <th>gene_id</th>\n",
       "    </tr>\n",
       "  </thead>\n",
       "  <tbody>\n",
       "    <tr>\n",
       "      <th>0</th>\n",
       "      <td>meshd002292</td>\n",
       "      <td>ncbigene23043</td>\n",
       "    </tr>\n",
       "    <tr>\n",
       "      <th>1</th>\n",
       "      <td>meshd018267</td>\n",
       "      <td>ncbigene124923</td>\n",
       "    </tr>\n",
       "    <tr>\n",
       "      <th>2</th>\n",
       "      <td>meshd009808</td>\n",
       "      <td>ncbigene282974</td>\n",
       "    </tr>\n",
       "    <tr>\n",
       "      <th>3</th>\n",
       "      <td>meshd015448</td>\n",
       "      <td>ncbigene5585</td>\n",
       "    </tr>\n",
       "    <tr>\n",
       "      <th>4</th>\n",
       "      <td>meshd018233</td>\n",
       "      <td>ncbigene6196</td>\n",
       "    </tr>\n",
       "  </tbody>\n",
       "</table>\n",
       "</div>"
      ],
      "text/plain": [
       "       mesh_id         gene_id\n",
       "0  meshd002292   ncbigene23043\n",
       "1  meshd018267  ncbigene124923\n",
       "2  meshd009808  ncbigene282974\n",
       "3  meshd015448    ncbigene5585\n",
       "4  meshd018233    ncbigene6196"
      ]
     },
     "execution_count": 64,
     "metadata": {},
     "output_type": "execute_result"
    }
   ],
   "source": [
    "negative_validation_df.head()"
   ]
  },
  {
   "cell_type": "code",
   "execution_count": 65,
   "metadata": {},
   "outputs": [
    {
     "name": "stdout",
     "output_type": "stream",
     "text": [
      "[INFO] Extracted 1124 kinase-cancer difference vectors\n",
      "[INFO]\tInitial data: 1350 examples\n",
      "[INFO]\tCould not identify 39 gene ids\n",
      "[INFO]\tCould not identify 51 MeSH ids\n"
     ]
    }
   ],
   "source": [
    "diff_vectors_neg_validation = predictor.get_disease_kinase_difference_vectors(negative_validation_df)"
   ]
  },
  {
   "cell_type": "code",
   "execution_count": 66,
   "metadata": {},
   "outputs": [
    {
     "data": {
      "text/html": [
       "<div>\n",
       "<style scoped>\n",
       "    .dataframe tbody tr th:only-of-type {\n",
       "        vertical-align: middle;\n",
       "    }\n",
       "\n",
       "    .dataframe tbody tr th {\n",
       "        vertical-align: top;\n",
       "    }\n",
       "\n",
       "    .dataframe thead th {\n",
       "        text-align: right;\n",
       "    }\n",
       "</style>\n",
       "<table border=\"1\" class=\"dataframe\">\n",
       "  <thead>\n",
       "    <tr style=\"text-align: right;\">\n",
       "      <th></th>\n",
       "      <th>0</th>\n",
       "      <th>1</th>\n",
       "      <th>2</th>\n",
       "      <th>3</th>\n",
       "      <th>4</th>\n",
       "      <th>5</th>\n",
       "      <th>6</th>\n",
       "      <th>7</th>\n",
       "      <th>8</th>\n",
       "      <th>9</th>\n",
       "      <th>...</th>\n",
       "      <th>90</th>\n",
       "      <th>91</th>\n",
       "      <th>92</th>\n",
       "      <th>93</th>\n",
       "      <th>94</th>\n",
       "      <th>95</th>\n",
       "      <th>96</th>\n",
       "      <th>97</th>\n",
       "      <th>98</th>\n",
       "      <th>99</th>\n",
       "    </tr>\n",
       "  </thead>\n",
       "  <tbody>\n",
       "    <tr>\n",
       "      <th>ncbigene23043-meshd002292</th>\n",
       "      <td>-0.834549</td>\n",
       "      <td>0.672809</td>\n",
       "      <td>-0.674461</td>\n",
       "      <td>-0.802152</td>\n",
       "      <td>0.657542</td>\n",
       "      <td>-1.007588</td>\n",
       "      <td>-1.029053</td>\n",
       "      <td>0.769013</td>\n",
       "      <td>-0.899212</td>\n",
       "      <td>-0.750647</td>\n",
       "      <td>...</td>\n",
       "      <td>-0.224458</td>\n",
       "      <td>-0.963294</td>\n",
       "      <td>0.785453</td>\n",
       "      <td>-1.220322</td>\n",
       "      <td>-0.792042</td>\n",
       "      <td>-1.188190</td>\n",
       "      <td>-1.064593</td>\n",
       "      <td>0.638840</td>\n",
       "      <td>-0.937057</td>\n",
       "      <td>0.802853</td>\n",
       "    </tr>\n",
       "    <tr>\n",
       "      <th>ncbigene282974-meshd009808</th>\n",
       "      <td>2.022017</td>\n",
       "      <td>-2.399010</td>\n",
       "      <td>1.626751</td>\n",
       "      <td>0.964144</td>\n",
       "      <td>-1.612279</td>\n",
       "      <td>2.831977</td>\n",
       "      <td>2.286835</td>\n",
       "      <td>-1.764282</td>\n",
       "      <td>2.868848</td>\n",
       "      <td>1.080189</td>\n",
       "      <td>...</td>\n",
       "      <td>0.694348</td>\n",
       "      <td>2.370327</td>\n",
       "      <td>-2.073559</td>\n",
       "      <td>3.915266</td>\n",
       "      <td>2.147863</td>\n",
       "      <td>2.769832</td>\n",
       "      <td>2.412228</td>\n",
       "      <td>-0.896132</td>\n",
       "      <td>2.970713</td>\n",
       "      <td>-2.869491</td>\n",
       "    </tr>\n",
       "    <tr>\n",
       "      <th>ncbigene5585-meshd015448</th>\n",
       "      <td>1.454981</td>\n",
       "      <td>-0.796124</td>\n",
       "      <td>-0.028030</td>\n",
       "      <td>-1.353254</td>\n",
       "      <td>-0.259218</td>\n",
       "      <td>0.114443</td>\n",
       "      <td>0.408688</td>\n",
       "      <td>0.437267</td>\n",
       "      <td>0.395816</td>\n",
       "      <td>0.893941</td>\n",
       "      <td>...</td>\n",
       "      <td>1.078541</td>\n",
       "      <td>0.866077</td>\n",
       "      <td>-0.751524</td>\n",
       "      <td>0.455683</td>\n",
       "      <td>0.558271</td>\n",
       "      <td>-0.471880</td>\n",
       "      <td>0.690356</td>\n",
       "      <td>-0.617215</td>\n",
       "      <td>0.007386</td>\n",
       "      <td>1.038139</td>\n",
       "    </tr>\n",
       "    <tr>\n",
       "      <th>ncbigene6196-meshd018233</th>\n",
       "      <td>1.544548</td>\n",
       "      <td>-0.974132</td>\n",
       "      <td>0.562767</td>\n",
       "      <td>-1.805717</td>\n",
       "      <td>-0.072550</td>\n",
       "      <td>0.331433</td>\n",
       "      <td>-0.322701</td>\n",
       "      <td>0.146774</td>\n",
       "      <td>0.078620</td>\n",
       "      <td>0.516650</td>\n",
       "      <td>...</td>\n",
       "      <td>0.206766</td>\n",
       "      <td>1.129002</td>\n",
       "      <td>0.056130</td>\n",
       "      <td>0.857232</td>\n",
       "      <td>0.314390</td>\n",
       "      <td>0.162922</td>\n",
       "      <td>0.727830</td>\n",
       "      <td>-1.148794</td>\n",
       "      <td>0.397259</td>\n",
       "      <td>-0.338038</td>\n",
       "    </tr>\n",
       "    <tr>\n",
       "      <th>ncbigene6355-meshd007945</th>\n",
       "      <td>2.391868</td>\n",
       "      <td>-0.761589</td>\n",
       "      <td>0.585547</td>\n",
       "      <td>-0.250065</td>\n",
       "      <td>-0.653822</td>\n",
       "      <td>1.229138</td>\n",
       "      <td>1.412487</td>\n",
       "      <td>-0.050759</td>\n",
       "      <td>1.401858</td>\n",
       "      <td>2.187510</td>\n",
       "      <td>...</td>\n",
       "      <td>1.197053</td>\n",
       "      <td>2.275759</td>\n",
       "      <td>-1.341348</td>\n",
       "      <td>1.246821</td>\n",
       "      <td>1.928252</td>\n",
       "      <td>0.248796</td>\n",
       "      <td>1.812032</td>\n",
       "      <td>0.153364</td>\n",
       "      <td>1.938789</td>\n",
       "      <td>0.219070</td>\n",
       "    </tr>\n",
       "  </tbody>\n",
       "</table>\n",
       "<p>5 rows × 100 columns</p>\n",
       "</div>"
      ],
      "text/plain": [
       "                                  0         1         2         3         4   \\\n",
       "ncbigene23043-meshd002292  -0.834549  0.672809 -0.674461 -0.802152  0.657542   \n",
       "ncbigene282974-meshd009808  2.022017 -2.399010  1.626751  0.964144 -1.612279   \n",
       "ncbigene5585-meshd015448    1.454981 -0.796124 -0.028030 -1.353254 -0.259218   \n",
       "ncbigene6196-meshd018233    1.544548 -0.974132  0.562767 -1.805717 -0.072550   \n",
       "ncbigene6355-meshd007945    2.391868 -0.761589  0.585547 -0.250065 -0.653822   \n",
       "\n",
       "                                  5         6         7         8         9   \\\n",
       "ncbigene23043-meshd002292  -1.007588 -1.029053  0.769013 -0.899212 -0.750647   \n",
       "ncbigene282974-meshd009808  2.831977  2.286835 -1.764282  2.868848  1.080189   \n",
       "ncbigene5585-meshd015448    0.114443  0.408688  0.437267  0.395816  0.893941   \n",
       "ncbigene6196-meshd018233    0.331433 -0.322701  0.146774  0.078620  0.516650   \n",
       "ncbigene6355-meshd007945    1.229138  1.412487 -0.050759  1.401858  2.187510   \n",
       "\n",
       "                            ...        90        91        92        93  \\\n",
       "ncbigene23043-meshd002292   ... -0.224458 -0.963294  0.785453 -1.220322   \n",
       "ncbigene282974-meshd009808  ...  0.694348  2.370327 -2.073559  3.915266   \n",
       "ncbigene5585-meshd015448    ...  1.078541  0.866077 -0.751524  0.455683   \n",
       "ncbigene6196-meshd018233    ...  0.206766  1.129002  0.056130  0.857232   \n",
       "ncbigene6355-meshd007945    ...  1.197053  2.275759 -1.341348  1.246821   \n",
       "\n",
       "                                  94        95        96        97        98  \\\n",
       "ncbigene23043-meshd002292  -0.792042 -1.188190 -1.064593  0.638840 -0.937057   \n",
       "ncbigene282974-meshd009808  2.147863  2.769832  2.412228 -0.896132  2.970713   \n",
       "ncbigene5585-meshd015448    0.558271 -0.471880  0.690356 -0.617215  0.007386   \n",
       "ncbigene6196-meshd018233    0.314390  0.162922  0.727830 -1.148794  0.397259   \n",
       "ncbigene6355-meshd007945    1.928252  0.248796  1.812032  0.153364  1.938789   \n",
       "\n",
       "                                  99  \n",
       "ncbigene23043-meshd002292   0.802853  \n",
       "ncbigene282974-meshd009808 -2.869491  \n",
       "ncbigene5585-meshd015448    1.038139  \n",
       "ncbigene6196-meshd018233   -0.338038  \n",
       "ncbigene6355-meshd007945    0.219070  \n",
       "\n",
       "[5 rows x 100 columns]"
      ]
     },
     "execution_count": 66,
     "metadata": {},
     "output_type": "execute_result"
    }
   ],
   "source": [
    "diff_vectors_neg_validation.head()"
   ]
  },
  {
   "cell_type": "markdown",
   "metadata": {},
   "source": [
    "# Save binary versions of the data for use in other notebooks\n",
    "We 'pickle' the three pandas dataframes produced by the code in this notebook."
   ]
  },
  {
   "cell_type": "code",
   "execution_count": 67,
   "metadata": {},
   "outputs": [],
   "source": [
    "positive_valid_diff_pickle_path = \"positive-valid-vectors-{}-years-after-{}-target-{}-phase4.pkl\".format(num_years_later, mid_year,target_year)\n",
    "diff_vectors_pos_validation.to_pickle(positive_valid_diff_pickle_path)"
   ]
  },
  {
   "cell_type": "code",
   "execution_count": 68,
   "metadata": {},
   "outputs": [],
   "source": [
    "positive_train_diff_pickle_path = \"positive-train-vectors-{}.pkl\".format(target_year)\n",
    "diff_vectors_pos_train.to_pickle(positive_train_diff_pickle_path)"
   ]
  },
  {
   "cell_type": "code",
   "execution_count": 69,
   "metadata": {},
   "outputs": [],
   "source": [
    "negative_train_diff_pickle_path = \"negative-train-vectors-{}.pkl\".format(target_year)\n",
    "diff_vectors_neg_train.to_pickle(negative_train_diff_pickle_path)"
   ]
  },
  {
   "cell_type": "code",
   "execution_count": 70,
   "metadata": {},
   "outputs": [],
   "source": [
    "negative_valid_diff_pickle_path = \"negative-valid-vectors-{}.pkl\".format(target_year)\n",
    "diff_vectors_neg_validation.to_pickle(negative_valid_diff_pickle_path)"
   ]
  },
  {
   "cell_type": "code",
   "execution_count": null,
   "metadata": {},
   "outputs": [],
   "source": []
  }
 ],
 "metadata": {
  "kernelspec": {
   "display_name": "kcet_env",
   "language": "python",
   "name": "kcet_env"
  },
  "language_info": {
   "codemirror_mode": {
    "name": "ipython",
    "version": 3
   },
   "file_extension": ".py",
   "mimetype": "text/x-python",
   "name": "python",
   "nbconvert_exporter": "python",
   "pygments_lexer": "ipython3",
   "version": "3.7.7"
  }
 },
 "nbformat": 4,
 "nbformat_minor": 2
}
