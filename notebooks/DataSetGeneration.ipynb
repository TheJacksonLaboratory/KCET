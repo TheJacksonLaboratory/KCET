{
 "cells": [
  {
   "cell_type": "markdown",
   "metadata": {},
   "source": [
    "# Data set Generation\n",
    "\n",
    "This notebook shows how to generate datasets for the historical validation. We choose a year (say 2015) and get all available phase 4 clinical trials for test and training on this dataset. We additionally export files with positive data for all subsequent years. As negative data, we choose all combinations of kinases and cancers that have remained negative up to the present day."
   ]
  },
  {
   "cell_type": "code",
   "execution_count": null,
   "metadata": {},
   "outputs": [],
   "source": [
    "import pandas as pd\n",
    "import os\n",
    "import sys\n",
    "sys.path.insert(0, os.path.abspath('..'))\n",
    "from kcet import KcetDatasetGenerator"
   ]
  },
  {
   "cell_type": "markdown",
   "metadata": {},
   "source": [
    "# Input file. \n",
    "We have placed a version of ``clinical_trials_by_phase.tsv`` into the ``data`` subfolder in the ``notebooks`` subfolder of kcet."
   ]
  },
  {
   "cell_type": "code",
   "execution_count": null,
   "metadata": {},
   "outputs": [],
   "source": [
    "ctfile = os.path.abspath(os.path.join('data', 'clinical_trials_by_phase.tsv'))"
   ]
  },
  {
   "cell_type": "markdown",
   "metadata": {},
   "source": [
    "## target year\n",
    "In this example, we show how to extract datasets for the target year of 2012"
   ]
  },
  {
   "cell_type": "code",
   "execution_count": null,
   "metadata": {},
   "outputs": [],
   "source": [
    "target_year = 2015"
   ]
  },
  {
   "cell_type": "code",
   "execution_count": null,
   "metadata": {
    "scrolled": true
   },
   "outputs": [],
   "source": [
    "dsGen = KcetDatasetGenerator(clinical_trials=ctfile)"
   ]
  },
  {
   "cell_type": "code",
   "execution_count": null,
   "metadata": {},
   "outputs": [],
   "source": [
    "positive_train_df, negative_train_df, positive_validation_df, negative_validation_df = \\\n",
    "   dsGen.get_data_for_target_year(target_year=target_year)"
   ]
  },
  {
   "cell_type": "markdown",
   "metadata": {},
   "source": [
    "# Positive training data\n",
    "We use this data frame for test and training. It contains all phase 4 trials completed up to and including the target year."
   ]
  },
  {
   "cell_type": "code",
   "execution_count": null,
   "metadata": {},
   "outputs": [],
   "source": [
    "positive_train_df.head()"
   ]
  },
  {
   "cell_type": "code",
   "execution_count": null,
   "metadata": {},
   "outputs": [],
   "source": [
    "#We write the file for machine learning as follows\n",
    "pos_train_df = positive_train_df[['gene_id','mesh_id']]\n",
    "outname = \"positive_training_upto_{}.tsv\".format(target_year)\n",
    "pos_train_df.to_csv(outname, sep='\\t')\n",
    "print(pos_train_df.head())\n",
    "print(\"Number of positive trainig links: {}\".format(pos_train_df.shape[0]) )"
   ]
  },
  {
   "cell_type": "markdown",
   "metadata": {},
   "source": [
    "# Negative training data\n",
    "This data is used for test and training. It contains a sample with factor times (default=10) as many random combinations of kinases and cancers that we not positive as of the target year. Note that the dataframes for negative examples just have the columns ``gene_id`` and ``mesh_id``."
   ]
  },
  {
   "cell_type": "code",
   "execution_count": null,
   "metadata": {},
   "outputs": [],
   "source": [
    "print(negative_train_df.head())\n",
    "outname = \"negative_training_upto_{}.tsv\".format(target_year)\n",
    "negative_train_df.to_csv(outname, sep='\\t')\n",
    "print(\"Number of negative trainig links: {}\".format(negative_train_df.shape[0]) )"
   ]
  },
  {
   "cell_type": "markdown",
   "metadata": {},
   "source": [
    "# Positive validation data\n",
    "This file has data for all four study phases and for all years following the target year. We should predicting them\n",
    "all at once and then use postprocessing in a script to figure out the results for each year."
   ]
  },
  {
   "cell_type": "code",
   "execution_count": null,
   "metadata": {},
   "outputs": [],
   "source": [
    "pos_validation_df = positive_validation_df[['gene_id','mesh_id']]\n",
    "outname = \"positive_validation_upto_{}.tsv\".format(target_year)\n",
    "pos_validation_df.to_csv(outname, sep='\\t')\n",
    "print(pos_validation_df.head())\n",
    "print(\"Number of positive validation links: {}\".format(pos_validation_df.shape[0]) )"
   ]
  },
  {
   "cell_type": "markdown",
   "metadata": {},
   "source": [
    "# Negative validation data\n",
    "This is similar to the negative training data in that it just has two columns."
   ]
  },
  {
   "cell_type": "code",
   "execution_count": null,
   "metadata": {},
   "outputs": [],
   "source": [
    "print(negative_validation_df.head())\n",
    "outname = \"negative_validation_upto_{}.tsv\".format(target_year)\n",
    "negative_validation_df.to_csv(outname, sep='\\t')\n",
    "print(\"Number of negative validation links: {}\".format(negative_validation_df.shape[0]) )"
   ]
  },
  {
   "cell_type": "code",
   "execution_count": null,
   "metadata": {},
   "outputs": [],
   "source": []
  }
 ],
 "metadata": {
  "kernelspec": {
   "display_name": "kcet_env",
   "language": "python",
   "name": "kcet_env"
  },
  "language_info": {
   "codemirror_mode": {
    "name": "ipython",
    "version": 3
   },
   "file_extension": ".py",
   "mimetype": "text/x-python",
   "name": "python",
   "nbconvert_exporter": "python",
   "pygments_lexer": "ipython3",
   "version": "3.7.7"
  }
 },
 "nbformat": 4,
 "nbformat_minor": 2
}
