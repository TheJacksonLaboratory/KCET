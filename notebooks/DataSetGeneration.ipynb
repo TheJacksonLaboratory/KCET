{
 "cells": [
  {
   "cell_type": "markdown",
   "metadata": {},
   "source": [
    "# Data set Generation\n",
    "\n",
    "This notebook shows how to generate datasets for the historical validation. We choose a year (say 2014) and get all available phase 4 clinical trials for test and training on this dataset. We additional export files with positive data for all subsequent years. As negative data, we choose all combinations of kinases and cancers that have remained negative up to the present day."
   ]
  },
  {
   "cell_type": "code",
   "execution_count": 1,
   "metadata": {},
   "outputs": [],
   "source": [
    "import pandas as pd\n",
    "import os\n",
    "import sys\n",
    "sys.path.insert(0, os.path.abspath('..'))\n",
    "from kcet import KcetDatasetGenerator"
   ]
  },
  {
   "cell_type": "markdown",
   "metadata": {},
   "source": [
    "# Input file. \n",
    "We have placed a version of ``clinical_trials_by_phase.tsv`` into the ``data`` subfolder in the ``notebooks`` subfolder of kcet."
   ]
  },
  {
   "cell_type": "code",
   "execution_count": 2,
   "metadata": {},
   "outputs": [],
   "source": [
    "ctfile = os.path.abspath(os.path.join('data', 'clinical_trials_by_phase.tsv'))"
   ]
  },
  {
   "cell_type": "markdown",
   "metadata": {},
   "source": [
    "## target year\n",
    "In this example, we show how to extract datasets for the target year of 2012"
   ]
  },
  {
   "cell_type": "code",
   "execution_count": 3,
   "metadata": {},
   "outputs": [],
   "source": [
    "target_year = 2012"
   ]
  },
  {
   "cell_type": "code",
   "execution_count": 4,
   "metadata": {
    "scrolled": true
   },
   "outputs": [
    {
     "name": "stdout",
     "output_type": "stream",
     "text": [
      "[INFO] Reading protein kinase information from /home/peter/GIT/KCET/input/prot_kinase.tsv\n",
      "[INFO] ingested symbol_to_id_map with 522 entries such as {'NCBIGene:2870': 'GRK6'}\n",
      "[INFO] Ingested mesh_id list with 694 entries such as 'meshd000008' and 'meshd000069293', \n",
      "[INFO] Ingested _meshid2disease_map with 694 entries\n",
      "[INFO] Ingested meshid2disease_map with 514 entries\n",
      "[INFO] Ingested pki_to_kinase with 83 entries\n",
      "[INFO] Reading protein kinase information from /home/peter/GIT/KCET/input/prot_kinase.tsv\n",
      "[INFO] ingested symbol_to_id_map with 522 entries such as {'NCBIGene:2870': 'GRK6'}\n",
      "[INFO] Ingested mesh_id list with 694 entries such as 'meshd000008' and 'meshd000069293', \n",
      "[INFO] Ingested _meshid2disease_map with 694 entries\n",
      "[INFO] Ingested meshid2disease_map with 514 entries\n",
      "[INFO] Ingested pki_to_kinase with 83 entries\n",
      "[INFO] Parsed data for the following medications:\n",
      "[INFO] afatinib\n",
      "[INFO] imatinib\n"
     ]
    }
   ],
   "source": [
    "dsGen = KcetDatasetGenerator(clinical_trials=ctfile)"
   ]
  },
  {
   "cell_type": "code",
   "execution_count": 5,
   "metadata": {},
   "outputs": [
    {
     "data": {
      "text/html": [
       "<div>\n",
       "<style scoped>\n",
       "    .dataframe tbody tr th:only-of-type {\n",
       "        vertical-align: middle;\n",
       "    }\n",
       "\n",
       "    .dataframe tbody tr th {\n",
       "        vertical-align: top;\n",
       "    }\n",
       "\n",
       "    .dataframe thead th {\n",
       "        text-align: right;\n",
       "    }\n",
       "</style>\n",
       "<table border=\"1\" class=\"dataframe\">\n",
       "  <thead>\n",
       "    <tr style=\"text-align: right;\">\n",
       "      <th></th>\n",
       "      <th>cancer</th>\n",
       "      <th>mesh_id</th>\n",
       "      <th>kinase</th>\n",
       "      <th>gene_id</th>\n",
       "      <th>pki</th>\n",
       "      <th>nct</th>\n",
       "      <th>phase</th>\n",
       "      <th>year</th>\n",
       "    </tr>\n",
       "  </thead>\n",
       "  <tbody>\n",
       "    <tr>\n",
       "      <th>14</th>\n",
       "      <td>Breast Neoplasms</td>\n",
       "      <td>meshd001943</td>\n",
       "      <td>ABL1</td>\n",
       "      <td>ncbigene25</td>\n",
       "      <td>imatinib</td>\n",
       "      <td>NCT00372476</td>\n",
       "      <td>Phase 4</td>\n",
       "      <td>2006</td>\n",
       "    </tr>\n",
       "    <tr>\n",
       "      <th>15</th>\n",
       "      <td>Breast Neoplasms</td>\n",
       "      <td>meshd001943</td>\n",
       "      <td>PDGFRA</td>\n",
       "      <td>ncbigene5156</td>\n",
       "      <td>imatinib</td>\n",
       "      <td>NCT00372476</td>\n",
       "      <td>Phase 4</td>\n",
       "      <td>2006</td>\n",
       "    </tr>\n",
       "    <tr>\n",
       "      <th>16</th>\n",
       "      <td>Breast Neoplasms</td>\n",
       "      <td>meshd001943</td>\n",
       "      <td>PDGFRB</td>\n",
       "      <td>ncbigene5159</td>\n",
       "      <td>imatinib</td>\n",
       "      <td>NCT00372476</td>\n",
       "      <td>Phase 4</td>\n",
       "      <td>2006</td>\n",
       "    </tr>\n",
       "    <tr>\n",
       "      <th>17</th>\n",
       "      <td>Leukemia</td>\n",
       "      <td>meshd007938</td>\n",
       "      <td>ABL1</td>\n",
       "      <td>ncbigene25</td>\n",
       "      <td>imatinib</td>\n",
       "      <td>NCT02317159;NCT00390897;NCT00786812;NCT0220472...</td>\n",
       "      <td>Phase 4</td>\n",
       "      <td>2003</td>\n",
       "    </tr>\n",
       "    <tr>\n",
       "      <th>18</th>\n",
       "      <td>Leukemia</td>\n",
       "      <td>meshd007938</td>\n",
       "      <td>PDGFRA</td>\n",
       "      <td>ncbigene5156</td>\n",
       "      <td>imatinib</td>\n",
       "      <td>NCT02317159;NCT00390897;NCT00786812;NCT0220472...</td>\n",
       "      <td>Phase 4</td>\n",
       "      <td>2003</td>\n",
       "    </tr>\n",
       "  </tbody>\n",
       "</table>\n",
       "</div>"
      ],
      "text/plain": [
       "              cancer      mesh_id  kinase       gene_id       pki  \\\n",
       "14  Breast Neoplasms  meshd001943    ABL1    ncbigene25  imatinib   \n",
       "15  Breast Neoplasms  meshd001943  PDGFRA  ncbigene5156  imatinib   \n",
       "16  Breast Neoplasms  meshd001943  PDGFRB  ncbigene5159  imatinib   \n",
       "17          Leukemia  meshd007938    ABL1    ncbigene25  imatinib   \n",
       "18          Leukemia  meshd007938  PDGFRA  ncbigene5156  imatinib   \n",
       "\n",
       "                                                  nct    phase  year  \n",
       "14                                        NCT00372476  Phase 4  2006  \n",
       "15                                        NCT00372476  Phase 4  2006  \n",
       "16                                        NCT00372476  Phase 4  2006  \n",
       "17  NCT02317159;NCT00390897;NCT00786812;NCT0220472...  Phase 4  2003  \n",
       "18  NCT02317159;NCT00390897;NCT00786812;NCT0220472...  Phase 4  2003  "
      ]
     },
     "execution_count": 5,
     "metadata": {},
     "output_type": "execute_result"
    }
   ],
   "source": [
    "df = dsGen._get_positive_data_set(2012)\n",
    "df.head()\n"
   ]
  },
  {
   "cell_type": "code",
   "execution_count": 6,
   "metadata": {},
   "outputs": [
    {
     "name": "stdout",
     "output_type": "stream",
     "text": [
      "GPVDS year=2012\n",
      "[INFO] We generated a negative set with 222 examples (the positive set has 589)\n"
     ]
    },
    {
     "data": {
      "text/html": [
       "<div>\n",
       "<style scoped>\n",
       "    .dataframe tbody tr th:only-of-type {\n",
       "        vertical-align: middle;\n",
       "    }\n",
       "\n",
       "    .dataframe tbody tr th {\n",
       "        vertical-align: top;\n",
       "    }\n",
       "\n",
       "    .dataframe thead th {\n",
       "        text-align: right;\n",
       "    }\n",
       "</style>\n",
       "<table border=\"1\" class=\"dataframe\">\n",
       "  <thead>\n",
       "    <tr style=\"text-align: right;\">\n",
       "      <th></th>\n",
       "      <th>gene_id</th>\n",
       "      <th>mesh_id</th>\n",
       "    </tr>\n",
       "  </thead>\n",
       "  <tbody>\n",
       "    <tr>\n",
       "      <th>0</th>\n",
       "      <td>ncbigene5609</td>\n",
       "      <td>meshd018285</td>\n",
       "    </tr>\n",
       "    <tr>\n",
       "      <th>1</th>\n",
       "      <td>ncbigene4140</td>\n",
       "      <td>meshd008479</td>\n",
       "    </tr>\n",
       "    <tr>\n",
       "      <th>2</th>\n",
       "      <td>ncbigene57172</td>\n",
       "      <td>meshd015674</td>\n",
       "    </tr>\n",
       "    <tr>\n",
       "      <th>3</th>\n",
       "      <td>ncbigene1147</td>\n",
       "      <td>meshd016582</td>\n",
       "    </tr>\n",
       "    <tr>\n",
       "      <th>4</th>\n",
       "      <td>ncbigene1017</td>\n",
       "      <td>meshd018291</td>\n",
       "    </tr>\n",
       "  </tbody>\n",
       "</table>\n",
       "</div>"
      ],
      "text/plain": [
       "         gene_id      mesh_id\n",
       "0   ncbigene5609  meshd018285\n",
       "1   ncbigene4140  meshd008479\n",
       "2  ncbigene57172  meshd015674\n",
       "3   ncbigene1147  meshd016582\n",
       "4   ncbigene1017  meshd018291"
      ]
     },
     "execution_count": 6,
     "metadata": {},
     "output_type": "execute_result"
    }
   ],
   "source": [
    "d=dsGen._get_positive_validation_data_set(2012)\n",
    "d2 = dsGen._get_negative_validation_data_set(negative_df=d)\n",
    "d2.head()"
   ]
  },
  {
   "cell_type": "code",
   "execution_count": 7,
   "metadata": {},
   "outputs": [
    {
     "name": "stdout",
     "output_type": "stream",
     "text": [
      "[INFO] We generated a negative set with 390 examples (the positive set has 39)\n",
      "GPVDS year=2012\n",
      "[INFO] We generated a negative set with 390 examples (the positive set has 589)\n"
     ]
    }
   ],
   "source": [
    "positive_df, negative_df, positive_validation_df, negative_validation_df = \\\n",
    "   dsGen.get_data_for_target_year(target_year=target_year)"
   ]
  },
  {
   "cell_type": "markdown",
   "metadata": {},
   "source": [
    "## Positive data\n",
    "We use this data frame for test and training. It contains all phase 4 trials completed up to and including the\n",
    "target year."
   ]
  },
  {
   "cell_type": "code",
   "execution_count": 8,
   "metadata": {},
   "outputs": [
    {
     "data": {
      "text/html": [
       "<div>\n",
       "<style scoped>\n",
       "    .dataframe tbody tr th:only-of-type {\n",
       "        vertical-align: middle;\n",
       "    }\n",
       "\n",
       "    .dataframe tbody tr th {\n",
       "        vertical-align: top;\n",
       "    }\n",
       "\n",
       "    .dataframe thead th {\n",
       "        text-align: right;\n",
       "    }\n",
       "</style>\n",
       "<table border=\"1\" class=\"dataframe\">\n",
       "  <thead>\n",
       "    <tr style=\"text-align: right;\">\n",
       "      <th></th>\n",
       "      <th>cancer</th>\n",
       "      <th>mesh_id</th>\n",
       "      <th>kinase</th>\n",
       "      <th>gene_id</th>\n",
       "      <th>pki</th>\n",
       "      <th>nct</th>\n",
       "      <th>phase</th>\n",
       "      <th>year</th>\n",
       "    </tr>\n",
       "  </thead>\n",
       "  <tbody>\n",
       "    <tr>\n",
       "      <th>14</th>\n",
       "      <td>Breast Neoplasms</td>\n",
       "      <td>meshd001943</td>\n",
       "      <td>ABL1</td>\n",
       "      <td>ncbigene25</td>\n",
       "      <td>imatinib</td>\n",
       "      <td>NCT00372476</td>\n",
       "      <td>Phase 4</td>\n",
       "      <td>2006</td>\n",
       "    </tr>\n",
       "    <tr>\n",
       "      <th>15</th>\n",
       "      <td>Breast Neoplasms</td>\n",
       "      <td>meshd001943</td>\n",
       "      <td>PDGFRA</td>\n",
       "      <td>ncbigene5156</td>\n",
       "      <td>imatinib</td>\n",
       "      <td>NCT00372476</td>\n",
       "      <td>Phase 4</td>\n",
       "      <td>2006</td>\n",
       "    </tr>\n",
       "    <tr>\n",
       "      <th>16</th>\n",
       "      <td>Breast Neoplasms</td>\n",
       "      <td>meshd001943</td>\n",
       "      <td>PDGFRB</td>\n",
       "      <td>ncbigene5159</td>\n",
       "      <td>imatinib</td>\n",
       "      <td>NCT00372476</td>\n",
       "      <td>Phase 4</td>\n",
       "      <td>2006</td>\n",
       "    </tr>\n",
       "    <tr>\n",
       "      <th>17</th>\n",
       "      <td>Leukemia</td>\n",
       "      <td>meshd007938</td>\n",
       "      <td>ABL1</td>\n",
       "      <td>ncbigene25</td>\n",
       "      <td>imatinib</td>\n",
       "      <td>NCT02317159;NCT00390897;NCT00786812;NCT0220472...</td>\n",
       "      <td>Phase 4</td>\n",
       "      <td>2003</td>\n",
       "    </tr>\n",
       "    <tr>\n",
       "      <th>18</th>\n",
       "      <td>Leukemia</td>\n",
       "      <td>meshd007938</td>\n",
       "      <td>PDGFRA</td>\n",
       "      <td>ncbigene5156</td>\n",
       "      <td>imatinib</td>\n",
       "      <td>NCT02317159;NCT00390897;NCT00786812;NCT0220472...</td>\n",
       "      <td>Phase 4</td>\n",
       "      <td>2003</td>\n",
       "    </tr>\n",
       "  </tbody>\n",
       "</table>\n",
       "</div>"
      ],
      "text/plain": [
       "              cancer      mesh_id  kinase       gene_id       pki  \\\n",
       "14  Breast Neoplasms  meshd001943    ABL1    ncbigene25  imatinib   \n",
       "15  Breast Neoplasms  meshd001943  PDGFRA  ncbigene5156  imatinib   \n",
       "16  Breast Neoplasms  meshd001943  PDGFRB  ncbigene5159  imatinib   \n",
       "17          Leukemia  meshd007938    ABL1    ncbigene25  imatinib   \n",
       "18          Leukemia  meshd007938  PDGFRA  ncbigene5156  imatinib   \n",
       "\n",
       "                                                  nct    phase  year  \n",
       "14                                        NCT00372476  Phase 4  2006  \n",
       "15                                        NCT00372476  Phase 4  2006  \n",
       "16                                        NCT00372476  Phase 4  2006  \n",
       "17  NCT02317159;NCT00390897;NCT00786812;NCT0220472...  Phase 4  2003  \n",
       "18  NCT02317159;NCT00390897;NCT00786812;NCT0220472...  Phase 4  2003  "
      ]
     },
     "execution_count": 8,
     "metadata": {},
     "output_type": "execute_result"
    }
   ],
   "source": [
    "positive_df.head()"
   ]
  },
  {
   "cell_type": "markdown",
   "metadata": {},
   "source": [
    "# Output file\n",
    "We write the file for machine learning as follows"
   ]
  },
  {
   "cell_type": "code",
   "execution_count": 14,
   "metadata": {},
   "outputs": [
    {
     "data": {
      "text/html": [
       "<div>\n",
       "<style scoped>\n",
       "    .dataframe tbody tr th:only-of-type {\n",
       "        vertical-align: middle;\n",
       "    }\n",
       "\n",
       "    .dataframe tbody tr th {\n",
       "        vertical-align: top;\n",
       "    }\n",
       "\n",
       "    .dataframe thead th {\n",
       "        text-align: right;\n",
       "    }\n",
       "</style>\n",
       "<table border=\"1\" class=\"dataframe\">\n",
       "  <thead>\n",
       "    <tr style=\"text-align: right;\">\n",
       "      <th></th>\n",
       "      <th>gene_id</th>\n",
       "      <th>mesh_id</th>\n",
       "    </tr>\n",
       "  </thead>\n",
       "  <tbody>\n",
       "    <tr>\n",
       "      <th>14</th>\n",
       "      <td>ncbigene25</td>\n",
       "      <td>meshd001943</td>\n",
       "    </tr>\n",
       "    <tr>\n",
       "      <th>15</th>\n",
       "      <td>ncbigene5156</td>\n",
       "      <td>meshd001943</td>\n",
       "    </tr>\n",
       "    <tr>\n",
       "      <th>16</th>\n",
       "      <td>ncbigene5159</td>\n",
       "      <td>meshd001943</td>\n",
       "    </tr>\n",
       "    <tr>\n",
       "      <th>17</th>\n",
       "      <td>ncbigene25</td>\n",
       "      <td>meshd007938</td>\n",
       "    </tr>\n",
       "    <tr>\n",
       "      <th>18</th>\n",
       "      <td>ncbigene5156</td>\n",
       "      <td>meshd007938</td>\n",
       "    </tr>\n",
       "  </tbody>\n",
       "</table>\n",
       "</div>"
      ],
      "text/plain": [
       "         gene_id      mesh_id\n",
       "14    ncbigene25  meshd001943\n",
       "15  ncbigene5156  meshd001943\n",
       "16  ncbigene5159  meshd001943\n",
       "17    ncbigene25  meshd007938\n",
       "18  ncbigene5156  meshd007938"
      ]
     },
     "execution_count": 14,
     "metadata": {},
     "output_type": "execute_result"
    }
   ],
   "source": [
    "pos_df = positive_df[['gene_id','mesh_id']]\n",
    "# Uncomment to output file\n",
    "#outname = \"positive_upto_2012.tsv\"\n",
    "#pos_df.to_csv(outname, sep='\\t')\n",
    "pos_df.head()"
   ]
  },
  {
   "cell_type": "markdown",
   "metadata": {},
   "source": [
    "# Negative data\n",
    "This data is used for test and training. It contains a sample with factor times (default=10) as many random combinations of kinases and cancers that we not positive as of the target year. Note that the dataframes for negative examples just have the columns ``gene_id`` and ``mesh_id``."
   ]
  },
  {
   "cell_type": "code",
   "execution_count": 17,
   "metadata": {},
   "outputs": [
    {
     "data": {
      "text/html": [
       "<div>\n",
       "<style scoped>\n",
       "    .dataframe tbody tr th:only-of-type {\n",
       "        vertical-align: middle;\n",
       "    }\n",
       "\n",
       "    .dataframe tbody tr th {\n",
       "        vertical-align: top;\n",
       "    }\n",
       "\n",
       "    .dataframe thead th {\n",
       "        text-align: right;\n",
       "    }\n",
       "</style>\n",
       "<table border=\"1\" class=\"dataframe\">\n",
       "  <thead>\n",
       "    <tr style=\"text-align: right;\">\n",
       "      <th></th>\n",
       "      <th>gene_id</th>\n",
       "      <th>mesh_id</th>\n",
       "    </tr>\n",
       "  </thead>\n",
       "  <tbody>\n",
       "    <tr>\n",
       "      <th>0</th>\n",
       "      <td>ncbigene91419</td>\n",
       "      <td>meshd058617</td>\n",
       "    </tr>\n",
       "    <tr>\n",
       "      <th>1</th>\n",
       "      <td>ncbigene84451</td>\n",
       "      <td>meshd002813</td>\n",
       "    </tr>\n",
       "    <tr>\n",
       "      <th>2</th>\n",
       "      <td>ncbigene9088</td>\n",
       "      <td>meshd014594</td>\n",
       "    </tr>\n",
       "    <tr>\n",
       "      <th>3</th>\n",
       "      <td>ncbigene7867</td>\n",
       "      <td>meshd017600</td>\n",
       "    </tr>\n",
       "    <tr>\n",
       "      <th>4</th>\n",
       "      <td>ncbigene1436</td>\n",
       "      <td>meshd019572</td>\n",
       "    </tr>\n",
       "  </tbody>\n",
       "</table>\n",
       "</div>"
      ],
      "text/plain": [
       "         gene_id      mesh_id\n",
       "0  ncbigene91419  meshd058617\n",
       "1  ncbigene84451  meshd002813\n",
       "2   ncbigene9088  meshd014594\n",
       "3   ncbigene7867  meshd017600\n",
       "4   ncbigene1436  meshd019572"
      ]
     },
     "execution_count": 17,
     "metadata": {},
     "output_type": "execute_result"
    }
   ],
   "source": [
    "negative_df.head()"
   ]
  },
  {
   "cell_type": "markdown",
   "metadata": {},
   "source": [
    "# Positive validation data\n",
    "This file has data for all four study phases and for all years following the target year. We should predicting them\n",
    "all at once and then use postprocessing in a script to figure out the results for each year."
   ]
  },
  {
   "cell_type": "code",
   "execution_count": 11,
   "metadata": {},
   "outputs": [
    {
     "data": {
      "text/html": [
       "<div>\n",
       "<style scoped>\n",
       "    .dataframe tbody tr th:only-of-type {\n",
       "        vertical-align: middle;\n",
       "    }\n",
       "\n",
       "    .dataframe tbody tr th {\n",
       "        vertical-align: top;\n",
       "    }\n",
       "\n",
       "    .dataframe thead th {\n",
       "        text-align: right;\n",
       "    }\n",
       "</style>\n",
       "<table border=\"1\" class=\"dataframe\">\n",
       "  <thead>\n",
       "    <tr style=\"text-align: right;\">\n",
       "      <th></th>\n",
       "      <th>cancer</th>\n",
       "      <th>mesh_id</th>\n",
       "      <th>kinase</th>\n",
       "      <th>gene_id</th>\n",
       "      <th>pki</th>\n",
       "      <th>nct</th>\n",
       "      <th>phase</th>\n",
       "      <th>year</th>\n",
       "    </tr>\n",
       "  </thead>\n",
       "  <tbody>\n",
       "    <tr>\n",
       "      <th>6</th>\n",
       "      <td>Carcinoma, Non-Small-Cell Lung</td>\n",
       "      <td>meshd002289</td>\n",
       "      <td>EGFR</td>\n",
       "      <td>ncbigene1956</td>\n",
       "      <td>afatinib</td>\n",
       "      <td>NCT04413201;NCT02695290;NCT02208843;NCT0435611...</td>\n",
       "      <td>Phase 4</td>\n",
       "      <td>2014</td>\n",
       "    </tr>\n",
       "    <tr>\n",
       "      <th>7</th>\n",
       "      <td>Carcinoma, Non-Small-Cell Lung</td>\n",
       "      <td>meshd002289</td>\n",
       "      <td>ERBB2</td>\n",
       "      <td>ncbigene2064</td>\n",
       "      <td>afatinib</td>\n",
       "      <td>NCT04413201;NCT02695290;NCT02208843;NCT0435611...</td>\n",
       "      <td>Phase 4</td>\n",
       "      <td>2014</td>\n",
       "    </tr>\n",
       "    <tr>\n",
       "      <th>8</th>\n",
       "      <td>Urinary Bladder Neoplasms</td>\n",
       "      <td>meshd001749</td>\n",
       "      <td>EGFR</td>\n",
       "      <td>ncbigene1956</td>\n",
       "      <td>afatinib</td>\n",
       "      <td>NCT02122172;NCT02465060</td>\n",
       "      <td>Phase 2</td>\n",
       "      <td>2013</td>\n",
       "    </tr>\n",
       "    <tr>\n",
       "      <th>9</th>\n",
       "      <td>Urinary Bladder Neoplasms</td>\n",
       "      <td>meshd001749</td>\n",
       "      <td>ERBB2</td>\n",
       "      <td>ncbigene2064</td>\n",
       "      <td>afatinib</td>\n",
       "      <td>NCT02122172;NCT02465060</td>\n",
       "      <td>Phase 2</td>\n",
       "      <td>2013</td>\n",
       "    </tr>\n",
       "    <tr>\n",
       "      <th>10</th>\n",
       "      <td>Urethral Neoplasms</td>\n",
       "      <td>meshd014523</td>\n",
       "      <td>EGFR</td>\n",
       "      <td>ncbigene1956</td>\n",
       "      <td>afatinib</td>\n",
       "      <td>NCT02122172</td>\n",
       "      <td>Phase 2</td>\n",
       "      <td>2013</td>\n",
       "    </tr>\n",
       "  </tbody>\n",
       "</table>\n",
       "</div>"
      ],
      "text/plain": [
       "                            cancer      mesh_id kinase       gene_id  \\\n",
       "6   Carcinoma, Non-Small-Cell Lung  meshd002289   EGFR  ncbigene1956   \n",
       "7   Carcinoma, Non-Small-Cell Lung  meshd002289  ERBB2  ncbigene2064   \n",
       "8        Urinary Bladder Neoplasms  meshd001749   EGFR  ncbigene1956   \n",
       "9        Urinary Bladder Neoplasms  meshd001749  ERBB2  ncbigene2064   \n",
       "10              Urethral Neoplasms  meshd014523   EGFR  ncbigene1956   \n",
       "\n",
       "         pki                                                nct    phase  year  \n",
       "6   afatinib  NCT04413201;NCT02695290;NCT02208843;NCT0435611...  Phase 4  2014  \n",
       "7   afatinib  NCT04413201;NCT02695290;NCT02208843;NCT0435611...  Phase 4  2014  \n",
       "8   afatinib                            NCT02122172;NCT02465060  Phase 2  2013  \n",
       "9   afatinib                            NCT02122172;NCT02465060  Phase 2  2013  \n",
       "10  afatinib                                        NCT02122172  Phase 2  2013  "
      ]
     },
     "execution_count": 11,
     "metadata": {},
     "output_type": "execute_result"
    }
   ],
   "source": [
    "positive_validation_df.head()"
   ]
  },
  {
   "cell_type": "markdown",
   "metadata": {},
   "source": [
    "# Negative validation data\n",
    "This is similar to the negative training data in that it just has two columns."
   ]
  },
  {
   "cell_type": "code",
   "execution_count": 20,
   "metadata": {},
   "outputs": [
    {
     "data": {
      "text/html": [
       "<div>\n",
       "<style scoped>\n",
       "    .dataframe tbody tr th:only-of-type {\n",
       "        vertical-align: middle;\n",
       "    }\n",
       "\n",
       "    .dataframe tbody tr th {\n",
       "        vertical-align: top;\n",
       "    }\n",
       "\n",
       "    .dataframe thead th {\n",
       "        text-align: right;\n",
       "    }\n",
       "</style>\n",
       "<table border=\"1\" class=\"dataframe\">\n",
       "  <thead>\n",
       "    <tr style=\"text-align: right;\">\n",
       "      <th></th>\n",
       "      <th>gene_id</th>\n",
       "      <th>mesh_id</th>\n",
       "    </tr>\n",
       "  </thead>\n",
       "  <tbody>\n",
       "    <tr>\n",
       "      <th>0</th>\n",
       "      <td>ncbigene25865</td>\n",
       "      <td>meshd012512</td>\n",
       "    </tr>\n",
       "    <tr>\n",
       "      <th>1</th>\n",
       "      <td>ncbigene25778</td>\n",
       "      <td>meshd051527</td>\n",
       "    </tr>\n",
       "    <tr>\n",
       "      <th>2</th>\n",
       "      <td>ncbigene5164</td>\n",
       "      <td>meshd006223</td>\n",
       "    </tr>\n",
       "    <tr>\n",
       "      <th>3</th>\n",
       "      <td>ncbigene1457</td>\n",
       "      <td>meshd016864</td>\n",
       "    </tr>\n",
       "    <tr>\n",
       "      <th>4</th>\n",
       "      <td>ncbigene79705</td>\n",
       "      <td>meshd010048</td>\n",
       "    </tr>\n",
       "  </tbody>\n",
       "</table>\n",
       "</div>"
      ],
      "text/plain": [
       "         gene_id      mesh_id\n",
       "0  ncbigene25865  meshd012512\n",
       "1  ncbigene25778  meshd051527\n",
       "2   ncbigene5164  meshd006223\n",
       "3   ncbigene1457  meshd016864\n",
       "4  ncbigene79705  meshd010048"
      ]
     },
     "execution_count": 20,
     "metadata": {},
     "output_type": "execute_result"
    }
   ],
   "source": [
    "negative_validation_df.head()"
   ]
  },
  {
   "cell_type": "code",
   "execution_count": null,
   "metadata": {},
   "outputs": [],
   "source": []
  }
 ],
 "metadata": {
  "kernelspec": {
   "display_name": "p38",
   "language": "python",
   "name": "p38"
  },
  "language_info": {
   "codemirror_mode": {
    "name": "ipython",
    "version": 3
   },
   "file_extension": ".py",
   "mimetype": "text/x-python",
   "name": "python",
   "nbconvert_exporter": "python",
   "pygments_lexer": "ipython3",
   "version": "3.7.3"
  }
 },
 "nbformat": 4,
 "nbformat_minor": 2
}
