{
 "cells": [
  {
   "cell_type": "markdown",
   "metadata": {},
   "source": [
    "# Untargeted\n",
    "This demo notebook shows how to extract a list of targeted and untargeted kinases according to a certain year."
   ]
  },
  {
   "cell_type": "code",
   "execution_count": 1,
   "metadata": {},
   "outputs": [],
   "source": [
    "import pandas as pd\n",
    "import os\n",
    "import sys"
   ]
  },
  {
   "cell_type": "code",
   "execution_count": 2,
   "metadata": {},
   "outputs": [],
   "source": [
    "sys.path.insert(0, os.path.abspath('..'))\n",
    "from kcet import UnTargetedKinases"
   ]
  },
  {
   "cell_type": "code",
   "execution_count": 3,
   "metadata": {},
   "outputs": [],
   "source": [
    "clinical_trials_by_phase_example = '../example/clinical_trials_by_phase.tsv'\n",
    "if not os.path.exists(clinical_trials_by_phase_example):\n",
    "    raise FileNotFoundError(\"Could not find example/clinical_trials_by_phase.tsv\")"
   ]
  },
  {
   "cell_type": "markdown",
   "metadata": {},
   "source": [
    "By default, if no year is provided, the parser looks at all studies up to the current year"
   ]
  },
  {
   "cell_type": "code",
   "execution_count": 4,
   "metadata": {},
   "outputs": [
    {
     "name": "stdout",
     "output_type": "stream",
     "text": [
      "[INFO] Reading protein kinase information from /home/peter/GIT/KCET/input/prot_kinase.tsv\n",
      "[INFO] Parsed data for the following medications:\n",
      "[INFO] imatinib\n",
      "[INFO] afatinib\n"
     ]
    }
   ],
   "source": [
    "untargeted = UnTargetedKinases(clinical_trials_by_phase=clinical_trials_by_phase_example)"
   ]
  },
  {
   "cell_type": "markdown",
   "metadata": {},
   "source": [
    "clinical_trials_by_phase.tsvGet a data frame with targeted kinases. The fact that a kinase is targeted is \n",
    "derived from the ``clinical_trials_by_phase.tsv`` file, which is created by [yactp](https://github.com/monarch-initiative/yactp)."
   ]
  },
  {
   "cell_type": "code",
   "execution_count": 5,
   "metadata": {},
   "outputs": [
    {
     "data": {
      "text/html": [
       "<div>\n",
       "<style scoped>\n",
       "    .dataframe tbody tr th:only-of-type {\n",
       "        vertical-align: middle;\n",
       "    }\n",
       "\n",
       "    .dataframe tbody tr th {\n",
       "        vertical-align: top;\n",
       "    }\n",
       "\n",
       "    .dataframe thead th {\n",
       "        text-align: right;\n",
       "    }\n",
       "</style>\n",
       "<table border=\"1\" class=\"dataframe\">\n",
       "  <thead>\n",
       "    <tr style=\"text-align: right;\">\n",
       "      <th></th>\n",
       "      <th>gene.id</th>\n",
       "      <th>kinase</th>\n",
       "    </tr>\n",
       "  </thead>\n",
       "  <tbody>\n",
       "    <tr>\n",
       "      <th>0</th>\n",
       "      <td>ncbigene25</td>\n",
       "      <td>ABL1</td>\n",
       "    </tr>\n",
       "    <tr>\n",
       "      <th>1</th>\n",
       "      <td>ncbigene1956</td>\n",
       "      <td>EGFR</td>\n",
       "    </tr>\n",
       "    <tr>\n",
       "      <th>2</th>\n",
       "      <td>ncbigene2064</td>\n",
       "      <td>ERBB2</td>\n",
       "    </tr>\n",
       "    <tr>\n",
       "      <th>3</th>\n",
       "      <td>ncbigene5156</td>\n",
       "      <td>PDGFRA</td>\n",
       "    </tr>\n",
       "    <tr>\n",
       "      <th>4</th>\n",
       "      <td>ncbigene5159</td>\n",
       "      <td>PDGFRB</td>\n",
       "    </tr>\n",
       "  </tbody>\n",
       "</table>\n",
       "</div>"
      ],
      "text/plain": [
       "        gene.id  kinase\n",
       "0    ncbigene25    ABL1\n",
       "1  ncbigene1956    EGFR\n",
       "2  ncbigene2064   ERBB2\n",
       "3  ncbigene5156  PDGFRA\n",
       "4  ncbigene5159  PDGFRB"
      ]
     },
     "execution_count": 5,
     "metadata": {},
     "output_type": "execute_result"
    }
   ],
   "source": [
    "target_kinases = untargeted.get_targeted_kinases_with_gene_id()\n",
    "target_kinases.head()"
   ]
  },
  {
   "cell_type": "markdown",
   "metadata": {},
   "source": [
    "Likewise we can get a dataframe of kinases that have not been targeted yet. The purpose of this project is to associated\n",
    "a previously untargeted kinase with a form of cancer in which inhibition of the kinase will be \n",
    "therapeutically useful."
   ]
  },
  {
   "cell_type": "code",
   "execution_count": 6,
   "metadata": {},
   "outputs": [
    {
     "data": {
      "text/html": [
       "<div>\n",
       "<style scoped>\n",
       "    .dataframe tbody tr th:only-of-type {\n",
       "        vertical-align: middle;\n",
       "    }\n",
       "\n",
       "    .dataframe tbody tr th {\n",
       "        vertical-align: top;\n",
       "    }\n",
       "\n",
       "    .dataframe thead th {\n",
       "        text-align: right;\n",
       "    }\n",
       "</style>\n",
       "<table border=\"1\" class=\"dataframe\">\n",
       "  <thead>\n",
       "    <tr style=\"text-align: right;\">\n",
       "      <th></th>\n",
       "      <th>gene.id</th>\n",
       "      <th>kinase</th>\n",
       "    </tr>\n",
       "  </thead>\n",
       "  <tbody>\n",
       "    <tr>\n",
       "      <th>0</th>\n",
       "      <td>ncbigene23552</td>\n",
       "      <td>CDK20</td>\n",
       "    </tr>\n",
       "    <tr>\n",
       "      <th>1</th>\n",
       "      <td>ncbigene8767</td>\n",
       "      <td>RIPK2</td>\n",
       "    </tr>\n",
       "    <tr>\n",
       "      <th>2</th>\n",
       "      <td>ncbigene7046</td>\n",
       "      <td>TGFBR1</td>\n",
       "    </tr>\n",
       "    <tr>\n",
       "      <th>3</th>\n",
       "      <td>ncbigene5289</td>\n",
       "      <td>PIK3C3</td>\n",
       "    </tr>\n",
       "    <tr>\n",
       "      <th>4</th>\n",
       "      <td>ncbigene7301</td>\n",
       "      <td>TYRO3</td>\n",
       "    </tr>\n",
       "    <tr>\n",
       "      <th>5</th>\n",
       "      <td>ncbigene2322</td>\n",
       "      <td>FLT3</td>\n",
       "    </tr>\n",
       "    <tr>\n",
       "      <th>6</th>\n",
       "      <td>ncbigene8536</td>\n",
       "      <td>CAMK1</td>\n",
       "    </tr>\n",
       "    <tr>\n",
       "      <th>7</th>\n",
       "      <td>ncbigene2869</td>\n",
       "      <td>GRK5</td>\n",
       "    </tr>\n",
       "    <tr>\n",
       "      <th>8</th>\n",
       "      <td>ncbigene81788</td>\n",
       "      <td>NUAK2</td>\n",
       "    </tr>\n",
       "    <tr>\n",
       "      <th>9</th>\n",
       "      <td>ncbigene23049</td>\n",
       "      <td>SMG1</td>\n",
       "    </tr>\n",
       "  </tbody>\n",
       "</table>\n",
       "</div>"
      ],
      "text/plain": [
       "         gene.id  kinase\n",
       "0  ncbigene23552   CDK20\n",
       "1   ncbigene8767   RIPK2\n",
       "2   ncbigene7046  TGFBR1\n",
       "3   ncbigene5289  PIK3C3\n",
       "4   ncbigene7301   TYRO3\n",
       "5   ncbigene2322    FLT3\n",
       "6   ncbigene8536   CAMK1\n",
       "7   ncbigene2869    GRK5\n",
       "8  ncbigene81788   NUAK2\n",
       "9  ncbigene23049    SMG1"
      ]
     },
     "execution_count": 6,
     "metadata": {},
     "output_type": "execute_result"
    }
   ],
   "source": [
    "untargeted_kinases = untargeted.get_untargeted_kinases_with_gene_id()\n",
    "untargeted_kinases.head(10)"
   ]
  },
  {
   "cell_type": "code",
   "execution_count": 7,
   "metadata": {},
   "outputs": [
    {
     "name": "stdout",
     "output_type": "stream",
     "text": [
      "We got a total of 517 untargeted kinases\n"
     ]
    }
   ],
   "source": [
    "print(\"We got a total of %d untargeted kinases\" % len(untargeted_kinases))"
   ]
  },
  {
   "cell_type": "markdown",
   "metadata": {},
   "source": [
    "# Phase 4\n",
    "We also want to extract a list of kinases targeted by phase 4 studies -- these are our positive training kinases. Note that there is no 'phase 4 untargeted', instead we just take the above list of untargeted kinases."
   ]
  },
  {
   "cell_type": "code",
   "execution_count": 8,
   "metadata": {},
   "outputs": [
    {
     "data": {
      "text/html": [
       "<div>\n",
       "<style scoped>\n",
       "    .dataframe tbody tr th:only-of-type {\n",
       "        vertical-align: middle;\n",
       "    }\n",
       "\n",
       "    .dataframe tbody tr th {\n",
       "        vertical-align: top;\n",
       "    }\n",
       "\n",
       "    .dataframe thead th {\n",
       "        text-align: right;\n",
       "    }\n",
       "</style>\n",
       "<table border=\"1\" class=\"dataframe\">\n",
       "  <thead>\n",
       "    <tr style=\"text-align: right;\">\n",
       "      <th></th>\n",
       "      <th>gene.id</th>\n",
       "      <th>kinase</th>\n",
       "    </tr>\n",
       "  </thead>\n",
       "  <tbody>\n",
       "    <tr>\n",
       "      <th>0</th>\n",
       "      <td>ncbigene25</td>\n",
       "      <td>ABL1</td>\n",
       "    </tr>\n",
       "    <tr>\n",
       "      <th>1</th>\n",
       "      <td>ncbigene1956</td>\n",
       "      <td>EGFR</td>\n",
       "    </tr>\n",
       "    <tr>\n",
       "      <th>2</th>\n",
       "      <td>ncbigene2064</td>\n",
       "      <td>ERBB2</td>\n",
       "    </tr>\n",
       "    <tr>\n",
       "      <th>3</th>\n",
       "      <td>ncbigene5156</td>\n",
       "      <td>PDGFRA</td>\n",
       "    </tr>\n",
       "    <tr>\n",
       "      <th>4</th>\n",
       "      <td>ncbigene5159</td>\n",
       "      <td>PDGFRB</td>\n",
       "    </tr>\n",
       "  </tbody>\n",
       "</table>\n",
       "</div>"
      ],
      "text/plain": [
       "        gene.id  kinase\n",
       "0    ncbigene25    ABL1\n",
       "1  ncbigene1956    EGFR\n",
       "2  ncbigene2064   ERBB2\n",
       "3  ncbigene5156  PDGFRA\n",
       "4  ncbigene5159  PDGFRB"
      ]
     },
     "execution_count": 8,
     "metadata": {},
     "output_type": "execute_result"
    }
   ],
   "source": [
    "targeted_kinases_phase_4 = untargeted.get_targeted_kinases_with_gene_id_phase_4()\n",
    "targeted_kinases_phase_4.head()"
   ]
  },
  {
   "cell_type": "markdown",
   "metadata": {},
   "source": [
    "# Limit by year\n",
    "For assessing the accuracy of the algorithm, historical snapshots are taken for a certain year. All data about studies that\n",
    "target a certain protein-kinase inhibitor that were started after this year are discarded. In this example, we\n",
    "choose the year 2000, and only 3 of the original 5 protein kinases are identified as targeted."
   ]
  },
  {
   "cell_type": "code",
   "execution_count": 9,
   "metadata": {},
   "outputs": [
    {
     "name": "stdout",
     "output_type": "stream",
     "text": [
      "[INFO] Reading protein kinase information from /home/peter/GIT/KCET/input/prot_kinase.tsv\n",
      "[INFO] Parsed data for the following medications:\n",
      "[INFO] imatinib\n",
      "[INFO] afatinib\n"
     ]
    }
   ],
   "source": [
    "untargeted_2000 = UnTargetedKinases(clinical_trials_by_phase=clinical_trials_by_phase_example, year=2000)"
   ]
  },
  {
   "cell_type": "code",
   "execution_count": 10,
   "metadata": {},
   "outputs": [
    {
     "data": {
      "text/html": [
       "<div>\n",
       "<style scoped>\n",
       "    .dataframe tbody tr th:only-of-type {\n",
       "        vertical-align: middle;\n",
       "    }\n",
       "\n",
       "    .dataframe tbody tr th {\n",
       "        vertical-align: top;\n",
       "    }\n",
       "\n",
       "    .dataframe thead th {\n",
       "        text-align: right;\n",
       "    }\n",
       "</style>\n",
       "<table border=\"1\" class=\"dataframe\">\n",
       "  <thead>\n",
       "    <tr style=\"text-align: right;\">\n",
       "      <th></th>\n",
       "      <th>gene.id</th>\n",
       "      <th>kinase</th>\n",
       "    </tr>\n",
       "  </thead>\n",
       "  <tbody>\n",
       "    <tr>\n",
       "      <th>0</th>\n",
       "      <td>ncbigene25</td>\n",
       "      <td>ABL1</td>\n",
       "    </tr>\n",
       "    <tr>\n",
       "      <th>1</th>\n",
       "      <td>ncbigene5156</td>\n",
       "      <td>PDGFRA</td>\n",
       "    </tr>\n",
       "    <tr>\n",
       "      <th>2</th>\n",
       "      <td>ncbigene5159</td>\n",
       "      <td>PDGFRB</td>\n",
       "    </tr>\n",
       "  </tbody>\n",
       "</table>\n",
       "</div>"
      ],
      "text/plain": [
       "        gene.id  kinase\n",
       "0    ncbigene25    ABL1\n",
       "1  ncbigene5156  PDGFRA\n",
       "2  ncbigene5159  PDGFRB"
      ]
     },
     "execution_count": 10,
     "metadata": {},
     "output_type": "execute_result"
    }
   ],
   "source": [
    "target_kinases = untargeted_2000.get_targeted_kinases_with_gene_id()\n",
    "target_kinases.head()"
   ]
  },
  {
   "cell_type": "markdown",
   "metadata": {},
   "source": [
    "# File output\n",
    "Note that the kce_tool app writes these dataframes to file. The following examples show the filenames for year=2-17.\n",
    "* targeted_kinases_2017.tsv\n",
    "* untargeted_kinases_2017.tsv\n",
    "* targeted_kinases_phase_4_2017.tsv"
   ]
  }
 ],
 "metadata": {
  "kernelspec": {
   "display_name": "p38",
   "language": "python",
   "name": "p38"
  },
  "language_info": {
   "codemirror_mode": {
    "name": "ipython",
    "version": 3
   },
   "file_extension": ".py",
   "mimetype": "text/x-python",
   "name": "python",
   "nbconvert_exporter": "python",
   "pygments_lexer": "ipython3",
   "version": "3.7.3"
  }
 },
 "nbformat": 4,
 "nbformat_minor": 2
}
