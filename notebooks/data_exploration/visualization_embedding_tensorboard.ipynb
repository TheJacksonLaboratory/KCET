{
 "cells": [
  {
   "cell_type": "markdown",
   "metadata": {},
   "source": [
    "### In this notebook, we demonstrate how to visulaize embeddings with tenosrboard "
   ]
  },
  {
   "cell_type": "code",
   "execution_count": 1,
   "metadata": {},
   "outputs": [],
   "source": [
    "import os\n",
    "import numpy as np\n",
    "import tensorflow as tf\n",
    "from tensorboard.plugins import projector"
   ]
  },
  {
   "cell_type": "code",
   "execution_count": 2,
   "metadata": {},
   "outputs": [],
   "source": [
    "class TF_visualizer(object):\n",
    "    def __init__(self, dimension, vecs_file, metadata_file, output_path):\n",
    "        self.dimension = dimension\n",
    "        self.vecs_file = vecs_file\n",
    "        self.metadata_file = metadata_file\n",
    "        self.output_path = output_path\n",
    "        \n",
    "        self.vecs = []\n",
    "        embeddings = np.load(vecs_file, mmap_mode=None, allow_pickle=False, fix_imports=True, encoding='ASCII')      \n",
    "        for i in range(len(embeddings)):\n",
    "                self.vecs.append(embeddings[i])\n",
    "                \n",
    "    def visualize(self):\n",
    "        # adding into projector\n",
    "        config = projector.ProjectorConfig()\n",
    "\n",
    "        placeholder = np.zeros((len(self.vecs), self.dimension))\n",
    "        for i, line in enumerate( self.vecs ):   \n",
    "             placeholder[i] = line\n",
    "        embedding_var = tf.Variable(placeholder, trainable=False, name='metadata')\n",
    "\n",
    "        embed = config.embeddings.add()\n",
    "        embed.tensor_name = embedding_var.name\n",
    "        embed.metadata_path = self.metadata_file\n",
    "\n",
    "        # define the model without training\n",
    "        sess = tf.compat.v1.InteractiveSession()\n",
    "        with tf.compat.v1.Session() as sess:\n",
    "            init = tf.compat.v1.global_variables_initializer()\n",
    "            sess.run(init)\n",
    "        saver = tf.compat.v1.train.Saver([embedding_var])\n",
    "        \n",
    "        saver.save(sess, os.path.join(self.output_path, 'w2x_metadata.ckpt'))\n",
    "\n",
    "        writer = tf.summary.create_file_writer(self.output_path)\n",
    "        projector.visualize_embeddings(self.output_path, config)\n",
    "        sess.close()\n",
    "        print('Run `tensorboard --logdir={0}` to run visualize result on tensorboard'.format(self.output_path))\n"
   ]
  },
  {
   "cell_type": "code",
   "execution_count": 5,
   "metadata": {},
   "outputs": [
    {
     "name": "stdout",
     "output_type": "stream",
     "text": [
      "WARNING:tensorflow:Saver is deprecated, please switch to tf.train.Checkpoint or tf.keras.Model.save_weights for training checkpoints. When executing eagerly variables do not necessarily have unique names, and so the variable.name-based lookups Saver performs are error-prone.\n",
      "Run `tensorboard --logdir=/Users/ravanv/PycharmProjects/KCET/notebooks/data/embeddings_final` to run visualize result on tensorboard\n"
     ]
    }
   ],
   "source": [
    "output = '/Users/ravanv/PycharmProjects/KCET/notebooks/data/embeddings_final' #change the path according to the path to your data\n",
    "\n",
    "# create a new tensor board visualizer\n",
    "visualizer = TF_visualizer(dimension = 100,\n",
    "                           vecs_file =  os.path.join(output, \"embedding_SG_dim100_upto2020.npy\"),\n",
    "                           metadata_file = os.path.join(output, \"words_SG_upto2020.txt\"),\n",
    "                           output_path = output)\n",
    "visualizer.visualize()\n"
   ]
  }
 ],
 "metadata": {
  "kernelspec": {
   "display_name": "kcet_env",
   "language": "python",
   "name": "kcet_env"
  },
  "language_info": {
   "codemirror_mode": {
    "name": "ipython",
    "version": 3
   },
   "file_extension": ".py",
   "mimetype": "text/x-python",
   "name": "python",
   "nbconvert_exporter": "python",
   "pygments_lexer": "ipython3",
   "version": "3.8.5"
  }
 },
 "nbformat": 4,
 "nbformat_minor": 4
}
