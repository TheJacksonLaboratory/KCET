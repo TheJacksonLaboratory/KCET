{
 "cells": [
  {
   "cell_type": "markdown",
   "metadata": {},
   "source": [
    "# Cosine similarities\n",
    "This notebook visualizes similarities between the concept vectors created for the manuscript *Supervised learning with word embeddings derived from PubMed captures latent knowledge about protein kinases and cancer*."
   ]
  },
  {
   "cell_type": "code",
   "execution_count": 1,
   "metadata": {},
   "outputs": [],
   "source": [
    "import pandas as pd\n",
    "import numpy as np\n",
    "import matplotlib.pyplot as plt\n",
    "from sklearn.manifold import TSNE\n",
    "from sklearn.decomposition import PCA\n",
    "import seaborn as sns\n",
    "from scipy.spatial.distance import cosine\n",
    "from collections import defaultdict\n",
    "from sklearn.cluster import DBSCAN\n",
    "import os\n",
    "import sys\n",
    "sys.path.insert(0, os.path.abspath('../..'))\n",
    "from kcet import Wordvec2Cosine"
   ]
  },
  {
   "cell_type": "markdown",
   "metadata": {},
   "source": [
    "## Obtaining the input data\n",
    "The concept vectors are available from a zenodo repository: https://zenodo.org/record/5329035#.YTyvZXspBl9\n",
    "Download the four files to a local directory and enter the path of this directory in the following input dialog\n",
    "- embedding_SG_dim100_upto2010.npy\n",
    "- embedding_SG_dim100_upto2020.npy\n",
    "- words_SG_upto2010.txt\n",
    "- words_SG_upto2020.txt"
   ]
  },
  {
   "cell_type": "code",
   "execution_count": 2,
   "metadata": {},
   "outputs": [
    {
     "name": "stdin",
     "output_type": "stream",
     "text": [
      " /home/peter/data/pubmed2vec\n"
     ]
    }
   ],
   "source": [
    "data_directory = input()"
   ]
  },
  {
   "cell_type": "code",
   "execution_count": 3,
   "metadata": {},
   "outputs": [
    {
     "data": {
      "text/html": [
       "<div>\n",
       "<style scoped>\n",
       "    .dataframe tbody tr th:only-of-type {\n",
       "        vertical-align: middle;\n",
       "    }\n",
       "\n",
       "    .dataframe tbody tr th {\n",
       "        vertical-align: top;\n",
       "    }\n",
       "\n",
       "    .dataframe thead th {\n",
       "        text-align: right;\n",
       "    }\n",
       "</style>\n",
       "<table border=\"1\" class=\"dataframe\">\n",
       "  <thead>\n",
       "    <tr style=\"text-align: right;\">\n",
       "      <th></th>\n",
       "      <th>0</th>\n",
       "      <th>1</th>\n",
       "      <th>2</th>\n",
       "      <th>3</th>\n",
       "      <th>4</th>\n",
       "      <th>5</th>\n",
       "      <th>6</th>\n",
       "      <th>7</th>\n",
       "      <th>8</th>\n",
       "      <th>9</th>\n",
       "      <th>...</th>\n",
       "      <th>90</th>\n",
       "      <th>91</th>\n",
       "      <th>92</th>\n",
       "      <th>93</th>\n",
       "      <th>94</th>\n",
       "      <th>95</th>\n",
       "      <th>96</th>\n",
       "      <th>97</th>\n",
       "      <th>98</th>\n",
       "      <th>99</th>\n",
       "    </tr>\n",
       "  </thead>\n",
       "  <tbody>\n",
       "    <tr>\n",
       "      <th>cell</th>\n",
       "      <td>2.892186</td>\n",
       "      <td>-4.601290</td>\n",
       "      <td>1.886768</td>\n",
       "      <td>3.363972</td>\n",
       "      <td>5.323241</td>\n",
       "      <td>2.037415</td>\n",
       "      <td>-4.547163</td>\n",
       "      <td>2.887746</td>\n",
       "      <td>0.078090</td>\n",
       "      <td>-6.857232</td>\n",
       "      <td>...</td>\n",
       "      <td>-2.348537</td>\n",
       "      <td>4.792399</td>\n",
       "      <td>3.246019</td>\n",
       "      <td>-3.045483</td>\n",
       "      <td>-4.771703</td>\n",
       "      <td>6.965374</td>\n",
       "      <td>-1.852824</td>\n",
       "      <td>0.788342</td>\n",
       "      <td>0.692204</td>\n",
       "      <td>8.816134</td>\n",
       "    </tr>\n",
       "    <tr>\n",
       "      <th>patient</th>\n",
       "      <td>3.030980</td>\n",
       "      <td>-4.654769</td>\n",
       "      <td>1.988458</td>\n",
       "      <td>3.286587</td>\n",
       "      <td>4.494266</td>\n",
       "      <td>4.335152</td>\n",
       "      <td>-3.879949</td>\n",
       "      <td>1.414752</td>\n",
       "      <td>0.948940</td>\n",
       "      <td>-4.057512</td>\n",
       "      <td>...</td>\n",
       "      <td>-1.655231</td>\n",
       "      <td>5.274243</td>\n",
       "      <td>5.277645</td>\n",
       "      <td>-1.659015</td>\n",
       "      <td>-4.128818</td>\n",
       "      <td>5.872729</td>\n",
       "      <td>-3.746760</td>\n",
       "      <td>1.387476</td>\n",
       "      <td>-0.132648</td>\n",
       "      <td>8.704845</td>\n",
       "    </tr>\n",
       "    <tr>\n",
       "      <th>meshd009369</th>\n",
       "      <td>3.125736</td>\n",
       "      <td>-5.037050</td>\n",
       "      <td>1.834232</td>\n",
       "      <td>3.044192</td>\n",
       "      <td>4.652200</td>\n",
       "      <td>3.345147</td>\n",
       "      <td>-2.471191</td>\n",
       "      <td>2.407151</td>\n",
       "      <td>0.459735</td>\n",
       "      <td>-5.215952</td>\n",
       "      <td>...</td>\n",
       "      <td>-1.343417</td>\n",
       "      <td>3.949077</td>\n",
       "      <td>5.909581</td>\n",
       "      <td>-3.753628</td>\n",
       "      <td>-5.255637</td>\n",
       "      <td>6.504014</td>\n",
       "      <td>-3.489765</td>\n",
       "      <td>1.265763</td>\n",
       "      <td>0.166798</td>\n",
       "      <td>9.207653</td>\n",
       "    </tr>\n",
       "    <tr>\n",
       "      <th>0</th>\n",
       "      <td>3.207781</td>\n",
       "      <td>-5.854365</td>\n",
       "      <td>2.169951</td>\n",
       "      <td>2.806666</td>\n",
       "      <td>3.704714</td>\n",
       "      <td>4.489932</td>\n",
       "      <td>-3.641227</td>\n",
       "      <td>2.849144</td>\n",
       "      <td>1.368201</td>\n",
       "      <td>-5.305769</td>\n",
       "      <td>...</td>\n",
       "      <td>-1.802601</td>\n",
       "      <td>4.349891</td>\n",
       "      <td>5.042999</td>\n",
       "      <td>-1.330444</td>\n",
       "      <td>-3.057492</td>\n",
       "      <td>6.769782</td>\n",
       "      <td>-4.191097</td>\n",
       "      <td>0.704711</td>\n",
       "      <td>0.271818</td>\n",
       "      <td>7.927824</td>\n",
       "    </tr>\n",
       "    <tr>\n",
       "      <th>study</th>\n",
       "      <td>3.093263</td>\n",
       "      <td>-3.081187</td>\n",
       "      <td>1.896351</td>\n",
       "      <td>3.586287</td>\n",
       "      <td>3.835986</td>\n",
       "      <td>3.025896</td>\n",
       "      <td>-3.602392</td>\n",
       "      <td>3.394049</td>\n",
       "      <td>0.388296</td>\n",
       "      <td>-4.770427</td>\n",
       "      <td>...</td>\n",
       "      <td>-1.487065</td>\n",
       "      <td>4.371748</td>\n",
       "      <td>4.851753</td>\n",
       "      <td>-3.033936</td>\n",
       "      <td>-4.145646</td>\n",
       "      <td>6.956510</td>\n",
       "      <td>-3.810457</td>\n",
       "      <td>0.859616</td>\n",
       "      <td>0.380740</td>\n",
       "      <td>8.665388</td>\n",
       "    </tr>\n",
       "  </tbody>\n",
       "</table>\n",
       "<p>5 rows × 100 columns</p>\n",
       "</div>"
      ],
      "text/plain": [
       "                   0         1         2         3         4         5   \\\n",
       "cell         2.892186 -4.601290  1.886768  3.363972  5.323241  2.037415   \n",
       "patient      3.030980 -4.654769  1.988458  3.286587  4.494266  4.335152   \n",
       "meshd009369  3.125736 -5.037050  1.834232  3.044192  4.652200  3.345147   \n",
       "0            3.207781 -5.854365  2.169951  2.806666  3.704714  4.489932   \n",
       "study        3.093263 -3.081187  1.896351  3.586287  3.835986  3.025896   \n",
       "\n",
       "                   6         7         8         9   ...        90        91  \\\n",
       "cell        -4.547163  2.887746  0.078090 -6.857232  ... -2.348537  4.792399   \n",
       "patient     -3.879949  1.414752  0.948940 -4.057512  ... -1.655231  5.274243   \n",
       "meshd009369 -2.471191  2.407151  0.459735 -5.215952  ... -1.343417  3.949077   \n",
       "0           -3.641227  2.849144  1.368201 -5.305769  ... -1.802601  4.349891   \n",
       "study       -3.602392  3.394049  0.388296 -4.770427  ... -1.487065  4.371748   \n",
       "\n",
       "                   92        93        94        95        96        97  \\\n",
       "cell         3.246019 -3.045483 -4.771703  6.965374 -1.852824  0.788342   \n",
       "patient      5.277645 -1.659015 -4.128818  5.872729 -3.746760  1.387476   \n",
       "meshd009369  5.909581 -3.753628 -5.255637  6.504014 -3.489765  1.265763   \n",
       "0            5.042999 -1.330444 -3.057492  6.769782 -4.191097  0.704711   \n",
       "study        4.851753 -3.033936 -4.145646  6.956510 -3.810457  0.859616   \n",
       "\n",
       "                   98        99  \n",
       "cell         0.692204  8.816134  \n",
       "patient     -0.132648  8.704845  \n",
       "meshd009369  0.166798  9.207653  \n",
       "0            0.271818  7.927824  \n",
       "study        0.380740  8.665388  \n",
       "\n",
       "[5 rows x 100 columns]"
      ]
     },
     "execution_count": 3,
     "metadata": {},
     "output_type": "execute_result"
    }
   ],
   "source": [
    "if not os.path.isdir(data_directory):\n",
    "    raise FileNotFoundError(\"Could not find data directory\")\n",
    "embedding_file = os.path.join(data_directory, \"embedding_SG_dim100_upto2020.npy\")\n",
    "words_file = os.path.join(data_directory, \"words_SG_upto2020.txt\")\n",
    "w2c = Wordvec2Cosine(embeddings=embedding_file, words=words_file)\n",
    "df = w2c.get_embeddings()\n",
    "df.head()"
   ]
  },
  {
   "cell_type": "markdown",
   "metadata": {},
   "source": [
    "## Distribution of vector similarities\n",
    "As described in the main manuscript, medically relevant words and phrases were replaced by concept ids using data from the [PubTator](https://www.ncbi.nlm.nih.gov/research/pubtator/) project. For instance, \"Leukemia\" corresponds to the MeSH id [meshd007938](https://meshb.nlm.nih.gov/record/ui?ui=D007938) and \"Ovarian neoplasms\" to [D010051](https://meshb.nlm.nih.gov/record/ui?ui=D010051). The following code retrieves the word vector for this concept and displays a histogram of similarities to other concept vectors."
   ]
  },
  {
   "cell_type": "code",
   "execution_count": 4,
   "metadata": {},
   "outputs": [],
   "source": [
    "target_word ='meshd007938' # Leukemia\n",
    "n= df.shape[0]\n",
    "all_cosine_similarities_leukemia = w2c.n_most_similar_words_df(target_word=target_word, n=n)"
   ]
  },
  {
   "cell_type": "code",
   "execution_count": 5,
   "metadata": {},
   "outputs": [],
   "source": [
    "target_word ='meshd010051' # ovarian neoplasms\n",
    "n= df.shape[0]\n",
    "all_cosine_similarities_ovarian_neoplasms = w2c.n_most_similar_words_df(target_word=target_word, n=n)"
   ]
  },
  {
   "cell_type": "code",
   "execution_count": 6,
   "metadata": {},
   "outputs": [
    {
     "data": {
      "image/png": "[encoded data removed]",
      "text/plain": [
       "<Figure size 720x360 with 2 Axes>"
      ]
     },
     "metadata": {},
     "output_type": "display_data"
    }
   ],
   "source": [
    "plt.style.use('seaborn-white')\n",
    "fig, (ax1, ax2) = plt.subplots(1, 2, sharex='col', sharey='row',figsize=(10,5))\n",
    "fig.suptitle('Cosine similarity distribution')\n",
    "n, bins, patches = ax1.hist(all_cosine_similarities_leukemia[\"similarity\"], bins=100, range=(-1, 1), histtype='bar')\n",
    "n, bins, patches = ax2.hist(all_cosine_similarities_ovarian_neoplasms[\"similarity\"], bins=100, range=(-1, 1), histtype='bar')\n",
    "\n",
    "plt.yscale('log')\n",
    "\n",
    "ax1.set(xlabel='Leukemia', ylabel='Frequency (log)')\n",
    "ax2.set(xlabel='Ovarian neoplasms', ylabel='Frequency (log)')\n",
    "\n",
    "plt.rc('axes',labelsize=24)\n",
    "plt.rc('figure',titlesize=24)\n",
    "plt.rc('xtick', labelsize=18) \n",
    "plt.rc('ytick', labelsize=18) "
   ]
  },
  {
   "cell_type": "markdown",
   "metadata": {},
   "source": [
    "## t-SNE plot\n",
    "For demonstration purposes, here is a function that plots the n most and the n least similar words to any given vector. In this example, we use the vector for \"Leukemia\", which is MeSH id [D007938](https://meshb.nlm.nih.gov/record/ui?ui=D007938)."
   ]
  },
  {
   "cell_type": "code",
   "execution_count": 9,
   "metadata": {},
   "outputs": [],
   "source": [
    "def plot_tsne_from_concept(target_concept: str, n_concepts: 50, w2c: Wordvec2Cosine) -> None:\n",
    "    similarities = w2c.n_most_similar_words_df(target_word=target_concept, n=n_concepts)\n",
    "    dissimilarities = w2c.n_least_similar_words_df(target_word=target_concept,n=n_concepts)\n",
    "    pd.concat([similarities, similarities])\n",
    "    tsne_model = TSNE(n_components=2, verbose=1, perplexity=40, n_iter=300)\n",
    "    tsne_features = tsne_model.fit_transform(df)\n",
    "    #tsne = TSNE(n_components=2, verbose=1, perplexity=40, n_iter=300)\n",
    "    #tsne_results = tsne.fit_transform(X_train)\n",
    "    # We can adjust the eps to get more or less clusters\n",
    "    get_clusters = DBSCAN(eps=5, min_samples=10).fit_predict(tsne_features)\n",
    "    df[\"clusters\"] = get_clusters\n",
    "    set(get_clusters)\n",
    "    # Here we are graphing  terms based on their word embeddings and visulized in a way that makes it\n",
    "    # ideal to see clusters.\n",
    "    df['tSNE_1'] = tsne_features[:,0]\n",
    "    df['tSNE_2'] = tsne_features[:,1]\n",
    "    sns.scatterplot(x=\"tSNE_1\", y=\"tSNE_2\", data=df, hue=\"clusters\")\n",
    "    plt.show()"
   ]
  },
  {
   "cell_type": "code",
   "execution_count": 10,
   "metadata": {},
   "outputs": [
    {
     "name": "stdout",
     "output_type": "stream",
     "text": [
      "[t-SNE] Computing 121 nearest neighbors...\n",
      "[t-SNE] Indexed 293274 samples in 0.014s...\n"
     ]
    },
    {
     "ename": "KeyboardInterrupt",
     "evalue": "",
     "output_type": "error",
     "traceback": [
      "\u001b[0;31m---------------------------------------------------------------------------\u001b[0m",
      "\u001b[0;31mKeyboardInterrupt\u001b[0m                         Traceback (most recent call last)",
      "\u001b[0;32m/tmp/ipykernel_240232/2806586442.py\u001b[0m in \u001b[0;36m<module>\u001b[0;34m\u001b[0m\n\u001b[1;32m      1\u001b[0m \u001b[0mleukemia\u001b[0m \u001b[0;34m=\u001b[0m \u001b[0;34m'meshd007938'\u001b[0m\u001b[0;34m\u001b[0m\u001b[0;34m\u001b[0m\u001b[0m\n\u001b[0;32m----> 2\u001b[0;31m \u001b[0mplot_tsne_from_concept\u001b[0m\u001b[0;34m(\u001b[0m\u001b[0mtarget_concept\u001b[0m \u001b[0;34m=\u001b[0m \u001b[0mleukemia\u001b[0m\u001b[0;34m,\u001b[0m \u001b[0mn_concepts\u001b[0m\u001b[0;34m=\u001b[0m\u001b[0;36m50\u001b[0m\u001b[0;34m,\u001b[0m \u001b[0mw2c\u001b[0m\u001b[0;34m=\u001b[0m\u001b[0mw2c\u001b[0m\u001b[0;34m)\u001b[0m\u001b[0;34m\u001b[0m\u001b[0;34m\u001b[0m\u001b[0m\n\u001b[0m",
      "\u001b[0;32m/tmp/ipykernel_240232/2290284514.py\u001b[0m in \u001b[0;36mplot_tsne_from_concept\u001b[0;34m(target_concept, n_concepts, w2c)\u001b[0m\n\u001b[1;32m      4\u001b[0m     \u001b[0mpd\u001b[0m\u001b[0;34m.\u001b[0m\u001b[0mconcat\u001b[0m\u001b[0;34m(\u001b[0m\u001b[0;34m[\u001b[0m\u001b[0msimilarities\u001b[0m\u001b[0;34m,\u001b[0m \u001b[0msimilarities\u001b[0m\u001b[0;34m]\u001b[0m\u001b[0;34m)\u001b[0m\u001b[0;34m\u001b[0m\u001b[0;34m\u001b[0m\u001b[0m\n\u001b[1;32m      5\u001b[0m     \u001b[0mtsne_model\u001b[0m \u001b[0;34m=\u001b[0m \u001b[0mTSNE\u001b[0m\u001b[0;34m(\u001b[0m\u001b[0mn_components\u001b[0m\u001b[0;34m=\u001b[0m\u001b[0;36m2\u001b[0m\u001b[0;34m,\u001b[0m \u001b[0mverbose\u001b[0m\u001b[0;34m=\u001b[0m\u001b[0;36m1\u001b[0m\u001b[0;34m,\u001b[0m \u001b[0mperplexity\u001b[0m\u001b[0;34m=\u001b[0m\u001b[0;36m40\u001b[0m\u001b[0;34m,\u001b[0m \u001b[0mn_iter\u001b[0m\u001b[0;34m=\u001b[0m\u001b[0;36m300\u001b[0m\u001b[0;34m)\u001b[0m\u001b[0;34m\u001b[0m\u001b[0;34m\u001b[0m\u001b[0m\n\u001b[0;32m----> 6\u001b[0;31m     \u001b[0mtsne_features\u001b[0m \u001b[0;34m=\u001b[0m \u001b[0mtsne_model\u001b[0m\u001b[0;34m.\u001b[0m\u001b[0mfit_transform\u001b[0m\u001b[0;34m(\u001b[0m\u001b[0mdf\u001b[0m\u001b[0;34m)\u001b[0m\u001b[0;34m\u001b[0m\u001b[0;34m\u001b[0m\u001b[0m\n\u001b[0m\u001b[1;32m      7\u001b[0m     \u001b[0;31m#tsne = TSNE(n_components=2, verbose=1, perplexity=40, n_iter=300)\u001b[0m\u001b[0;34m\u001b[0m\u001b[0;34m\u001b[0m\u001b[0;34m\u001b[0m\u001b[0m\n\u001b[1;32m      8\u001b[0m     \u001b[0;31m#tsne_results = tsne.fit_transform(X_train)\u001b[0m\u001b[0;34m\u001b[0m\u001b[0;34m\u001b[0m\u001b[0;34m\u001b[0m\u001b[0m\n",
      "\u001b[0;32m~/GIT/KCET/p3/lib/python3.8/site-packages/sklearn/manifold/_t_sne.py\u001b[0m in \u001b[0;36mfit_transform\u001b[0;34m(self, X, y)\u001b[0m\n\u001b[1;32m    930\u001b[0m             \u001b[0mEmbedding\u001b[0m \u001b[0mof\u001b[0m \u001b[0mthe\u001b[0m \u001b[0mtraining\u001b[0m \u001b[0mdata\u001b[0m \u001b[0;32min\u001b[0m \u001b[0mlow\u001b[0m\u001b[0;34m-\u001b[0m\u001b[0mdimensional\u001b[0m \u001b[0mspace\u001b[0m\u001b[0;34m.\u001b[0m\u001b[0;34m\u001b[0m\u001b[0;34m\u001b[0m\u001b[0m\n\u001b[1;32m    931\u001b[0m         \"\"\"\n\u001b[0;32m--> 932\u001b[0;31m         \u001b[0membedding\u001b[0m \u001b[0;34m=\u001b[0m \u001b[0mself\u001b[0m\u001b[0;34m.\u001b[0m\u001b[0m_fit\u001b[0m\u001b[0;34m(\u001b[0m\u001b[0mX\u001b[0m\u001b[0;34m)\u001b[0m\u001b[0;34m\u001b[0m\u001b[0;34m\u001b[0m\u001b[0m\n\u001b[0m\u001b[1;32m    933\u001b[0m         \u001b[0mself\u001b[0m\u001b[0;34m.\u001b[0m\u001b[0membedding_\u001b[0m \u001b[0;34m=\u001b[0m \u001b[0membedding\u001b[0m\u001b[0;34m\u001b[0m\u001b[0;34m\u001b[0m\u001b[0m\n\u001b[1;32m    934\u001b[0m         \u001b[0;32mreturn\u001b[0m \u001b[0mself\u001b[0m\u001b[0;34m.\u001b[0m\u001b[0membedding_\u001b[0m\u001b[0;34m\u001b[0m\u001b[0;34m\u001b[0m\u001b[0m\n",
      "\u001b[0;32m~/GIT/KCET/p3/lib/python3.8/site-packages/sklearn/manifold/_t_sne.py\u001b[0m in \u001b[0;36m_fit\u001b[0;34m(self, X, skip_num_points)\u001b[0m\n\u001b[1;32m    797\u001b[0m \u001b[0;34m\u001b[0m\u001b[0m\n\u001b[1;32m    798\u001b[0m             \u001b[0mt0\u001b[0m \u001b[0;34m=\u001b[0m \u001b[0mtime\u001b[0m\u001b[0;34m(\u001b[0m\u001b[0;34m)\u001b[0m\u001b[0;34m\u001b[0m\u001b[0;34m\u001b[0m\u001b[0m\n\u001b[0;32m--> 799\u001b[0;31m             \u001b[0mdistances_nn\u001b[0m \u001b[0;34m=\u001b[0m \u001b[0mknn\u001b[0m\u001b[0;34m.\u001b[0m\u001b[0mkneighbors_graph\u001b[0m\u001b[0;34m(\u001b[0m\u001b[0mmode\u001b[0m\u001b[0;34m=\u001b[0m\u001b[0;34m'distance'\u001b[0m\u001b[0;34m)\u001b[0m\u001b[0;34m\u001b[0m\u001b[0;34m\u001b[0m\u001b[0m\n\u001b[0m\u001b[1;32m    800\u001b[0m             \u001b[0mduration\u001b[0m \u001b[0;34m=\u001b[0m \u001b[0mtime\u001b[0m\u001b[0;34m(\u001b[0m\u001b[0;34m)\u001b[0m \u001b[0;34m-\u001b[0m \u001b[0mt0\u001b[0m\u001b[0;34m\u001b[0m\u001b[0;34m\u001b[0m\u001b[0m\n\u001b[1;32m    801\u001b[0m             \u001b[0;32mif\u001b[0m \u001b[0mself\u001b[0m\u001b[0;34m.\u001b[0m\u001b[0mverbose\u001b[0m\u001b[0;34m:\u001b[0m\u001b[0;34m\u001b[0m\u001b[0;34m\u001b[0m\u001b[0m\n",
      "\u001b[0;32m~/GIT/KCET/p3/lib/python3.8/site-packages/sklearn/neighbors/_base.py\u001b[0m in \u001b[0;36mkneighbors_graph\u001b[0;34m(self, X, n_neighbors, mode)\u001b[0m\n\u001b[1;32m    827\u001b[0m \u001b[0;34m\u001b[0m\u001b[0m\n\u001b[1;32m    828\u001b[0m         \u001b[0;32melif\u001b[0m \u001b[0mmode\u001b[0m \u001b[0;34m==\u001b[0m \u001b[0;34m'distance'\u001b[0m\u001b[0;34m:\u001b[0m\u001b[0;34m\u001b[0m\u001b[0;34m\u001b[0m\u001b[0m\n\u001b[0;32m--> 829\u001b[0;31m             A_data, A_ind = self.kneighbors(\n\u001b[0m\u001b[1;32m    830\u001b[0m                 X, n_neighbors, return_distance=True)\n\u001b[1;32m    831\u001b[0m             \u001b[0mA_data\u001b[0m \u001b[0;34m=\u001b[0m \u001b[0mnp\u001b[0m\u001b[0;34m.\u001b[0m\u001b[0mravel\u001b[0m\u001b[0;34m(\u001b[0m\u001b[0mA_data\u001b[0m\u001b[0;34m)\u001b[0m\u001b[0;34m\u001b[0m\u001b[0;34m\u001b[0m\u001b[0m\n",
      "\u001b[0;32m~/GIT/KCET/p3/lib/python3.8/site-packages/sklearn/neighbors/_base.py\u001b[0m in \u001b[0;36mkneighbors\u001b[0;34m(self, X, n_neighbors, return_distance)\u001b[0m\n\u001b[1;32m    703\u001b[0m                 \u001b[0mkwds\u001b[0m \u001b[0;34m=\u001b[0m \u001b[0mself\u001b[0m\u001b[0;34m.\u001b[0m\u001b[0meffective_metric_params_\u001b[0m\u001b[0;34m\u001b[0m\u001b[0;34m\u001b[0m\u001b[0m\n\u001b[1;32m    704\u001b[0m \u001b[0;34m\u001b[0m\u001b[0m\n\u001b[0;32m--> 705\u001b[0;31m             chunked_results = list(pairwise_distances_chunked(\n\u001b[0m\u001b[1;32m    706\u001b[0m                 \u001b[0mX\u001b[0m\u001b[0;34m,\u001b[0m \u001b[0mself\u001b[0m\u001b[0;34m.\u001b[0m\u001b[0m_fit_X\u001b[0m\u001b[0;34m,\u001b[0m \u001b[0mreduce_func\u001b[0m\u001b[0;34m=\u001b[0m\u001b[0mreduce_func\u001b[0m\u001b[0;34m,\u001b[0m\u001b[0;34m\u001b[0m\u001b[0;34m\u001b[0m\u001b[0m\n\u001b[1;32m    707\u001b[0m                 \u001b[0mmetric\u001b[0m\u001b[0;34m=\u001b[0m\u001b[0mself\u001b[0m\u001b[0;34m.\u001b[0m\u001b[0meffective_metric_\u001b[0m\u001b[0;34m,\u001b[0m \u001b[0mn_jobs\u001b[0m\u001b[0;34m=\u001b[0m\u001b[0mn_jobs\u001b[0m\u001b[0;34m,\u001b[0m\u001b[0;34m\u001b[0m\u001b[0;34m\u001b[0m\u001b[0m\n",
      "\u001b[0;32m~/GIT/KCET/p3/lib/python3.8/site-packages/sklearn/metrics/pairwise.py\u001b[0m in \u001b[0;36mpairwise_distances_chunked\u001b[0;34m(X, Y, reduce_func, metric, n_jobs, working_memory, **kwds)\u001b[0m\n\u001b[1;32m   1631\u001b[0m         \u001b[0;32mif\u001b[0m \u001b[0mreduce_func\u001b[0m \u001b[0;32mis\u001b[0m \u001b[0;32mnot\u001b[0m \u001b[0;32mNone\u001b[0m\u001b[0;34m:\u001b[0m\u001b[0;34m\u001b[0m\u001b[0;34m\u001b[0m\u001b[0m\n\u001b[1;32m   1632\u001b[0m             \u001b[0mchunk_size\u001b[0m \u001b[0;34m=\u001b[0m \u001b[0mD_chunk\u001b[0m\u001b[0;34m.\u001b[0m\u001b[0mshape\u001b[0m\u001b[0;34m[\u001b[0m\u001b[0;36m0\u001b[0m\u001b[0;34m]\u001b[0m\u001b[0;34m\u001b[0m\u001b[0;34m\u001b[0m\u001b[0m\n\u001b[0;32m-> 1633\u001b[0;31m             \u001b[0mD_chunk\u001b[0m \u001b[0;34m=\u001b[0m \u001b[0mreduce_func\u001b[0m\u001b[0;34m(\u001b[0m\u001b[0mD_chunk\u001b[0m\u001b[0;34m,\u001b[0m \u001b[0msl\u001b[0m\u001b[0;34m.\u001b[0m\u001b[0mstart\u001b[0m\u001b[0;34m)\u001b[0m\u001b[0;34m\u001b[0m\u001b[0;34m\u001b[0m\u001b[0m\n\u001b[0m\u001b[1;32m   1634\u001b[0m             \u001b[0m_check_chunk_size\u001b[0m\u001b[0;34m(\u001b[0m\u001b[0mD_chunk\u001b[0m\u001b[0;34m,\u001b[0m \u001b[0mchunk_size\u001b[0m\u001b[0;34m)\u001b[0m\u001b[0;34m\u001b[0m\u001b[0;34m\u001b[0m\u001b[0m\n\u001b[1;32m   1635\u001b[0m         \u001b[0;32myield\u001b[0m \u001b[0mD_chunk\u001b[0m\u001b[0;34m\u001b[0m\u001b[0;34m\u001b[0m\u001b[0m\n",
      "\u001b[0;32m~/GIT/KCET/p3/lib/python3.8/site-packages/sklearn/neighbors/_base.py\u001b[0m in \u001b[0;36m_kneighbors_reduce_func\u001b[0;34m(self, dist, start, n_neighbors, return_distance)\u001b[0m\n\u001b[1;32m    580\u001b[0m         \"\"\"\n\u001b[1;32m    581\u001b[0m         \u001b[0msample_range\u001b[0m \u001b[0;34m=\u001b[0m \u001b[0mnp\u001b[0m\u001b[0;34m.\u001b[0m\u001b[0marange\u001b[0m\u001b[0;34m(\u001b[0m\u001b[0mdist\u001b[0m\u001b[0;34m.\u001b[0m\u001b[0mshape\u001b[0m\u001b[0;34m[\u001b[0m\u001b[0;36m0\u001b[0m\u001b[0;34m]\u001b[0m\u001b[0;34m)\u001b[0m\u001b[0;34m[\u001b[0m\u001b[0;34m:\u001b[0m\u001b[0;34m,\u001b[0m \u001b[0;32mNone\u001b[0m\u001b[0;34m]\u001b[0m\u001b[0;34m\u001b[0m\u001b[0;34m\u001b[0m\u001b[0m\n\u001b[0;32m--> 582\u001b[0;31m         \u001b[0mneigh_ind\u001b[0m \u001b[0;34m=\u001b[0m \u001b[0mnp\u001b[0m\u001b[0;34m.\u001b[0m\u001b[0margpartition\u001b[0m\u001b[0;34m(\u001b[0m\u001b[0mdist\u001b[0m\u001b[0;34m,\u001b[0m \u001b[0mn_neighbors\u001b[0m \u001b[0;34m-\u001b[0m \u001b[0;36m1\u001b[0m\u001b[0;34m,\u001b[0m \u001b[0maxis\u001b[0m\u001b[0;34m=\u001b[0m\u001b[0;36m1\u001b[0m\u001b[0;34m)\u001b[0m\u001b[0;34m\u001b[0m\u001b[0;34m\u001b[0m\u001b[0m\n\u001b[0m\u001b[1;32m    583\u001b[0m         \u001b[0mneigh_ind\u001b[0m \u001b[0;34m=\u001b[0m \u001b[0mneigh_ind\u001b[0m\u001b[0;34m[\u001b[0m\u001b[0;34m:\u001b[0m\u001b[0;34m,\u001b[0m \u001b[0;34m:\u001b[0m\u001b[0mn_neighbors\u001b[0m\u001b[0;34m]\u001b[0m\u001b[0;34m\u001b[0m\u001b[0;34m\u001b[0m\u001b[0m\n\u001b[1;32m    584\u001b[0m         \u001b[0;31m# argpartition doesn't guarantee sorted order, so we sort again\u001b[0m\u001b[0;34m\u001b[0m\u001b[0;34m\u001b[0m\u001b[0;34m\u001b[0m\u001b[0m\n",
      "\u001b[0;32m<__array_function__ internals>\u001b[0m in \u001b[0;36margpartition\u001b[0;34m(*args, **kwargs)\u001b[0m\n",
      "\u001b[0;32m~/GIT/KCET/p3/lib/python3.8/site-packages/numpy/core/fromnumeric.py\u001b[0m in \u001b[0;36margpartition\u001b[0;34m(a, kth, axis, kind, order)\u001b[0m\n\u001b[1;32m    837\u001b[0m \u001b[0;34m\u001b[0m\u001b[0m\n\u001b[1;32m    838\u001b[0m     \"\"\"\n\u001b[0;32m--> 839\u001b[0;31m     \u001b[0;32mreturn\u001b[0m \u001b[0m_wrapfunc\u001b[0m\u001b[0;34m(\u001b[0m\u001b[0ma\u001b[0m\u001b[0;34m,\u001b[0m \u001b[0;34m'argpartition'\u001b[0m\u001b[0;34m,\u001b[0m \u001b[0mkth\u001b[0m\u001b[0;34m,\u001b[0m \u001b[0maxis\u001b[0m\u001b[0;34m=\u001b[0m\u001b[0maxis\u001b[0m\u001b[0;34m,\u001b[0m \u001b[0mkind\u001b[0m\u001b[0;34m=\u001b[0m\u001b[0mkind\u001b[0m\u001b[0;34m,\u001b[0m \u001b[0morder\u001b[0m\u001b[0;34m=\u001b[0m\u001b[0morder\u001b[0m\u001b[0;34m)\u001b[0m\u001b[0;34m\u001b[0m\u001b[0;34m\u001b[0m\u001b[0m\n\u001b[0m\u001b[1;32m    840\u001b[0m \u001b[0;34m\u001b[0m\u001b[0m\n\u001b[1;32m    841\u001b[0m \u001b[0;34m\u001b[0m\u001b[0m\n",
      "\u001b[0;32m~/GIT/KCET/p3/lib/python3.8/site-packages/numpy/core/fromnumeric.py\u001b[0m in \u001b[0;36m_wrapfunc\u001b[0;34m(obj, method, *args, **kwds)\u001b[0m\n\u001b[1;32m     55\u001b[0m \u001b[0;34m\u001b[0m\u001b[0m\n\u001b[1;32m     56\u001b[0m     \u001b[0;32mtry\u001b[0m\u001b[0;34m:\u001b[0m\u001b[0;34m\u001b[0m\u001b[0;34m\u001b[0m\u001b[0m\n\u001b[0;32m---> 57\u001b[0;31m         \u001b[0;32mreturn\u001b[0m \u001b[0mbound\u001b[0m\u001b[0;34m(\u001b[0m\u001b[0;34m*\u001b[0m\u001b[0margs\u001b[0m\u001b[0;34m,\u001b[0m \u001b[0;34m**\u001b[0m\u001b[0mkwds\u001b[0m\u001b[0;34m)\u001b[0m\u001b[0;34m\u001b[0m\u001b[0;34m\u001b[0m\u001b[0m\n\u001b[0m\u001b[1;32m     58\u001b[0m     \u001b[0;32mexcept\u001b[0m \u001b[0mTypeError\u001b[0m\u001b[0;34m:\u001b[0m\u001b[0;34m\u001b[0m\u001b[0;34m\u001b[0m\u001b[0m\n\u001b[1;32m     59\u001b[0m         \u001b[0;31m# A TypeError occurs if the object does have such a method in its\u001b[0m\u001b[0;34m\u001b[0m\u001b[0;34m\u001b[0m\u001b[0;34m\u001b[0m\u001b[0m\n",
      "\u001b[0;31mKeyboardInterrupt\u001b[0m: "
     ]
    }
   ],
   "source": [
    "leukemia = 'meshd007938'\n",
    "plot_tsne_from_concept(target_concept = leukemia, n_concepts=50, w2c=w2c)"
   ]
  },
  {
   "cell_type": "code",
   "execution_count": null,
   "metadata": {},
   "outputs": [],
   "source": []
  }
 ],
 "metadata": {
  "kernelspec": {
   "display_name": "local-venv",
   "language": "python",
   "name": "local-venv"
  },
  "language_info": {
   "codemirror_mode": {
    "name": "ipython",
    "version": 3
   },
   "file_extension": ".py",
   "mimetype": "text/x-python",
   "name": "python",
   "nbconvert_exporter": "python",
   "pygments_lexer": "ipython3",
   "version": "3.8.10"
  }
 },
 "nbformat": 4,
 "nbformat_minor": 4
}
