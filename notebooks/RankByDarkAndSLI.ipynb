{
 "cells": [
  {
   "cell_type": "markdown",
   "metadata": {},
   "source": [
    "# RankByDarkAndSLI\n",
    "\n",
    "Post process machine learning predictions by dark kinase and SLI information."
   ]
  },
  {
   "cell_type": "code",
   "execution_count": 1,
   "metadata": {},
   "outputs": [],
   "source": [
    "import os\n",
    "import sys\n",
    "import pandas as pd\n",
    "import numpy as np\n",
    "sys.path.insert(0, os.path.abspath('..'))\n",
    "from kcet import ProteinKinaseParser"
   ]
  },
  {
   "cell_type": "markdown",
   "metadata": {},
   "source": [
    "## Dark kinases\n",
    "We derived a list of Tdark kinases from [Pharos](https://pharos.nih.gov/). These are targets about which virtually nothing is known (see [Target Central Resource Database](http://juniper.health.unm.edu/tcrd/))."
   ]
  },
  {
   "cell_type": "code",
   "execution_count": 6,
   "metadata": {},
   "outputs": [
    {
     "name": "stdout",
     "output_type": "stream",
     "text": [
      "[INFO] Reading dark kinase information from /home/peter/GIT/KCET/input/tdark_kinase.tsv\n",
      "  kinase  gene_id\n",
      "0  ADCK1    57143\n",
      "1  ADCK2    90956\n",
      "2  ADCK5   203054\n",
      "3  ALPK2   115701\n",
      "4  ALPK3    57538\n"
     ]
    }
   ],
   "source": [
    "pkparser = ProteinKinaseParser()\n",
    "dark_kinase_df = pkparser.get_dark_kinase_df()"
   ]
  },
  {
   "cell_type": "code",
   "execution_count": 7,
   "metadata": {},
   "outputs": [
    {
     "data": {
      "text/html": [
       "<div>\n",
       "<style scoped>\n",
       "    .dataframe tbody tr th:only-of-type {\n",
       "        vertical-align: middle;\n",
       "    }\n",
       "\n",
       "    .dataframe tbody tr th {\n",
       "        vertical-align: top;\n",
       "    }\n",
       "\n",
       "    .dataframe thead th {\n",
       "        text-align: right;\n",
       "    }\n",
       "</style>\n",
       "<table border=\"1\" class=\"dataframe\">\n",
       "  <thead>\n",
       "    <tr style=\"text-align: right;\">\n",
       "      <th></th>\n",
       "      <th>symbol</th>\n",
       "      <th>gene_id</th>\n",
       "    </tr>\n",
       "  </thead>\n",
       "  <tbody>\n",
       "    <tr>\n",
       "      <th>0</th>\n",
       "      <td>ADCK1</td>\n",
       "      <td>ncbigene57143</td>\n",
       "    </tr>\n",
       "    <tr>\n",
       "      <th>1</th>\n",
       "      <td>ADCK2</td>\n",
       "      <td>ncbigene90956</td>\n",
       "    </tr>\n",
       "    <tr>\n",
       "      <th>2</th>\n",
       "      <td>ADCK5</td>\n",
       "      <td>ncbigene203054</td>\n",
       "    </tr>\n",
       "    <tr>\n",
       "      <th>3</th>\n",
       "      <td>ALPK2</td>\n",
       "      <td>ncbigene115701</td>\n",
       "    </tr>\n",
       "    <tr>\n",
       "      <th>4</th>\n",
       "      <td>ALPK3</td>\n",
       "      <td>ncbigene57538</td>\n",
       "    </tr>\n",
       "  </tbody>\n",
       "</table>\n",
       "</div>"
      ],
      "text/plain": [
       "  symbol         gene_id\n",
       "0  ADCK1   ncbigene57143\n",
       "1  ADCK2   ncbigene90956\n",
       "2  ADCK5  ncbigene203054\n",
       "3  ALPK2  ncbigene115701\n",
       "4  ALPK3   ncbigene57538"
      ]
     },
     "execution_count": 7,
     "metadata": {},
     "output_type": "execute_result"
    }
   ],
   "source": [
    "dark_kinase_df.head()"
   ]
  },
  {
   "cell_type": "code",
   "execution_count": 8,
   "metadata": {},
   "outputs": [
    {
     "name": "stdout",
     "output_type": "stream",
     "text": [
      "Total Tdark kinases: 162\n"
     ]
    }
   ],
   "source": [
    "print(\"Total Tdark kinases: %d\" % len(dark_kinase_df))"
   ]
  },
  {
   "cell_type": "code",
   "execution_count": null,
   "metadata": {},
   "outputs": [],
   "source": []
  }
 ],
 "metadata": {
  "kernelspec": {
   "display_name": "p38",
   "language": "python",
   "name": "p38"
  },
  "language_info": {
   "codemirror_mode": {
    "name": "ipython",
    "version": 3
   },
   "file_extension": ".py",
   "mimetype": "text/x-python",
   "name": "python",
   "nbconvert_exporter": "python",
   "pygments_lexer": "ipython3",
   "version": "3.7.3"
  }
 },
 "nbformat": 4,
 "nbformat_minor": 2
}
