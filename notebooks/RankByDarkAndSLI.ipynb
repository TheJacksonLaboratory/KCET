{
 "cells": [
  {
   "cell_type": "markdown",
   "metadata": {},
   "source": [
    "# RankByDarkAndSLI\n",
    "\n",
    "Post process machine learning predictions by dark kinase and SLI information."
   ]
  },
  {
   "cell_type": "code",
   "execution_count": 1,
   "metadata": {},
   "outputs": [],
   "source": [
    "import os\n",
    "import sys\n",
    "import pandas as pd\n",
    "import numpy as np\n",
    "sys.path.insert(0, os.path.abspath('..'))\n",
    "from kcet import KcetParser"
   ]
  },
  {
   "cell_type": "markdown",
   "metadata": {},
   "source": [
    "## Predictions derived from PubMed embeddings\n",
    "We have generated predictions that relate protein kinases to cancers in notebooks such as ``RandomForestPredictions``.\n",
    "\n",
    "The purpose of the current notebook is to prioritize these predictions by using prediction \n",
    "synthetic lethality interactions (SLIs) and to filter them according to  their status as \n",
    "1. Tclin -- proteins targeted by approved drugs with known mechanism of action.\n",
    "2. Tchem -- proteins targeted by small molecules/drugs in ChEMBL or DrugCentral \n",
    "3. Tbio -- proteins that do not have known above-threshold drug or small molecule activities and are above the cutoff for Tdark and are annotated with a Gene Ontology Molecular Function or Biological Process leaf term(s) with an Experimental Evidence code\n",
    "4. Tdark -- proteins about which virtually nothing is known. "
   ]
  },
  {
   "cell_type": "markdown",
   "metadata": {},
   "source": [
    "## Random forest predictions\n",
    "From the ``RandomForestPredictions`` notebook."
   ]
  },
  {
   "cell_type": "code",
   "execution_count": 2,
   "metadata": {},
   "outputs": [],
   "source": [
    "predictions = pd.read_csv(\"predictions_2021.tsv\",sep=\"\\t\")"
   ]
  },
  {
   "cell_type": "code",
   "execution_count": 3,
   "metadata": {},
   "outputs": [
    {
     "data": {
      "text/html": [
       "<div>\n",
       "<style scoped>\n",
       "    .dataframe tbody tr th:only-of-type {\n",
       "        vertical-align: middle;\n",
       "    }\n",
       "\n",
       "    .dataframe tbody tr th {\n",
       "        vertical-align: top;\n",
       "    }\n",
       "\n",
       "    .dataframe thead th {\n",
       "        text-align: right;\n",
       "    }\n",
       "</style>\n",
       "<table border=\"1\" class=\"dataframe\">\n",
       "  <thead>\n",
       "    <tr style=\"text-align: right;\">\n",
       "      <th></th>\n",
       "      <th>gene_symbol</th>\n",
       "      <th>cancer</th>\n",
       "      <th>probability</th>\n",
       "    </tr>\n",
       "  </thead>\n",
       "  <tbody>\n",
       "    <tr>\n",
       "      <th>0</th>\n",
       "      <td>EGFR</td>\n",
       "      <td>Mixed Tumor, Malignant</td>\n",
       "      <td>0.94</td>\n",
       "    </tr>\n",
       "    <tr>\n",
       "      <th>1</th>\n",
       "      <td>JAK2</td>\n",
       "      <td>Carcinoma, Hepatocellular</td>\n",
       "      <td>0.90</td>\n",
       "    </tr>\n",
       "    <tr>\n",
       "      <th>2</th>\n",
       "      <td>KDR</td>\n",
       "      <td>Mixed Tumor, Malignant</td>\n",
       "      <td>0.90</td>\n",
       "    </tr>\n",
       "    <tr>\n",
       "      <th>3</th>\n",
       "      <td>IGF1R</td>\n",
       "      <td>Carcinoma, Hepatocellular</td>\n",
       "      <td>0.90</td>\n",
       "    </tr>\n",
       "    <tr>\n",
       "      <th>4</th>\n",
       "      <td>PTK2</td>\n",
       "      <td>Carcinoma, Hepatocellular</td>\n",
       "      <td>0.84</td>\n",
       "    </tr>\n",
       "  </tbody>\n",
       "</table>\n",
       "</div>"
      ],
      "text/plain": [
       "  gene_symbol                     cancer  probability\n",
       "0        EGFR     Mixed Tumor, Malignant         0.94\n",
       "1        JAK2  Carcinoma, Hepatocellular         0.90\n",
       "2         KDR     Mixed Tumor, Malignant         0.90\n",
       "3       IGF1R  Carcinoma, Hepatocellular         0.90\n",
       "4        PTK2  Carcinoma, Hepatocellular         0.84"
      ]
     },
     "execution_count": 3,
     "metadata": {},
     "output_type": "execute_result"
    }
   ],
   "source": [
    "predictions.head()"
   ]
  },
  {
   "cell_type": "markdown",
   "metadata": {},
   "source": [
    "## TDL categories\n",
    "We retrieve a dataframe to display the data (``tld_df``). We then retrieve a map from the same data that related the gene symbol to the target level."
   ]
  },
  {
   "cell_type": "code",
   "execution_count": 4,
   "metadata": {},
   "outputs": [],
   "source": [
    "kcet_parser = KcetParser()\n",
    "tld_df = kcet_parser.read_target_level_df()"
   ]
  },
  {
   "cell_type": "code",
   "execution_count": 5,
   "metadata": {},
   "outputs": [
    {
     "data": {
      "text/html": [
       "<div>\n",
       "<style scoped>\n",
       "    .dataframe tbody tr th:only-of-type {\n",
       "        vertical-align: middle;\n",
       "    }\n",
       "\n",
       "    .dataframe tbody tr th {\n",
       "        vertical-align: top;\n",
       "    }\n",
       "\n",
       "    .dataframe thead th {\n",
       "        text-align: right;\n",
       "    }\n",
       "</style>\n",
       "<table border=\"1\" class=\"dataframe\">\n",
       "  <thead>\n",
       "    <tr style=\"text-align: right;\">\n",
       "      <th></th>\n",
       "      <th>Sym</th>\n",
       "      <th>UniProt</th>\n",
       "      <th>Description</th>\n",
       "      <th>GeneID</th>\n",
       "      <th>TDL</th>\n",
       "    </tr>\n",
       "  </thead>\n",
       "  <tbody>\n",
       "    <tr>\n",
       "      <th>0</th>\n",
       "      <td>AAK1</td>\n",
       "      <td>Q2M2I8</td>\n",
       "      <td>AP2-associated protein kinase 1</td>\n",
       "      <td>22848.0</td>\n",
       "      <td>Tchem</td>\n",
       "    </tr>\n",
       "    <tr>\n",
       "      <th>1</th>\n",
       "      <td>AATK</td>\n",
       "      <td>Q6ZMQ8</td>\n",
       "      <td>Serine/threonine-protein kinase LMTK1</td>\n",
       "      <td>9625.0</td>\n",
       "      <td>Tbio</td>\n",
       "    </tr>\n",
       "    <tr>\n",
       "      <th>2</th>\n",
       "      <td>ABL1</td>\n",
       "      <td>P00519</td>\n",
       "      <td>Tyrosine-protein kinase ABL1</td>\n",
       "      <td>25.0</td>\n",
       "      <td>Tclin</td>\n",
       "    </tr>\n",
       "    <tr>\n",
       "      <th>3</th>\n",
       "      <td>ABL2</td>\n",
       "      <td>P42684</td>\n",
       "      <td>Tyrosine-protein kinase ABL2</td>\n",
       "      <td>27.0</td>\n",
       "      <td>Tchem</td>\n",
       "    </tr>\n",
       "    <tr>\n",
       "      <th>4</th>\n",
       "      <td>ACVR1</td>\n",
       "      <td>Q04771</td>\n",
       "      <td>Activin receptor type-1</td>\n",
       "      <td>90.0</td>\n",
       "      <td>Tchem</td>\n",
       "    </tr>\n",
       "  </tbody>\n",
       "</table>\n",
       "</div>"
      ],
      "text/plain": [
       "     Sym UniProt                            Description   GeneID    TDL\n",
       "0   AAK1  Q2M2I8        AP2-associated protein kinase 1  22848.0  Tchem\n",
       "1   AATK  Q6ZMQ8  Serine/threonine-protein kinase LMTK1   9625.0   Tbio\n",
       "2   ABL1  P00519           Tyrosine-protein kinase ABL1     25.0  Tclin\n",
       "3   ABL2  P42684           Tyrosine-protein kinase ABL2     27.0  Tchem\n",
       "4  ACVR1  Q04771                Activin receptor type-1     90.0  Tchem"
      ]
     },
     "execution_count": 5,
     "metadata": {},
     "output_type": "execute_result"
    }
   ],
   "source": [
    "tld_df.head()"
   ]
  },
  {
   "cell_type": "code",
   "execution_count": 6,
   "metadata": {},
   "outputs": [],
   "source": [
    "symbol_to_tld_map = kcet_parser.get_symbol_to_tdl_map()"
   ]
  },
  {
   "cell_type": "markdown",
   "metadata": {},
   "source": [
    "### Probability distribution of Tclin, Tchem, Tbio, and Tdark predictions\n",
    "Here we plot the distributions of proteins in the four different TLD groups. Note that one protein will have multiple entries , one for each cancer."
   ]
  },
  {
   "cell_type": "code",
   "execution_count": 13,
   "metadata": {},
   "outputs": [],
   "source": [
    "import matplotlib.pyplot as plt\n",
    "%matplotlib inline\n",
    "import numpy as np"
   ]
  },
  {
   "cell_type": "code",
   "execution_count": 10,
   "metadata": {},
   "outputs": [
    {
     "name": "stdout",
     "output_type": "stream",
     "text": [
      "[INFO] Found values for 470 kinases\n"
     ]
    }
   ],
   "source": [
    "tclin_pred =[]\n",
    "tbio_pred = []\n",
    "tchem_pred = []\n",
    "tdark_pred = []\n",
    "identified_kinases = set()\n",
    "for _, row in predictions.iterrows():\n",
    "    sym = row['gene_symbol']\n",
    "    pr = float(row['probability'])\n",
    "    tld = symbol_to_tld_map.get(sym, 'na')\n",
    "    if tld == 'na':\n",
    "        continue # Note -- our predictions contain more than kinases, \n",
    "        # We do not expect to find every symbol in this map\n",
    "    else:\n",
    "        identified_kinases.add(sym)\n",
    "    if tld == 'Tchem':\n",
    "        tchem_pred.append(pr)\n",
    "    elif tld == 'Tbio':\n",
    "        tbio_pred.append(pr)\n",
    "    elif tld == 'Tclin':\n",
    "        tclin_pred.append(pr)\n",
    "    elif tld == 'Tdark':\n",
    "        tdark_pred.append(pr)\n",
    "    else:\n",
    "        raise ValueError(\"Unrecognized category:\", tld)\n",
    "print(\"[INFO] Found values for %d kinases\" % len(identified_kinases))"
   ]
  },
  {
   "cell_type": "code",
   "execution_count": 15,
   "metadata": {},
   "outputs": [],
   "source": [
    "data1 = np.array(tclin_pred)\n",
    "data2 = np.array(tchem_pred)\n",
    "data3 = np.array(tbio_pred)\n",
    "data4 = np.array(tdark_pred)"
   ]
  },
  {
   "cell_type": "code",
   "execution_count": 20,
   "metadata": {},
   "outputs": [
    {
     "data": {
      "text/plain": [
       "<matplotlib.legend.Legend at 0x7f67ac620ba8>"
      ]
     },
     "execution_count": 20,
     "metadata": {},
     "output_type": "execute_result"
    },
    {
     "data": {
      "image/png": "[encoded data removed]",
      "text/plain": [
       "<Figure size 864x288 with 1 Axes>"
      ]
     },
     "metadata": {
      "needs_background": "light"
     },
     "output_type": "display_data"
    }
   ],
   "source": [
    "plt.figure(figsize=(12,4))\n",
    "plt.hist(data1, bins=100, alpha=0.5, label=\"Tclin\", log=True)\n",
    "plt.hist(data2, bins=100, alpha=0.5, label=\"Tchem\", log=True)\n",
    "plt.hist(data3, bins=100, alpha=0.5, label=\"Tbio\", log=True)\n",
    "plt.hist(data4, bins=100, alpha=0.5, label=\"Tdark\", log=True)\n",
    "plt.xlabel(\"Probabilities of kinase-cancer predictions\", size=14)\n",
    "plt.ylabel(\"Count\", size=14)\n",
    "plt.title(\"Probabilities according to target development level (TDL)\")\n",
    "plt.legend(loc='upper right')"
   ]
  },
  {
   "cell_type": "markdown",
   "metadata": {},
   "source": [
    "We see that the probabilities in the Tclin class include the highest values. This is expected, because this group includes our positive\n",
    "set. Also, the fact that there are low probabilities in the Tclin group is expected, because not every combination of\n",
    "a protein kinase and cancer is relevant. However, the fact that there are different distributions in the four groups\n",
    "is to be expected.\n",
    "The probability distributions of the positive and negative sets were plotted in the ``RandomForestPredictions`` notebook."
   ]
  },
  {
   "cell_type": "code",
   "execution_count": null,
   "metadata": {},
   "outputs": [],
   "source": []
  }
 ],
 "metadata": {
  "kernelspec": {
   "display_name": "p38",
   "language": "python",
   "name": "p38"
  },
  "language_info": {
   "codemirror_mode": {
    "name": "ipython",
    "version": 3
   },
   "file_extension": ".py",
   "mimetype": "text/x-python",
   "name": "python",
   "nbconvert_exporter": "python",
   "pygments_lexer": "ipython3",
   "version": "3.7.3"
  }
 },
 "nbformat": 4,
 "nbformat_minor": 2
}
