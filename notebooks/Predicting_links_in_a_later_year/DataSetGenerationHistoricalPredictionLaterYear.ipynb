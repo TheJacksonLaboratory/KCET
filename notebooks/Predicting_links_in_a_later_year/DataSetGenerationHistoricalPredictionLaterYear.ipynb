{
 "cells": [
  {
   "cell_type": "markdown",
   "metadata": {},
   "source": [
    "# Data set Generation\n",
    "\n",
    "This notebook shows how to generate datasets for the historical validation. We choose a year and get all available phase 4 clinical trials for test and training on this dataset. We additionally export files with positive data for at least a year after the target year. As negative data, we choose all combinations of kinases and cancers that have remained negative up to the present day."
   ]
  },
  {
   "cell_type": "code",
   "execution_count": 1,
   "metadata": {},
   "outputs": [],
   "source": [
    "import pandas as pd\n",
    "import os\n",
    "import sys\n",
    "sys.path.insert(0, os.path.abspath('../..'))\n",
    "from kcet import KcetDatasetGenerator"
   ]
  },
  {
   "cell_type": "markdown",
   "metadata": {},
   "source": [
    "# Input file. \n",
    "We have placed a version of ``clinical_trials_by_phase.tsv`` into the ``data`` subfolder in the ``notebooks`` subfolder of kcet."
   ]
  },
  {
   "cell_type": "code",
   "execution_count": 2,
   "metadata": {},
   "outputs": [],
   "source": [
    "ctfile = os.path.abspath(os.path.join('../data', 'clinical_trials_by_phase.tsv'))"
   ]
  },
  {
   "cell_type": "markdown",
   "metadata": {},
   "source": [
    "## target year\n",
    "In this example, we show how to extract datasets after the target year until a new target year."
   ]
  },
  {
   "cell_type": "code",
   "execution_count": 3,
   "metadata": {},
   "outputs": [],
   "source": [
    "target_year = 2010\n",
    "num_years_after_the_target_year = 9"
   ]
  },
  {
   "cell_type": "code",
   "execution_count": 4,
   "metadata": {
    "scrolled": true
   },
   "outputs": [
    {
     "name": "stdout",
     "output_type": "stream",
     "text": [
      "[INFO] Reading protein kinase information from /Users/ravanv/PycharmProjects/KCET/input/prot_kinase.tsv\n",
      "[INFO] ingested symbol_to_id_map with 522 entries such as {'NCBIGene:2870': 'GRK6'}\n",
      "[INFO] Ingested mesh_id list with 698 entries such as 'meshd000008' and 'meshd000069293', \n",
      "[INFO] Ingested _meshid2disease_map with 698 entries\n",
      "[INFO] Ingested meshid2disease_map with 514 entries\n",
      "[INFO] Ingested pki_to_kinase with 76 entries\n",
      "[INFO] Parsed data for the following medications:\n",
      "[INFO] ibrutinib\n",
      "[INFO] tofacitinib\n",
      "[INFO] cobimetinib\n",
      "[INFO] lenvatinib\n",
      "[INFO] lorlatinib\n",
      "[INFO] imatinib\n",
      "[INFO] nilotinib\n",
      "[INFO] trastuzumab\n",
      "[INFO] vandetanib\n",
      "[INFO] pemigatinib\n",
      "[INFO] tivozanib\n",
      "[INFO] dabrafenib\n",
      "[INFO] osimertinib\n",
      "[INFO] dasatinib\n",
      "[INFO] fedratinib\n",
      "[INFO] crizotinib\n",
      "[INFO] erdafitinib\n",
      "[INFO] zanubrutinib\n",
      "[INFO] tucatinib\n",
      "[INFO] pertuzumab\n",
      "[INFO] amlexanox\n",
      "[INFO] entrectinib\n",
      "[INFO] fostamatinib\n",
      "[INFO] alectinib\n",
      "[INFO] regorafenib\n",
      "[INFO] icotinib\n",
      "[INFO] nintedanib\n",
      "[INFO] ponatinib\n",
      "[INFO] vemurafenib\n",
      "[INFO] binimetinib\n",
      "[INFO] ribociclib\n",
      "[INFO] ramucirumab\n",
      "[INFO] avapritinib\n",
      "[INFO] lapatinib\n",
      "[INFO] quizartinib\n",
      "[INFO] everolimus\n",
      "[INFO] gefitinib\n",
      "[INFO] olmutinib\n",
      "[INFO] dacomitinib\n",
      "[INFO] erlotinib\n",
      "[INFO] palbociclib\n",
      "[INFO] ruxolitinib\n",
      "[INFO] cabozantinib\n",
      "[INFO] neratinib\n",
      "[INFO] sorafenib\n",
      "[INFO] cetuximab\n",
      "[INFO] copanlisib\n",
      "[INFO] apatinib\n",
      "[INFO] acalabrutinib\n",
      "[INFO] abemaciclib\n",
      "[INFO] olaratumab\n",
      "[INFO] bosutinib\n",
      "[INFO] panitumumab\n",
      "[INFO] larotrectinib\n",
      "[INFO] gilteritinib\n",
      "[INFO] ceritinib\n",
      "[INFO] necitumumab\n",
      "[INFO] sirolimus\n",
      "[INFO] alpelisib\n",
      "[INFO] trametinib\n",
      "[INFO] axitinib\n",
      "[INFO] brigatinib\n",
      "[INFO] encorafenib\n",
      "[INFO] midostaurin\n",
      "[INFO] duvelisib\n",
      "[INFO] afatinib\n",
      "[INFO] selumetinib\n",
      "[INFO] pexidartinib\n",
      "[INFO] sunitinib\n",
      "[INFO] pazopanib\n"
     ]
    }
   ],
   "source": [
    "dsGen = KcetDatasetGenerator(clinical_trials=ctfile)"
   ]
  },
  {
   "cell_type": "code",
   "execution_count": 5,
   "metadata": {},
   "outputs": [
    {
     "name": "stdout",
     "output_type": "stream",
     "text": [
      "Skipping random link(ncbigene2475,meshd058249) since we found it in the positive set\n",
      "Skipping random link(ncbigene2064,meshd013120) since we found it in the positive set\n",
      "Skipping random link(ncbigene2322,meshd007822) since we found it in the positive set\n",
      "Skipping random link(ncbigene147746,meshd018288) since we found it in the positive set\n",
      "Skipping random link(ncbigene9748,meshd007890) since we found it in the positive set\n",
      "Skipping random link(ncbigene9748,meshd008223) since we found it in the positive set\n",
      "Skipping random link(ncbigene2042,meshd009423) since we found it in the positive set\n",
      "Skipping random link(ncbigene1436,meshd016066) since we found it in the positive set\n",
      "Skipping random link(ncbigene2042,meshd010255) since we found it in the positive set\n",
      "Skipping random link(ncbigene9263,meshd018269) since we found it in the positive set\n",
      "Skipping random link(ncbigene3791,meshd008228) since we found it in the positive set\n",
      "Skipping random link(ncbigene25,meshd007945) since we found it in the positive set\n",
      "Skipping random link(ncbigene3815,meshd008224) since we found it in the positive set\n",
      "Skipping random link(ncbigene147746,meshd001752) since we found it in the positive set\n",
      "Skipping random link(ncbigene9263,meshd015179) since we found it in the positive set\n",
      "Skipping random link(ncbigene1436,meshd008228) since we found it in the positive set\n",
      "Skipping random link(ncbigene27,meshd005910) since we found it in the positive set\n",
      "Skipping random link (ncbigene83983,meshd018326) since we already added it to the negative set\n",
      "Skipping random link(ncbigene55589,meshd002292) since we found it in the positive set\n",
      "Skipping random link(ncbigene2580,meshd018196) since we found it in the positive set\n",
      "Skipping random link(ncbigene6793,meshd008579) since we found it in the positive set\n",
      "Skipping random link(ncbigene1436,meshd006689) since we found it in the positive set\n",
      "[INFO] We generated a negative set with 1350 examples (the positive set has 4087)\n",
      "Skipping random link (ncbigene3791,meshd002822) since we found it in the positive set\n",
      "Skipping random link (ncbigene2580,meshd014594) since we found it in the positive set\n",
      "Skipping random link (ncbigene80122,meshd010051) since we found it in the positive set\n",
      "Skipping random link (ncbigene2580,meshd009456) since we found it in the positive set\n",
      "Skipping random link (ncbigene27,meshd054391) since we found it in the positive set\n",
      "Skipping random link (ncbigene9263,meshd004701) since we found it in the positive set\n",
      "Skipping random link (ncbigene9088,meshd009232) since we already added it to the negative set\n",
      "Skipping random link (ncbigene8491,meshd001845) since we already added it to the negative set\n",
      "Skipping random link (ncbigene3932,meshd018442) since we found it in the positive set\n",
      "Skipping random link (ncbigene640,meshd001932) since we found it in the positive set\n",
      "Skipping random link (ncbigene2580,meshd018289) since we found it in the positive set\n",
      "Skipping random link (ncbigene4233,meshd002292) since we found it in the positive set\n",
      "Skipping random link (ncbigene5159,meshd000070779) since we found it in the positive set\n",
      "Skipping random link (ncbigene3815,meshd000069293) since we found it in the positive set\n",
      "Skipping random link (ncbigene5159,meshd010954) since we found it in the positive set\n",
      "Skipping random link (ncbigene2580,meshd002294) since we found it in the positive set\n",
      "Skipping random link (ncbigene80122,meshd001749) since we found it in the positive set\n",
      "Skipping random link (ncbigene6195,meshd002296) since we already added it to the negative set\n",
      "Skipping random link (ncbigene11200,meshd015831) since we already added it to the negative set\n",
      "Skipping random link (ncbigene5604,meshd015470) since we found it in the positive set\n",
      "Skipping random link (ncbigene27,meshd034721) since we found it in the positive set\n",
      "Skipping random link (ncbigene780,meshd002817) since we found it in the positive set\n",
      "Skipping random link (ncbigene5604,meshd010190) since we found it in the positive set\n",
      "Skipping random link (ncbigene6795,meshd008175) since we found it in the positive set\n",
      "Skipping random link (ncbigene9748,meshd005770) since we found it in the positive set\n",
      "[INFO] We generated a negative set with 1350 examples (the positive set has 4087)\n"
     ]
    }
   ],
   "source": [
    "positive_train_df, negative_train_df, positive_validation_df, negative_validation_df = \\\n",
    "   dsGen.get_data_after_target_year_upto_later_year(target_year=target_year, num_years_later= num_years_after_the_target_year)"
   ]
  },
  {
   "cell_type": "markdown",
   "metadata": {},
   "source": [
    "# Positive training data\n",
    "We use this data frame for test and training. It contains all phase 4 trials completed up to and including the target year."
   ]
  },
  {
   "cell_type": "code",
   "execution_count": 6,
   "metadata": {},
   "outputs": [
    {
     "data": {
      "text/html": [
       "<div>\n",
       "<style scoped>\n",
       "    .dataframe tbody tr th:only-of-type {\n",
       "        vertical-align: middle;\n",
       "    }\n",
       "\n",
       "    .dataframe tbody tr th {\n",
       "        vertical-align: top;\n",
       "    }\n",
       "\n",
       "    .dataframe thead th {\n",
       "        text-align: right;\n",
       "    }\n",
       "</style>\n",
       "<table border=\"1\" class=\"dataframe\">\n",
       "  <thead>\n",
       "    <tr style=\"text-align: right;\">\n",
       "      <th></th>\n",
       "      <th>cancer</th>\n",
       "      <th>mesh_id</th>\n",
       "      <th>kinase</th>\n",
       "      <th>gene_id</th>\n",
       "      <th>pki</th>\n",
       "      <th>nct</th>\n",
       "      <th>phase</th>\n",
       "      <th>year</th>\n",
       "    </tr>\n",
       "  </thead>\n",
       "  <tbody>\n",
       "    <tr>\n",
       "      <th>140</th>\n",
       "      <td>Colorectal Neoplasms</td>\n",
       "      <td>meshd015179</td>\n",
       "      <td>EGFR</td>\n",
       "      <td>ncbigene1956</td>\n",
       "      <td>cetuximab</td>\n",
       "      <td>NCT00327093;NCT01564810;NCT01315990</td>\n",
       "      <td>Phase 4</td>\n",
       "      <td>2006</td>\n",
       "    </tr>\n",
       "    <tr>\n",
       "      <th>145</th>\n",
       "      <td>Neoplasm Metastasis</td>\n",
       "      <td>meshd009362</td>\n",
       "      <td>EGFR</td>\n",
       "      <td>ncbigene1956</td>\n",
       "      <td>cetuximab</td>\n",
       "      <td>NCT00327093;NCT01564810;NCT00510627</td>\n",
       "      <td>Phase 4</td>\n",
       "      <td>2006</td>\n",
       "    </tr>\n",
       "    <tr>\n",
       "      <th>146</th>\n",
       "      <td>Neoplasms, Second Primary</td>\n",
       "      <td>meshd016609</td>\n",
       "      <td>EGFR</td>\n",
       "      <td>ncbigene1956</td>\n",
       "      <td>cetuximab</td>\n",
       "      <td>NCT00327093</td>\n",
       "      <td>Phase 4</td>\n",
       "      <td>2006</td>\n",
       "    </tr>\n",
       "    <tr>\n",
       "      <th>147</th>\n",
       "      <td>Liver Neoplasms</td>\n",
       "      <td>meshd008113</td>\n",
       "      <td>EGFR</td>\n",
       "      <td>ncbigene1956</td>\n",
       "      <td>cetuximab</td>\n",
       "      <td>NCT01564810;NCT00510627</td>\n",
       "      <td>Phase 4</td>\n",
       "      <td>2006</td>\n",
       "    </tr>\n",
       "    <tr>\n",
       "      <th>249</th>\n",
       "      <td>Carcinoma, Non-Small-Cell Lung</td>\n",
       "      <td>meshd002289</td>\n",
       "      <td>EGFR</td>\n",
       "      <td>ncbigene1956</td>\n",
       "      <td>erlotinib</td>\n",
       "      <td>NCT01287754;NCT01320501;NCT01230710;NCT0106688...</td>\n",
       "      <td>Phase 4</td>\n",
       "      <td>2004</td>\n",
       "    </tr>\n",
       "  </tbody>\n",
       "</table>\n",
       "</div>"
      ],
      "text/plain": [
       "                             cancer      mesh_id kinase       gene_id  \\\n",
       "140            Colorectal Neoplasms  meshd015179   EGFR  ncbigene1956   \n",
       "145             Neoplasm Metastasis  meshd009362   EGFR  ncbigene1956   \n",
       "146       Neoplasms, Second Primary  meshd016609   EGFR  ncbigene1956   \n",
       "147                 Liver Neoplasms  meshd008113   EGFR  ncbigene1956   \n",
       "249  Carcinoma, Non-Small-Cell Lung  meshd002289   EGFR  ncbigene1956   \n",
       "\n",
       "           pki                                                nct    phase  \\\n",
       "140  cetuximab                NCT00327093;NCT01564810;NCT01315990  Phase 4   \n",
       "145  cetuximab                NCT00327093;NCT01564810;NCT00510627  Phase 4   \n",
       "146  cetuximab                                        NCT00327093  Phase 4   \n",
       "147  cetuximab                            NCT01564810;NCT00510627  Phase 4   \n",
       "249  erlotinib  NCT01287754;NCT01320501;NCT01230710;NCT0106688...  Phase 4   \n",
       "\n",
       "     year  \n",
       "140  2006  \n",
       "145  2006  \n",
       "146  2006  \n",
       "147  2006  \n",
       "249  2004  "
      ]
     },
     "execution_count": 6,
     "metadata": {},
     "output_type": "execute_result"
    }
   ],
   "source": [
    "positive_train_df.head()"
   ]
  },
  {
   "cell_type": "code",
   "execution_count": 7,
   "metadata": {},
   "outputs": [
    {
     "name": "stdout",
     "output_type": "stream",
     "text": [
      "          gene_id      mesh_id\n",
      "140  ncbigene1956  meshd015179\n",
      "145  ncbigene1956  meshd009362\n",
      "146  ncbigene1956  meshd016609\n",
      "147  ncbigene1956  meshd008113\n",
      "249  ncbigene1956  meshd002289\n",
      "Number of positive trainig links: 161\n"
     ]
    }
   ],
   "source": [
    "#We write the file for machine learning as follows\n",
    "pos_train_df = positive_train_df[['gene_id','mesh_id']]\n",
    "outname = \"positive_training_upto_{}.tsv\".format(target_year)\n",
    "pos_train_df.to_csv(outname, sep='\\t')\n",
    "print(pos_train_df.head())\n",
    "print(\"Number of positive trainig links: {}\".format(pos_train_df.shape[0]) )"
   ]
  },
  {
   "cell_type": "markdown",
   "metadata": {},
   "source": [
    "# Negative training data\n",
    "This data is used for test and training. It contains a sample with factor times (default=10) as many random combinations of kinases and cancers that we not positive as of the target year. Note that the dataframes for negative examples just have the columns ``gene_id`` and ``mesh_id``."
   ]
  },
  {
   "cell_type": "code",
   "execution_count": 8,
   "metadata": {},
   "outputs": [
    {
     "name": "stdout",
     "output_type": "stream",
     "text": [
      "       mesh_id        gene_id\n",
      "0  meshd009364  ncbigene10290\n",
      "1  meshd018205  ncbigene27347\n",
      "2  meshd018222   ncbigene5871\n",
      "3  meshd015831  ncbigene55781\n",
      "4  meshd010048   ncbigene5563\n",
      "Number of negative trainig links: 1350\n"
     ]
    }
   ],
   "source": [
    "print(negative_train_df.head())\n",
    "outname = \"negative_training_upto_{}.tsv\".format(target_year)\n",
    "negative_train_df.to_csv(outname, sep='\\t')\n",
    "print(\"Number of negative trainig links: {}\".format(negative_train_df.shape[0]) )"
   ]
  },
  {
   "cell_type": "markdown",
   "metadata": {},
   "source": [
    "# Positive validation data\n",
    "This file has data for all four study phases and for all years following the target year. We should predicting them\n",
    "all at once and then use postprocessing in a script to figure out the results for each year."
   ]
  },
  {
   "cell_type": "code",
   "execution_count": 9,
   "metadata": {},
   "outputs": [
    {
     "data": {
      "text/html": [
       "<div>\n",
       "<style scoped>\n",
       "    .dataframe tbody tr th:only-of-type {\n",
       "        vertical-align: middle;\n",
       "    }\n",
       "\n",
       "    .dataframe tbody tr th {\n",
       "        vertical-align: top;\n",
       "    }\n",
       "\n",
       "    .dataframe thead th {\n",
       "        text-align: right;\n",
       "    }\n",
       "</style>\n",
       "<table border=\"1\" class=\"dataframe\">\n",
       "  <thead>\n",
       "    <tr style=\"text-align: right;\">\n",
       "      <th></th>\n",
       "      <th>mesh_id</th>\n",
       "      <th>gene_id</th>\n",
       "    </tr>\n",
       "  </thead>\n",
       "  <tbody>\n",
       "    <tr>\n",
       "      <th>0</th>\n",
       "      <td>meshd058922</td>\n",
       "      <td>ncbigene2066</td>\n",
       "    </tr>\n",
       "    <tr>\n",
       "      <th>1</th>\n",
       "      <td>meshd054219</td>\n",
       "      <td>ncbigene5894</td>\n",
       "    </tr>\n",
       "    <tr>\n",
       "      <th>2</th>\n",
       "      <td>meshd012509</td>\n",
       "      <td>ncbigene4914</td>\n",
       "    </tr>\n",
       "    <tr>\n",
       "      <th>3</th>\n",
       "      <td>meshd001752</td>\n",
       "      <td>ncbigene3932</td>\n",
       "    </tr>\n",
       "    <tr>\n",
       "      <th>4</th>\n",
       "      <td>meshd002277</td>\n",
       "      <td>ncbigene55589</td>\n",
       "    </tr>\n",
       "    <tr>\n",
       "      <th>...</th>\n",
       "      <td>...</td>\n",
       "      <td>...</td>\n",
       "    </tr>\n",
       "    <tr>\n",
       "      <th>995</th>\n",
       "      <td>meshd046152</td>\n",
       "      <td>ncbigene5894</td>\n",
       "    </tr>\n",
       "    <tr>\n",
       "      <th>996</th>\n",
       "      <td>meshd002289</td>\n",
       "      <td>ncbigene2260</td>\n",
       "    </tr>\n",
       "    <tr>\n",
       "      <th>997</th>\n",
       "      <td>meshd014594</td>\n",
       "      <td>ncbigene4916</td>\n",
       "    </tr>\n",
       "    <tr>\n",
       "      <th>998</th>\n",
       "      <td>meshd018263</td>\n",
       "      <td>ncbigene3815</td>\n",
       "    </tr>\n",
       "    <tr>\n",
       "      <th>999</th>\n",
       "      <td>meshd000236</td>\n",
       "      <td>ncbigene5894</td>\n",
       "    </tr>\n",
       "  </tbody>\n",
       "</table>\n",
       "<p>1000 rows × 2 columns</p>\n",
       "</div>"
      ],
      "text/plain": [
       "         mesh_id        gene_id\n",
       "0    meshd058922   ncbigene2066\n",
       "1    meshd054219   ncbigene5894\n",
       "2    meshd012509   ncbigene4914\n",
       "3    meshd001752   ncbigene3932\n",
       "4    meshd002277  ncbigene55589\n",
       "..           ...            ...\n",
       "995  meshd046152   ncbigene5894\n",
       "996  meshd002289   ncbigene2260\n",
       "997  meshd014594   ncbigene4916\n",
       "998  meshd018263   ncbigene3815\n",
       "999  meshd000236   ncbigene5894\n",
       "\n",
       "[1000 rows x 2 columns]"
      ]
     },
     "execution_count": 9,
     "metadata": {},
     "output_type": "execute_result"
    }
   ],
   "source": [
    "positive_validation_df.head(n=1000)"
   ]
  },
  {
   "cell_type": "code",
   "execution_count": 10,
   "metadata": {},
   "outputs": [
    {
     "name": "stdout",
     "output_type": "stream",
     "text": [
      "         gene_id      mesh_id\n",
      "0   ncbigene2066  meshd058922\n",
      "1   ncbigene5894  meshd054219\n",
      "2   ncbigene4914  meshd012509\n",
      "3   ncbigene3932  meshd001752\n",
      "4  ncbigene55589  meshd002277\n",
      "Number of positive validation links: 4794\n"
     ]
    }
   ],
   "source": [
    "pos_validation_df = positive_validation_df[['gene_id','mesh_id']]\n",
    "outname = \"positive_validation_{}_years_after_{}.tsv\".format(num_years_after_the_target_year,target_year)\n",
    "pos_validation_df.to_csv(outname, sep='\\t')\n",
    "print(pos_validation_df.head())\n",
    "print(\"Number of positive validation links: {}\".format(pos_validation_df.shape[0]) )"
   ]
  },
  {
   "cell_type": "markdown",
   "metadata": {},
   "source": [
    "# Negative validation data\n",
    "This is similar to the negative training data in that it just has two columns."
   ]
  },
  {
   "cell_type": "code",
   "execution_count": 11,
   "metadata": {},
   "outputs": [
    {
     "name": "stdout",
     "output_type": "stream",
     "text": [
      "          mesh_id        gene_id\n",
      "0     meshd007340  ncbigene65268\n",
      "1     meshd010310   ncbigene3791\n",
      "2     meshd009078   ncbigene2870\n",
      "3  meshd000071960   ncbigene2044\n",
      "4  meshd000086002  ncbigene22853\n",
      "Number of negative validation links: 1350\n"
     ]
    }
   ],
   "source": [
    "print(negative_validation_df.head())\n",
    "outname = \"negative_validation_{}_years_after_{}.tsv\".format(num_years_after_the_target_year,target_year)\n",
    "negative_validation_df.to_csv(outname, sep='\\t')\n",
    "print(\"Number of negative validation links: {}\".format(negative_validation_df.shape[0]) )"
   ]
  },
  {
   "cell_type": "code",
   "execution_count": null,
   "metadata": {},
   "outputs": [],
   "source": []
  }
 ],
 "metadata": {
  "kernelspec": {
   "display_name": "kcet_env",
   "language": "python",
   "name": "kcet_env"
  },
  "language_info": {
   "codemirror_mode": {
    "name": "ipython",
    "version": 3
   },
   "file_extension": ".py",
   "mimetype": "text/x-python",
   "name": "python",
   "nbconvert_exporter": "python",
   "pygments_lexer": "ipython3",
   "version": "3.7.7"
  }
 },
 "nbformat": 4,
 "nbformat_minor": 2
}
