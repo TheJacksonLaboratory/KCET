{
 "cells": [
  {
   "cell_type": "markdown",
   "metadata": {},
   "source": [
    "# Data set Generation\n",
    "\n",
    "This notebook shows how to generate datasets for the historical validation. We choose a year and get all available phase 4 clinical trials for test and training on this dataset. We additionally export files with positive data for at least a year after the target year. As negative data, we choose all combinations of kinases and cancers that have remained negative up to the present day."
   ]
  },
  {
   "cell_type": "code",
   "execution_count": 36,
   "metadata": {},
   "outputs": [],
   "source": [
    "import pandas as pd\n",
    "import os\n",
    "import sys\n",
    "sys.path.insert(0, os.path.abspath('../..'))\n",
    "from kcet import KcetDatasetGenerator"
   ]
  },
  {
   "cell_type": "markdown",
   "metadata": {},
   "source": [
    "# Input file. \n",
    "We have placed a version of ``clinical_trials_by_phase.tsv`` into the ``data`` subfolder in the ``notebooks`` subfolder of kcet."
   ]
  },
  {
   "cell_type": "code",
   "execution_count": 37,
   "metadata": {},
   "outputs": [],
   "source": [
    "ctfile = os.path.abspath(os.path.join('../data', 'clinical_trials_by_phase.tsv'))"
   ]
  },
  {
   "cell_type": "markdown",
   "metadata": {},
   "source": [
    "## target year\n",
    "In this example, we show how to extract datasets for the target year of 2012"
   ]
  },
  {
   "cell_type": "code",
   "execution_count": 38,
   "metadata": {},
   "outputs": [],
   "source": [
    "target_year = 2005\n",
    "num_years_after_the_target_year = 10"
   ]
  },
  {
   "cell_type": "code",
   "execution_count": 39,
   "metadata": {
    "scrolled": true
   },
   "outputs": [
    {
     "name": "stdout",
     "output_type": "stream",
     "text": [
      "[INFO] Reading protein kinase information from /Users/ravanv/PycharmProjects/KCET/input/prot_kinase.tsv\n",
      "[INFO] ingested symbol_to_id_map with 522 entries such as {'NCBIGene:2870': 'GRK6'}\n",
      "[INFO] Ingested mesh_id list with 694 entries such as 'meshd000008' and 'meshd000069293', \n",
      "[INFO] Ingested _meshid2disease_map with 694 entries\n",
      "[INFO] Ingested meshid2disease_map with 514 entries\n",
      "[INFO] Ingested pki_to_kinase with 83 entries\n",
      "[INFO] Reading protein kinase information from /Users/ravanv/PycharmProjects/KCET/input/prot_kinase.tsv\n",
      "[INFO] ingested symbol_to_id_map with 522 entries such as {'NCBIGene:2870': 'GRK6'}\n",
      "[INFO] Ingested mesh_id list with 694 entries such as 'meshd000008' and 'meshd000069293', \n",
      "[INFO] Ingested _meshid2disease_map with 694 entries\n",
      "[INFO] Ingested meshid2disease_map with 514 entries\n",
      "[INFO] Ingested pki_to_kinase with 83 entries\n",
      "[INFO] Parsed data for the following medications:\n",
      "[INFO] imatinib\n",
      "[INFO] afatinib\n"
     ]
    }
   ],
   "source": [
    "dsGen = KcetDatasetGenerator(clinical_trials=ctfile)"
   ]
  },
  {
   "cell_type": "code",
   "execution_count": 40,
   "metadata": {},
   "outputs": [
    {
     "name": "stdout",
     "output_type": "stream",
     "text": [
      "[INFO] We generated a negative set with 150 examples (the positive set has 15)\n",
      "GPVDS year=2015\n",
      "[INFO] We generated a negative set with 150 examples (the positive set has 510)\n"
     ]
    }
   ],
   "source": [
    "positive_train_df, negative_train_df, positive_validation_df, negative_validation_df = \\\n",
    "   dsGen.get_data_for_target_year_and_later_year(target_year=target_year, num_years_later= num_years_after_the_target_year)"
   ]
  },
  {
   "cell_type": "markdown",
   "metadata": {},
   "source": [
    "# Positive training data\n",
    "We use this data frame for test and training. It contains all phase 4 trials completed up to and including the target year."
   ]
  },
  {
   "cell_type": "code",
   "execution_count": 41,
   "metadata": {},
   "outputs": [
    {
     "data": {
      "text/html": [
       "<div>\n",
       "<style scoped>\n",
       "    .dataframe tbody tr th:only-of-type {\n",
       "        vertical-align: middle;\n",
       "    }\n",
       "\n",
       "    .dataframe tbody tr th {\n",
       "        vertical-align: top;\n",
       "    }\n",
       "\n",
       "    .dataframe thead th {\n",
       "        text-align: right;\n",
       "    }\n",
       "</style>\n",
       "<table border=\"1\" class=\"dataframe\">\n",
       "  <thead>\n",
       "    <tr style=\"text-align: right;\">\n",
       "      <th></th>\n",
       "      <th>cancer</th>\n",
       "      <th>mesh_id</th>\n",
       "      <th>kinase</th>\n",
       "      <th>gene_id</th>\n",
       "      <th>pki</th>\n",
       "      <th>nct</th>\n",
       "      <th>phase</th>\n",
       "      <th>year</th>\n",
       "    </tr>\n",
       "  </thead>\n",
       "  <tbody>\n",
       "    <tr>\n",
       "      <th>17</th>\n",
       "      <td>Leukemia</td>\n",
       "      <td>meshd007938</td>\n",
       "      <td>ABL1</td>\n",
       "      <td>ncbigene25</td>\n",
       "      <td>imatinib</td>\n",
       "      <td>NCT02317159;NCT00390897;NCT00786812;NCT0220472...</td>\n",
       "      <td>Phase 4</td>\n",
       "      <td>2003</td>\n",
       "    </tr>\n",
       "    <tr>\n",
       "      <th>18</th>\n",
       "      <td>Leukemia</td>\n",
       "      <td>meshd007938</td>\n",
       "      <td>PDGFRA</td>\n",
       "      <td>ncbigene5156</td>\n",
       "      <td>imatinib</td>\n",
       "      <td>NCT02317159;NCT00390897;NCT00786812;NCT0220472...</td>\n",
       "      <td>Phase 4</td>\n",
       "      <td>2003</td>\n",
       "    </tr>\n",
       "    <tr>\n",
       "      <th>19</th>\n",
       "      <td>Leukemia</td>\n",
       "      <td>meshd007938</td>\n",
       "      <td>PDGFRB</td>\n",
       "      <td>ncbigene5159</td>\n",
       "      <td>imatinib</td>\n",
       "      <td>NCT02317159;NCT00390897;NCT00786812;NCT0220472...</td>\n",
       "      <td>Phase 4</td>\n",
       "      <td>2003</td>\n",
       "    </tr>\n",
       "    <tr>\n",
       "      <th>26</th>\n",
       "      <td>Leukemia, Myeloid</td>\n",
       "      <td>meshd007951</td>\n",
       "      <td>ABL1</td>\n",
       "      <td>ncbigene25</td>\n",
       "      <td>imatinib</td>\n",
       "      <td>NCT02317159;NCT00390897;NCT00786812;NCT0220472...</td>\n",
       "      <td>Phase 4</td>\n",
       "      <td>2003</td>\n",
       "    </tr>\n",
       "    <tr>\n",
       "      <th>27</th>\n",
       "      <td>Leukemia, Myeloid</td>\n",
       "      <td>meshd007951</td>\n",
       "      <td>PDGFRA</td>\n",
       "      <td>ncbigene5156</td>\n",
       "      <td>imatinib</td>\n",
       "      <td>NCT02317159;NCT00390897;NCT00786812;NCT0220472...</td>\n",
       "      <td>Phase 4</td>\n",
       "      <td>2003</td>\n",
       "    </tr>\n",
       "  </tbody>\n",
       "</table>\n",
       "</div>"
      ],
      "text/plain": [
       "               cancer      mesh_id  kinase       gene_id       pki  \\\n",
       "17           Leukemia  meshd007938    ABL1    ncbigene25  imatinib   \n",
       "18           Leukemia  meshd007938  PDGFRA  ncbigene5156  imatinib   \n",
       "19           Leukemia  meshd007938  PDGFRB  ncbigene5159  imatinib   \n",
       "26  Leukemia, Myeloid  meshd007951    ABL1    ncbigene25  imatinib   \n",
       "27  Leukemia, Myeloid  meshd007951  PDGFRA  ncbigene5156  imatinib   \n",
       "\n",
       "                                                  nct    phase  year  \n",
       "17  NCT02317159;NCT00390897;NCT00786812;NCT0220472...  Phase 4  2003  \n",
       "18  NCT02317159;NCT00390897;NCT00786812;NCT0220472...  Phase 4  2003  \n",
       "19  NCT02317159;NCT00390897;NCT00786812;NCT0220472...  Phase 4  2003  \n",
       "26  NCT02317159;NCT00390897;NCT00786812;NCT0220472...  Phase 4  2003  \n",
       "27  NCT02317159;NCT00390897;NCT00786812;NCT0220472...  Phase 4  2003  "
      ]
     },
     "execution_count": 41,
     "metadata": {},
     "output_type": "execute_result"
    }
   ],
   "source": [
    "positive_train_df.head()"
   ]
  },
  {
   "cell_type": "code",
   "execution_count": 42,
   "metadata": {},
   "outputs": [
    {
     "name": "stdout",
     "output_type": "stream",
     "text": [
      "         gene_id      mesh_id\n",
      "17    ncbigene25  meshd007938\n",
      "18  ncbigene5156  meshd007938\n",
      "19  ncbigene5159  meshd007938\n",
      "26    ncbigene25  meshd007951\n",
      "27  ncbigene5156  meshd007951\n",
      "Number of positive trainig links: 15\n"
     ]
    }
   ],
   "source": [
    "#We write the file for machine learning as follows\n",
    "pos_train_df = positive_train_df[['gene_id','mesh_id']]\n",
    "outname = \"positive_training_upto_{}.tsv\".format(target_year)\n",
    "pos_train_df.to_csv(outname, sep='\\t')\n",
    "print(pos_train_df.head())\n",
    "print(\"Number of positive trainig links: {}\".format(pos_train_df.shape[0]) )"
   ]
  },
  {
   "cell_type": "markdown",
   "metadata": {},
   "source": [
    "# Negative training data\n",
    "This data is used for test and training. It contains a sample with factor times (default=10) as many random combinations of kinases and cancers that we not positive as of the target year. Note that the dataframes for negative examples just have the columns ``gene_id`` and ``mesh_id``."
   ]
  },
  {
   "cell_type": "code",
   "execution_count": 43,
   "metadata": {},
   "outputs": [
    {
     "name": "stdout",
     "output_type": "stream",
     "text": [
      "       mesh_id        gene_id\n",
      "0  meshd055756   ncbigene8428\n",
      "1  meshd044584   ncbigene8558\n",
      "2  meshd019292  ncbigene51086\n",
      "3  meshd009837   ncbigene5127\n",
      "4  meshd015451  ncbigene10769\n",
      "Number of negative trainig links: 150\n"
     ]
    }
   ],
   "source": [
    "print(negative_train_df.head())\n",
    "outname = \"negative_training_upto_{}.tsv\".format(target_year)\n",
    "negative_train_df.to_csv(outname, sep='\\t')\n",
    "print(\"Number of negative trainig links: {}\".format(negative_train_df.shape[0]) )"
   ]
  },
  {
   "cell_type": "markdown",
   "metadata": {},
   "source": [
    "# Positive validation data\n",
    "This file has data for all four study phases and for all years following the target year. We should predicting them\n",
    "all at once and then use postprocessing in a script to figure out the results for each year."
   ]
  },
  {
   "cell_type": "code",
   "execution_count": 44,
   "metadata": {},
   "outputs": [
    {
     "name": "stdout",
     "output_type": "stream",
     "text": [
      "         gene_id      mesh_id\n",
      "16  ncbigene1956  meshd009101\n",
      "17  ncbigene2064  meshd009101\n",
      "40  ncbigene1956  meshd008175\n",
      "41  ncbigene2064  meshd008175\n",
      "72  ncbigene1956  meshd010190\n",
      "Number of positive validation links: 60\n"
     ]
    }
   ],
   "source": [
    "pos_validation_df = positive_validation_df[['gene_id','mesh_id']]\n",
    "outname = \"positive_validation_{}_years_after_{}.tsv\".format(num_years_after_the_target_year,target_year)\n",
    "pos_validation_df.to_csv(outname, sep='\\t')\n",
    "print(pos_validation_df.head())\n",
    "print(\"Number of positive validation links: {}\".format(pos_validation_df.shape[0]) )"
   ]
  },
  {
   "cell_type": "markdown",
   "metadata": {},
   "source": [
    "# Negative validation data\n",
    "This is similar to the negative training data in that it just has two columns."
   ]
  },
  {
   "cell_type": "code",
   "execution_count": 45,
   "metadata": {},
   "outputs": [
    {
     "name": "stdout",
     "output_type": "stream",
     "text": [
      "       mesh_id        gene_id\n",
      "0  meshd017043    ncbigene156\n",
      "1  meshd014134   ncbigene5163\n",
      "2  meshd018255   ncbigene3654\n",
      "3  meshd015408  ncbigene83694\n",
      "4  meshd000237   ncbigene7075\n",
      "Number of negative validation links: 150\n"
     ]
    }
   ],
   "source": [
    "print(negative_validation_df.head())\n",
    "outname = \"negative_validation_{}_years_after_{}.tsv\".format(num_years_after_the_target_year,target_year)\n",
    "negative_validation_df.to_csv(outname, sep='\\t')\n",
    "print(\"Number of negative validation links: {}\".format(negative_validation_df.shape[0]) )"
   ]
  },
  {
   "cell_type": "code",
   "execution_count": null,
   "metadata": {},
   "outputs": [],
   "source": []
  },
  {
   "cell_type": "code",
   "execution_count": null,
   "metadata": {},
   "outputs": [],
   "source": []
  }
 ],
 "metadata": {
  "kernelspec": {
   "display_name": "kcet_env",
   "language": "python",
   "name": "kcet_env"
  },
  "language_info": {
   "codemirror_mode": {
    "name": "ipython",
    "version": 3
   },
   "file_extension": ".py",
   "mimetype": "text/x-python",
   "name": "python",
   "nbconvert_exporter": "python",
   "pygments_lexer": "ipython3",
   "version": "3.7.7"
  }
 },
 "nbformat": 4,
 "nbformat_minor": 2
}
