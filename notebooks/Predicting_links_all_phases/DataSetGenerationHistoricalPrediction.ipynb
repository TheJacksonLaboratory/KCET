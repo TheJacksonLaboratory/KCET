{
 "cells": [
  {
   "cell_type": "markdown",
   "metadata": {},
   "source": [
    "# Data set Generation\n",
    "\n",
    "This notebook shows how to generate datasets for the historical validation. We choose a year and get all available phase 4 clinical trials for test and training on this dataset. We additionally export files with positive data for at least a year after the target year. As negative data, we choose all combinations of kinases and cancers that have remained negative up to the present day."
   ]
  },
  {
   "cell_type": "code",
   "execution_count": 1,
   "metadata": {},
   "outputs": [],
   "source": [
    "import pandas as pd\n",
    "import os\n",
    "import sys\n",
    "sys.path.insert(0, os.path.abspath('../..'))\n",
    "from kcet import KcetDatasetGenerator"
   ]
  },
  {
   "cell_type": "markdown",
   "metadata": {},
   "source": [
    "# Input file. \n",
    "We require the ``clinical_trials_by_phase.tsv``file. TODO DESCRIBE HOW THIS WAS GENERATED.\n",
    "For convenience, the file that was used for this work is available from the project's zenodo repository: https://zenodo.org/record/5329035#.YTyvZXspBl9\n",
    "Download the file and enter its path into the following dialog."
   ]
  },
  {
   "cell_type": "code",
   "execution_count": 2,
   "metadata": {},
   "outputs": [
    {
     "name": "stdout",
     "output_type": "stream",
     "text": [
      "/home/peter/data/pubmed2vec/clinical_trials_by_phase.tsv\n"
     ]
    }
   ],
   "source": [
    "ctfile = input()"
   ]
  },
  {
   "cell_type": "markdown",
   "metadata": {},
   "source": [
    "## target year\n",
    "In this example, we show how to extract datasets after the target year until a new target year."
   ]
  },
  {
   "cell_type": "code",
   "execution_count": 3,
   "metadata": {},
   "outputs": [],
   "source": [
    "target_year = 2010\n",
    "mid_year = 2019\n",
    "num_years_after_the_mid_year = 1"
   ]
  },
  {
   "cell_type": "code",
   "execution_count": 4,
   "metadata": {
    "scrolled": true
   },
   "outputs": [
    {
     "name": "stdout",
     "output_type": "stream",
     "text": [
      "[INFO] Reading protein kinase information from /home/peter/GIT/KCET/input/prot_kinase.tsv\n",
      "[INFO] ingested symbol_to_id_map with 522 entries such as {'NCBIGene:2870': 'GRK6'}\n",
      "[INFO] Ingested mesh_id list with 698 entries such as 'meshd000008' and 'meshd000069293', \n",
      "[INFO] Ingested _meshid2disease_map with 698 entries\n",
      "[INFO] Ingested meshid2disease_map with 514 entries\n",
      "[INFO] Ingested pki_to_kinase with 76 entries\n",
      "[INFO] Parsed data for 70 medications.\n"
     ]
    }
   ],
   "source": [
    "dsGen = KcetDatasetGenerator(clinical_trials=ctfile)"
   ]
  },
  {
   "cell_type": "code",
   "execution_count": 5,
   "metadata": {},
   "outputs": [
    {
     "name": "stdout",
     "output_type": "stream",
     "text": [
      "[INFO] We generated a negative training set with 1350 examples (the positive set has 4087)\n",
      "[INFO] We generated a negative validation set with 1350 examples (the positive set has 4087)\n"
     ]
    }
   ],
   "source": [
    "pos_train_df, neg_train_df, pos_validation_df, neg_validation_df = \\\n",
    "   dsGen.get_data_years_after_target_year_upto_later_year(target_year=target_year, mid_year = mid_year, num_years_later= num_years_after_the_mid_year)"
   ]
  },
  {
   "cell_type": "markdown",
   "metadata": {},
   "source": [
    "# Write data to files\n",
    "\n",
    "The data looks like this. Note that downstream analysis only requires links between gene ids (protein kinases) and MeSH ids (cancers), and we only write out these two fields.\n",
    "\n",
    "### negative_train_df \n",
    "is used for test and training. It contains a sample with factor times (default=10) as many random combinations of kinases and cancers that were not positive as of the target year. Note that the dataframes for negative examples just have the columns gene_id and mesh_id.\n",
    "\n",
    "### Positive validation data\n",
    "This file has data for all four study phases and for all years following the target year. We should predicting them\n",
    "all at once and then use postprocessing in a script to figure out the results for each year."
   ]
  },
  {
   "cell_type": "code",
   "execution_count": null,
   "metadata": {},
   "outputs": [],
   "source": [
    "pos_train_df.head()"
   ]
  },
  {
   "cell_type": "code",
   "execution_count": null,
   "metadata": {},
   "outputs": [],
   "source": [
    "print(\"Number of positive training links: {}\".format(pos_train_df.shape[0]))\n",
    "print(\"Number of negative training links: {}\".format(neg_train_df.shape[0]))\n",
    "print(\"Number of positive validation links: {}\".format(pos_validation_df.shape[0]))\n",
    "print(\"Number of negative validation links: {}\".format(neg_validation_df.shape[0]))"
   ]
  },
  {
   "cell_type": "code",
   "execution_count": null,
   "metadata": {},
   "outputs": [],
   "source": [
    "# Positive train\n",
    "pos_train_df = pos_train_df[['gene_id','mesh_id']]\n",
    "outname = \"positive_training_upto_{}.tsv\".format(target_year)\n",
    "pos_train_df.to_csv(outname, sep='\\t')\n",
    "# Negative train\n",
    "outname = \"negative_training_upto_{}.tsv\".format(target_year)\n",
    "neg_train_df.to_csv(outname, sep='\\t')\n",
    "# Positive validation\n",
    "pos_validation_df = pos_validation_df[['gene_id','mesh_id']]\n",
    "outname = \"positive_validation_{}_years_after_{}_target_{}.tsv\".format(num_years_after_the_mid_year,mid_year,target_year)\n",
    "pos_validation_df.to_csv(outname, sep='\\t')\n",
    "# Negative validation \n",
    "outname = \"negative_validation_upto_{}.tsv\".format(target_year)\n",
    "neg_validation_df.to_csv(outname, sep='\\t')"
   ]
  },
  {
   "cell_type": "code",
   "execution_count": null,
   "metadata": {},
   "outputs": [],
   "source": []
  }
 ],
 "metadata": {
  "kernelspec": {
   "display_name": "Python 3",
   "language": "python",
   "name": "python3"
  },
  "language_info": {
   "codemirror_mode": {
    "name": "ipython",
    "version": 3
   },
   "file_extension": ".py",
   "mimetype": "text/x-python",
   "name": "python",
   "nbconvert_exporter": "python",
   "pygments_lexer": "ipython3",
   "version": "3.7.3"
  }
 },
 "nbformat": 4,
 "nbformat_minor": 2
}
