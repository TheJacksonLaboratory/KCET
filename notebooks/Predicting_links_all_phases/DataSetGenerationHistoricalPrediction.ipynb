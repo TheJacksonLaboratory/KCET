{
 "cells": [
  {
   "cell_type": "markdown",
   "metadata": {},
   "source": [
    "# Data set Generation\n",
    "\n",
    "This notebook shows how to generate datasets for the historical validation. We choose a year and get all available phase 4 clinical trials for test and training on this dataset. We additionally export files with positive data for at least a year after the target year. As negative data, we choose all combinations of kinases and cancers that have remained negative up to the present day."
   ]
  },
  {
   "cell_type": "code",
   "execution_count": 1,
   "metadata": {},
   "outputs": [],
   "source": [
    "import pandas as pd\n",
    "import os\n",
    "import sys\n",
    "sys.path.insert(0, os.path.abspath('../..'))\n",
    "from kcet import KcetDatasetGenerator"
   ]
  },
  {
   "cell_type": "markdown",
   "metadata": {},
   "source": [
    "# Input file. \n",
    "We require the ``clinical_trials_by_phase.tsv``file. TODO DESCRIBE HOW THIS WAS GENERATED.\n",
    "For convenience, the file that was used for this work is available from the project's zenodo repository: https://zenodo.org/record/5329035#.YTyvZXspBl9\n",
    "Download the file and enter its path into the following dialog."
   ]
  },
  {
   "cell_type": "code",
   "execution_count": 2,
   "metadata": {},
   "outputs": [
    {
     "name": "stdout",
     "output_type": "stream",
     "text": [
      "/home/peter/data/pubmed2vec/clinical_trials_by_phase.tsv\n"
     ]
    }
   ],
   "source": [
    "ctfile = input()"
   ]
  },
  {
   "cell_type": "markdown",
   "metadata": {},
   "source": [
    "## target year\n",
    "In this example, we show how to extract datasets after the target year until a new target year."
   ]
  },
  {
   "cell_type": "code",
   "execution_count": 3,
   "metadata": {},
   "outputs": [],
   "source": [
    "target_year = 2010\n",
    "mid_year = 2019\n",
    "num_years_after_the_mid_year = 1"
   ]
  },
  {
   "cell_type": "code",
   "execution_count": 4,
   "metadata": {
    "scrolled": true
   },
   "outputs": [
    {
     "name": "stdout",
     "output_type": "stream",
     "text": [
      "[INFO] Reading protein kinase information from /home/peter/GIT/KCET/input/prot_kinase.tsv\n",
      "[INFO] ingested symbol_to_id_map with 522 entries such as {'NCBIGene:2870': 'GRK6'}\n",
      "[INFO] Ingested mesh_id list with 698 entries such as 'meshd000008' and 'meshd000069293', \n",
      "[INFO] Ingested _meshid2disease_map with 698 entries\n",
      "[INFO] Ingested meshid2disease_map with 514 entries\n",
      "[INFO] Ingested pki_to_kinase with 76 entries\n",
      "[INFO] Parsed data for 70 medications.\n"
     ]
    }
   ],
   "source": [
    "dsGen = KcetDatasetGenerator(clinical_trials=ctfile)"
   ]
  },
  {
   "cell_type": "code",
   "execution_count": 5,
   "metadata": {},
   "outputs": [
    {
     "name": "stdout",
     "output_type": "stream",
     "text": [
      "[INFO] We generated a negative training set with 1350 examples (the positive set has 4087)\n",
      "[INFO] We generated a negative validation set with 1350 examples (the positive set has 4087)\n"
     ]
    }
   ],
   "source": [
    "pos_train_df, neg_train_df, pos_validation_df, neg_validation_df = \\\n",
    "   dsGen.get_data_years_after_target_year_upto_later_year(target_year=target_year, mid_year = mid_year, num_years_later= num_years_after_the_mid_year)"
   ]
  },
  {
   "cell_type": "markdown",
   "metadata": {},
   "source": [
    "# Write data to files\n",
    "\n",
    "The data looks like this. Note that downstream analysis only requires links between gene ids (protein kinases) and MeSH ids (cancers), and we only write out these two fields.\n",
    "\n",
    "### negative_train_df \n",
    "is used for test and training. It contains a sample with factor times (default=10) as many random combinations of kinases and cancers that were not positive as of the target year. Note that the dataframes for negative examples just have the columns gene_id and mesh_id.\n",
    "\n",
    "### Positive validation data\n",
    "This file has data for all four study phases and for all years following the target year. We should predicting them\n",
    "all at once and then use postprocessing in a script to figure out the results for each year."
   ]
  },
  {
   "cell_type": "code",
   "execution_count": 6,
   "metadata": {},
   "outputs": [
    {
     "data": {
      "text/html": [
       "<div>\n",
       "<style scoped>\n",
       "    .dataframe tbody tr th:only-of-type {\n",
       "        vertical-align: middle;\n",
       "    }\n",
       "\n",
       "    .dataframe tbody tr th {\n",
       "        vertical-align: top;\n",
       "    }\n",
       "\n",
       "    .dataframe thead th {\n",
       "        text-align: right;\n",
       "    }\n",
       "</style>\n",
       "<table border=\"1\" class=\"dataframe\">\n",
       "  <thead>\n",
       "    <tr style=\"text-align: right;\">\n",
       "      <th></th>\n",
       "      <th>cancer</th>\n",
       "      <th>mesh_id</th>\n",
       "      <th>kinase</th>\n",
       "      <th>gene_id</th>\n",
       "      <th>pki</th>\n",
       "      <th>nct</th>\n",
       "      <th>phase</th>\n",
       "      <th>year</th>\n",
       "    </tr>\n",
       "  </thead>\n",
       "  <tbody>\n",
       "    <tr>\n",
       "      <th>140</th>\n",
       "      <td>Colorectal Neoplasms</td>\n",
       "      <td>meshd015179</td>\n",
       "      <td>EGFR</td>\n",
       "      <td>ncbigene1956</td>\n",
       "      <td>cetuximab</td>\n",
       "      <td>NCT00327093;NCT01564810;NCT01315990</td>\n",
       "      <td>Phase 4</td>\n",
       "      <td>2006</td>\n",
       "    </tr>\n",
       "    <tr>\n",
       "      <th>145</th>\n",
       "      <td>Neoplasm Metastasis</td>\n",
       "      <td>meshd009362</td>\n",
       "      <td>EGFR</td>\n",
       "      <td>ncbigene1956</td>\n",
       "      <td>cetuximab</td>\n",
       "      <td>NCT00327093;NCT01564810;NCT00510627</td>\n",
       "      <td>Phase 4</td>\n",
       "      <td>2006</td>\n",
       "    </tr>\n",
       "    <tr>\n",
       "      <th>146</th>\n",
       "      <td>Neoplasms, Second Primary</td>\n",
       "      <td>meshd016609</td>\n",
       "      <td>EGFR</td>\n",
       "      <td>ncbigene1956</td>\n",
       "      <td>cetuximab</td>\n",
       "      <td>NCT00327093</td>\n",
       "      <td>Phase 4</td>\n",
       "      <td>2006</td>\n",
       "    </tr>\n",
       "    <tr>\n",
       "      <th>147</th>\n",
       "      <td>Liver Neoplasms</td>\n",
       "      <td>meshd008113</td>\n",
       "      <td>EGFR</td>\n",
       "      <td>ncbigene1956</td>\n",
       "      <td>cetuximab</td>\n",
       "      <td>NCT01564810;NCT00510627</td>\n",
       "      <td>Phase 4</td>\n",
       "      <td>2006</td>\n",
       "    </tr>\n",
       "    <tr>\n",
       "      <th>249</th>\n",
       "      <td>Carcinoma, Non-Small-Cell Lung</td>\n",
       "      <td>meshd002289</td>\n",
       "      <td>EGFR</td>\n",
       "      <td>ncbigene1956</td>\n",
       "      <td>erlotinib</td>\n",
       "      <td>NCT01287754;NCT01320501;NCT01230710;NCT0106688...</td>\n",
       "      <td>Phase 4</td>\n",
       "      <td>2004</td>\n",
       "    </tr>\n",
       "  </tbody>\n",
       "</table>\n",
       "</div>"
      ],
      "text/plain": [
       "                             cancer      mesh_id kinase       gene_id  \\\n",
       "140            Colorectal Neoplasms  meshd015179   EGFR  ncbigene1956   \n",
       "145             Neoplasm Metastasis  meshd009362   EGFR  ncbigene1956   \n",
       "146       Neoplasms, Second Primary  meshd016609   EGFR  ncbigene1956   \n",
       "147                 Liver Neoplasms  meshd008113   EGFR  ncbigene1956   \n",
       "249  Carcinoma, Non-Small-Cell Lung  meshd002289   EGFR  ncbigene1956   \n",
       "\n",
       "           pki                                                nct    phase  \\\n",
       "140  cetuximab                NCT00327093;NCT01564810;NCT01315990  Phase 4   \n",
       "145  cetuximab                NCT00327093;NCT01564810;NCT00510627  Phase 4   \n",
       "146  cetuximab                                        NCT00327093  Phase 4   \n",
       "147  cetuximab                            NCT01564810;NCT00510627  Phase 4   \n",
       "249  erlotinib  NCT01287754;NCT01320501;NCT01230710;NCT0106688...  Phase 4   \n",
       "\n",
       "     year  \n",
       "140  2006  \n",
       "145  2006  \n",
       "146  2006  \n",
       "147  2006  \n",
       "249  2004  "
      ]
     },
     "execution_count": 6,
     "metadata": {},
     "output_type": "execute_result"
    }
   ],
   "source": [
    "pos_train_df.head()"
   ]
  },
  {
   "cell_type": "code",
   "execution_count": 7,
   "metadata": {},
   "outputs": [
    {
     "name": "stdout",
     "output_type": "stream",
     "text": [
      "Number of positive training links: 161\n",
      "Number of negative training links: 1350\n",
      "Number of positive validation links: 1360\n",
      "Number of negative validation links: 1350\n"
     ]
    }
   ],
   "source": [
    "print(\"Number of positive training links: {}\".format(pos_train_df.shape[0]))\n",
    "print(\"Number of negative training links: {}\".format(neg_train_df.shape[0]))\n",
    "print(\"Number of positive validation links: {}\".format(pos_validation_df.shape[0]))\n",
    "print(\"Number of negative validation links: {}\".format(neg_validation_df.shape[0]))"
   ]
  },
  {
   "cell_type": "code",
   "execution_count": 8,
   "metadata": {},
   "outputs": [],
   "source": [
    "# Positive train\n",
    "pos_train_df = pos_train_df[['gene_id','mesh_id']]\n",
    "outname = \"positive_training_upto_{}.tsv\".format(target_year)\n",
    "pos_train_df.to_csv(outname, sep='\\t')\n",
    "# Negative train\n",
    "outname = \"negative_training_upto_{}.tsv\".format(target_year)\n",
    "neg_train_df.to_csv(outname, sep='\\t')\n",
    "# Positive validation\n",
    "pos_validation_df = pos_validation_df[['gene_id','mesh_id']]\n",
    "outname = \"positive_validation_{}_years_after_{}_target_{}.tsv\".format(num_years_after_the_mid_year,mid_year,target_year)\n",
    "pos_validation_df.to_csv(outname, sep='\\t')\n",
    "# Negative validation \n",
    "outname = \"negative_validation_upto_{}.tsv\".format(target_year)\n",
    "neg_validation_df.to_csv(outname, sep='\\t')"
   ]
  },
  {
   "cell_type": "code",
   "execution_count": null,
   "metadata": {},
   "outputs": [],
   "source": []
  }
 ],
 "metadata": {
  "kernelspec": {
   "display_name": "Python 3",
   "language": "python",
   "name": "python3"
  },
  "language_info": {
   "codemirror_mode": {
    "name": "ipython",
    "version": 3
   },
   "file_extension": ".py",
   "mimetype": "text/x-python",
   "name": "python",
   "nbconvert_exporter": "python",
   "pygments_lexer": "ipython3",
   "version": "3.7.3"
  }
 },
 "nbformat": 4,
 "nbformat_minor": 2
}
