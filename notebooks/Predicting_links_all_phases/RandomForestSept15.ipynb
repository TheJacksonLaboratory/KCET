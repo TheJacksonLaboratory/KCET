{
 "cells": [
  {
   "cell_type": "markdown",
   "metadata": {},
   "source": [
    "# Random Forest Classification of protein-kinase cancer links\n",
    "\n",
    "TODO -- short description.\n",
    "\n",
    "This notebook uses the new *KcetRandomForest* class."
   ]
  },
  {
   "cell_type": "code",
   "execution_count": 1,
   "metadata": {},
   "outputs": [],
   "source": [
    "import pandas as pd\n",
    "import os\n",
    "import sys\n",
    "sys.path.insert(0, os.path.abspath('../..'))\n",
    "from kcet import KcetDatasetGenerator, KcetRandomForest"
   ]
  },
  {
   "cell_type": "markdown",
   "metadata": {},
   "source": [
    "## Obtaining the input data\n",
    "The concept vectors are available from a zenodo repository: https://zenodo.org/record/5329035 Download the five files to a local directory and enter the path of this directory in the following input dialog\n",
    "\n",
    "- embedding_SG_dim100_upto2010.npy\n",
    "- embedding_SG_dim100_upto2020.npy\n",
    "- words_SG_upto2010.txt\n",
    "- words_SG_upto2020.txt\n",
    "- clinical_trials_by_phase.tsv"
   ]
  },
  {
   "cell_type": "code",
   "execution_count": 2,
   "metadata": {},
   "outputs": [
    {
     "name": "stdout",
     "output_type": "stream",
     "text": [
      "/Users/robinp/Documents/data/pubmed2vec/clinical_trials_by_phase.tsv\n"
     ]
    }
   ],
   "source": [
    "ctfile = input()"
   ]
  },
  {
   "cell_type": "code",
   "execution_count": 3,
   "metadata": {},
   "outputs": [
    {
     "name": "stdout",
     "output_type": "stream",
     "text": [
      "/Users/robinp/Documents/data/pubmed2vec/embedding_SG_dim100_upto2010.npy\n"
     ]
    }
   ],
   "source": [
    "embeddings = input()"
   ]
  },
  {
   "cell_type": "code",
   "execution_count": 4,
   "metadata": {},
   "outputs": [
    {
     "name": "stdout",
     "output_type": "stream",
     "text": [
      "/Users/robinp/Documents/data/pubmed2vec/words_SG_upto2010.txt\n"
     ]
    }
   ],
   "source": [
    "words = input()"
   ]
  },
  {
   "cell_type": "code",
   "execution_count": 5,
   "metadata": {},
   "outputs": [
    {
     "name": "stdout",
     "output_type": "stream",
     "text": [
      "[INFO] Reading protein kinase information from /Users/robinp/GIT/KCET/input/prot_kinase.tsv\n",
      "[INFO] ingested symbol_to_id_map with 522 entries such as {'NCBIGene:2870': 'GRK6'}\n",
      "[INFO] Ingested mesh_id list with 698 entries such as 'meshd000008' and 'meshd000069293', \n",
      "[INFO] Ingested _meshid2disease_map with 698 entries\n",
      "[INFO] Ingested meshid2disease_map with 514 entries\n",
      "[INFO] Ingested pki_to_kinase with 76 entries\n",
      "[INFO] Parsed data for 70 medications.\n"
     ]
    }
   ],
   "source": [
    "datagen = KcetDatasetGenerator(clinical_trials=ctfile)"
   ]
  },
  {
   "cell_type": "code",
   "execution_count": 6,
   "metadata": {},
   "outputs": [
    {
     "name": "stdout",
     "output_type": "stream",
     "text": [
      "\n",
      "[INFO] We ingested 195088 labeled word vectors from /Users/robinp/Documents/data/pubmed2vec/embedding_SG_dim100_upto2010.npy and /Users/robinp/Documents/data/pubmed2vec/words_SG_upto2010.txt\n",
      "[INFO] We ingested 522 symbol/NCBI gene id mappings from /Users/robinp/GIT/KCET/input/prot_kinase.tsv\n",
      "[INFO] We ingested 698 meshId/disease mappings from /Users/robinp/GIT/KCET/input/neoplasms_labels.tsv\n",
      "\n"
     ]
    }
   ],
   "source": [
    "targetyear = 2010\n",
    "krf = KcetRandomForest(data_gen=datagen, target=targetyear, embedddingfile=embeddings, wordsfile=words)"
   ]
  },
  {
   "cell_type": "code",
   "execution_count": 7,
   "metadata": {},
   "outputs": [
    {
     "name": "stdout",
     "output_type": "stream",
     "text": [
      "[INFO] We generated a negative training set with 1350 examples (the positive set has 4087)\n",
      "[INFO] We generated a negative validation set with 1350 examples (the positive set has 4087)\n",
      "[INFO] Extracted 132 kinase-cancer difference vectors\n",
      "[INFO]\tInitial data: 161 examples\n",
      "[INFO]\tCould not identify 1 gene ids\n",
      "[INFO]\tCould not identify 0 MeSH ids\n",
      "[INFO] Extracted 1149 kinase-cancer difference vectors\n",
      "[INFO]\tInitial data: 1350 examples\n",
      "[INFO]\tCould not identify 37 gene ids\n",
      "[INFO]\tCould not identify 46 MeSH ids\n",
      "[INFO] Extracted 1282 kinase-cancer difference vectors\n",
      "[INFO]\tInitial data: 1349 examples\n",
      "[INFO]\tCould not identify 2 gene ids\n",
      "[INFO]\tCould not identify 11 MeSH ids\n",
      "[INFO] Extracted 1139 kinase-cancer difference vectors\n",
      "[INFO]\tInitial data: 1350 examples\n",
      "[INFO]\tCould not identify 40 gene ids\n",
      "[INFO]\tCould not identify 44 MeSH ids\n",
      "Setting up RF classification with pos train: 132, neg train 1149, pos validation 1282, neg validation 1139\n",
      "pos train vectors shape (132, 100)\n",
      "neg train vectors shape (1149, 100)\n",
      "X train vectors shape (1281, 100)\n",
      "Y train vectors shape (1281,)\n"
     ]
    }
   ],
   "source": [
    "num_years = 1\n",
    "midyear = 2014\n",
    "y_pred, yproba = krf.classify(num_years_later=num_years, mid_year=midyear)"
   ]
  },
  {
   "cell_type": "code",
   "execution_count": 8,
   "metadata": {},
   "outputs": [],
   "source": [
    "from sklearn.metrics import roc_auc_score, roc_curve, auc, classification_report\n",
    "from sklearn.metrics import precision_recall_curve\n",
    "from sklearn.metrics import plot_precision_recall_curve\n",
    "from sklearn import metrics\n",
    "from sklearn.ensemble import RandomForestClassifier\n",
    "from sklearn.model_selection import RandomizedSearchCV, GridSearchCV\n",
    "import matplotlib.pyplot as plt\n",
    "import matplotlib\n",
    "from numpy import sqrt\n",
    "from numpy import argmax\n",
    "from sklearn.metrics import precision_score, recall_score"
   ]
  },
  {
   "cell_type": "code",
   "execution_count": 9,
   "metadata": {},
   "outputs": [
    {
     "name": "stdout",
     "output_type": "stream",
     "text": [
      "\n",
      "[INFO] We ingested 195088 labeled word vectors from /Users/robinp/Documents/data/pubmed2vec/embedding_SG_dim100_upto2010.npy and /Users/robinp/Documents/data/pubmed2vec/words_SG_upto2010.txt\n",
      "[INFO] We ingested 522 symbol/NCBI gene id mappings from /Users/robinp/GIT/KCET/input/prot_kinase.tsv\n",
      "[INFO] We ingested 698 meshId/disease mappings from /Users/robinp/GIT/KCET/input/neoplasms_labels.tsv\n",
      "\n",
      "In loop with num_years_later= 0\n",
      "[INFO] We generated a negative training set with 1350 examples (the positive set has 4087)\n",
      "[INFO] We generated a negative validation set with 1350 examples (the positive set has 4087)\n",
      "[INFO] Extracted 132 kinase-cancer difference vectors\n",
      "[INFO]\tInitial data: 161 examples\n",
      "[INFO]\tCould not identify 1 gene ids\n",
      "[INFO]\tCould not identify 0 MeSH ids\n",
      "[INFO] Extracted 1149 kinase-cancer difference vectors\n",
      "[INFO]\tInitial data: 1350 examples\n",
      "[INFO]\tCould not identify 40 gene ids\n",
      "[INFO]\tCould not identify 48 MeSH ids\n",
      "[INFO] Extracted 309 kinase-cancer difference vectors\n",
      "[INFO]\tInitial data: 356 examples\n",
      "[INFO]\tCould not identify 2 gene ids\n",
      "[INFO]\tCould not identify 9 MeSH ids\n",
      "[INFO] Extracted 1154 kinase-cancer difference vectors\n",
      "[INFO]\tInitial data: 1350 examples\n",
      "[INFO]\tCould not identify 36 gene ids\n",
      "[INFO]\tCould not identify 47 MeSH ids\n",
      "Setting up RF classification with pos train: 132, neg train 1149, pos validation 309, neg validation 1154\n",
      "pos train vectors shape (132, 100)\n",
      "neg train vectors shape (1149, 100)\n",
      "X train vectors shape (1281, 100)\n",
      "Y train vectors shape (1281,)\n",
      "ypred= [0. 0. 0. ... 0. 0. 0.]\n",
      "yproa= [0.05       0.45       0.29041667 ... 0.         0.04       0.035     ]\n"
     ]
    },
    {
     "ename": "NameError",
     "evalue": "name 'y_test' is not defined",
     "output_type": "error",
     "traceback": [
      "\u001b[0;31m---------------------------------------------------------------------------\u001b[0m",
      "\u001b[0;31mNameError\u001b[0m                                 Traceback (most recent call last)",
      "\u001b[0;32m/var/folders/6q/nqfsh3cs775bb1rnrs7n_c_htypxv6/T/ipykernel_19949/4011866485.py\u001b[0m in \u001b[0;36m<module>\u001b[0;34m\u001b[0m\n\u001b[1;32m     18\u001b[0m     \u001b[0mprint\u001b[0m\u001b[0;34m(\u001b[0m\u001b[0;34m\"ypred=\"\u001b[0m\u001b[0;34m,\u001b[0m \u001b[0my_pred\u001b[0m\u001b[0;34m)\u001b[0m\u001b[0;34m\u001b[0m\u001b[0;34m\u001b[0m\u001b[0m\n\u001b[1;32m     19\u001b[0m     \u001b[0mprint\u001b[0m\u001b[0;34m(\u001b[0m\u001b[0;34m\"yproa=\"\u001b[0m\u001b[0;34m,\u001b[0m \u001b[0myproba\u001b[0m\u001b[0;34m)\u001b[0m\u001b[0;34m\u001b[0m\u001b[0;34m\u001b[0m\u001b[0m\n\u001b[0;32m---> 20\u001b[0;31m     \u001b[0mfpr\u001b[0m\u001b[0;34m,\u001b[0m \u001b[0mtpr\u001b[0m\u001b[0;34m,\u001b[0m \u001b[0mthresholds_auc\u001b[0m \u001b[0;34m=\u001b[0m \u001b[0mroc_curve\u001b[0m\u001b[0;34m(\u001b[0m\u001b[0my_test\u001b[0m\u001b[0;34m,\u001b[0m  \u001b[0myproba\u001b[0m\u001b[0;34m)\u001b[0m\u001b[0;34m\u001b[0m\u001b[0;34m\u001b[0m\u001b[0m\n\u001b[0m\u001b[1;32m     21\u001b[0m     \u001b[0;31m#gmeans = sqrt(tpr * (1-fpr))\u001b[0m\u001b[0;34m\u001b[0m\u001b[0;34m\u001b[0m\u001b[0;34m\u001b[0m\u001b[0m\n\u001b[1;32m     22\u001b[0m     \u001b[0;31m# locate the index of the largest g-mean\u001b[0m\u001b[0;34m\u001b[0m\u001b[0;34m\u001b[0m\u001b[0;34m\u001b[0m\u001b[0m\n",
      "\u001b[0;31mNameError\u001b[0m: name 'y_test' is not defined"
     ]
    },
    {
     "data": {
      "image/png": "[encoded data removed]",
      "text/plain": [
       "<Figure size 576x576 with 1 Axes>"
      ]
     },
     "metadata": {
      "needs_background": "light"
     },
     "output_type": "display_data"
    }
   ],
   "source": [
    "fig = plt.figure(figsize=(8,8))\n",
    "ax1 = fig.add_subplot(111)\n",
    "#ax2 = fig.add_subplot(122)\n",
    "fig.tight_layout()\n",
    "font = {'family' : 'normal',\n",
    "        'size'   : 20}\n",
    "\n",
    "matplotlib.rc('font', **font)\n",
    "\n",
    "target_year = 2010\n",
    "midyear= 2011 \n",
    "\n",
    "krf = KcetRandomForest(data_gen=datagen, target=targetyear, embedddingfile=embeddings, wordsfile=words)\n",
    "\n",
    "for num_years_later in [0,1,2,3,4,5,6,7,8,9]:\n",
    "    print(\"In loop with num_years_later=\",num_years_later)\n",
    "    y_pred, yproba = krf.classify(num_years_later=num_years_later, mid_year=midyear)\n",
    "    print(\"ypred=\", y_pred)\n",
    "    print(\"yproa=\", yproba)\n",
    "    fpr, tpr, thresholds_auc = roc_curve(y_test,  yproba)\n",
    "    #gmeans = sqrt(tpr * (1-fpr))\n",
    "    # locate the index of the largest g-mean\n",
    "    #ix_gmeans = argmax(gmeans)\n",
    "   # print('Best Threshold=%.5f, G-Mean=%.3f' % (thresholds_auc[ix_gmeans], gmeans[ix_gmeans]))\n",
    "    \n",
    "    \n",
    "    print(metrics.confusion_matrix(y_test,y_pred))\n",
    "    auc_roc = roc_auc_score(y_test, yproba)\n",
    "    \n",
    "    \n",
    "    ax1.plot(fpr, tpr, label='%d-%d (%0.2f), n=%d' %(mid_year, mid_year + num_years_later  ,auc_roc, diff_vectors_pos_validation.shape[0]))\n",
    "    #ax1.scatter(fpr[ix_gmeans], tpr[ix_gmeans], marker='o', color='black')\n",
    "    \n",
    "        \n",
    "        \n",
    "    precision, recall, thresholds_pr = precision_recall_curve(y_test, yproba)\n",
    "    # convert to f score\n",
    "    fscore = (2 * precision * recall) / (precision + recall)\n",
    "    #print(\"precision\", precision, 'recall', recall)\n",
    "    diff_threshold = 0.01\n",
    "    for i in range(len(fscore)):\n",
    "        if abs(recall[i] - 0.5 * precision[i]) < diff_threshold:\n",
    "            print(precision[i],recall[i])\n",
    "            break\n",
    "    # locate the index of the largest f score\n",
    "    #ix_fscore = argmax(fscore)\n",
    "    ix_fscore = i\n",
    "    print(' Threshold=%.5f, F-Score=%.2f' % (thresholds_pr[ix_fscore], fscore[ix_fscore]))\n",
    "    precision_at_threshold = precision_score(y_test, y_pred > thresholds_pr[ix_fscore])\n",
    "    recall_at_threshold = recall_score(y_test, y_pred > thresholds_pr[ix_fscore])\n",
    "    print('precision=%.2f, recall=%.2f\\n\\n' % (precision_at_threshold, recall_at_threshold))\n",
    "    \n",
    "    #ax2.plot(recall, precision, label='%d year(s) after %d, precision-recall (area = %0.2f)' % (num_years_later,target_year, auc_recall_precision))\n",
    "    ax1.set_title('Target year = {}'.format(target_year))\n",
    "    ax1.set_xlabel('1-Specificity')\n",
    "    ax1.set_ylabel('Sensitivity')\n",
    "    ax1.legend(loc=\"lower right\")\n",
    "    \n",
    "plt.show()\n",
    "\n",
    "    "
   ]
  },
  {
   "cell_type": "code",
   "execution_count": null,
   "metadata": {},
   "outputs": [],
   "source": []
  }
 ],
 "metadata": {
  "kernelspec": {
   "display_name": "Python 3 (ipykernel)",
   "language": "python",
   "name": "python3"
  },
  "language_info": {
   "codemirror_mode": {
    "name": "ipython",
    "version": 3
   },
   "file_extension": ".py",
   "mimetype": "text/x-python",
   "name": "python",
   "nbconvert_exporter": "python",
   "pygments_lexer": "ipython3",
   "version": "3.9.5"
  }
 },
 "nbformat": 4,
 "nbformat_minor": 4
}
