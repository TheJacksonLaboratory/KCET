{
 "cells": [
  {
   "cell_type": "markdown",
   "metadata": {},
   "source": [
    "# Prediction of relevant protein kinase-cancer relations\n",
    "We aim to learn pairs (x,y), where x is a protein kinase and y is a cancer that \n",
    "can be effectively treated by inhibiting x. We use word2vec to embed words found\n",
    "in abstracts from the PubMed corpus; we use [marea](https://github.com/TheJacksonLaboratory/marea) to preprocess PubMed abstracts by replacing words and phrases with concept IDs, followed by analysis with [embiggen](https://pypi.org/project/embiggen/) for word embedding. This notebook imports the embedded vectors and corresponding labels (words) from embiggen. We then extract vectors that correspond to\n",
    "both protein kinases and cancers. We use a positive set of (x,y) relations that\n",
    "we have derived from an analysis of Clinical Trials data with [yatcp](https://github.com/monarch-initiative/yactp), and rank other possible protein-kinase cancer relations."
   ]
  },
  {
   "cell_type": "markdown",
   "metadata": {},
   "source": [
    "## How to set up this notebook\n",
    "This notebook depends on the files ``embedding_SG_dim100_upto2012.npy``, ``words_SG_upto2012.txt`` (from embiggen), \n",
    "``positive_training_upto_2012.tsv``, ``negative_training_upto_2012.tsv``, ``positive_validation_after_2012.tsv``, ``negative_prediction_after_2012.tsv`` from the [KCET](https://github.com/TheJacksonLaboratory/KCET) package. For now, the corresponding files are available in\n",
    "Google drive. Download that folder to someplace on your drive, and then cd to the KCET/notebooks folder,\n",
    "and softlist the downloaded folder\n",
    "```\n",
    "ln -s /path/to/downloaded/folder/ data\n",
    "```\n",
    "This notebook assumes it will find the files there."
   ]
  },
  {
   "cell_type": "code",
   "execution_count": null,
   "metadata": {},
   "outputs": [],
   "source": [
    "import os\n",
    "import sys\n",
    "import pandas as pd\n",
    "import numpy as np\n",
    "from sklearn.decomposition import PCA\n",
    "import matplotlib.pyplot as plt\n",
    "%matplotlib inline\n",
    "from mpl_toolkits.mplot3d import Axes3D\n",
    "import seaborn as sns\n",
    "sys.path.insert(0, os.path.abspath('../..'))\n",
    "from kcet import KinasePredictor"
   ]
  },
  {
   "cell_type": "markdown",
   "metadata": {},
   "source": [
    "## Input files\n",
    "``embedding_SG_dim100_upto{year}.npy`` is the result of word2vec embedding of pubmed. ``words_SG_upto{year}.txt`` are the corresponding words. A directory of files was downloaded and softlinked to data using ``ln -s <path> data``."
   ]
  },
  {
   "cell_type": "code",
   "execution_count": null,
   "metadata": {},
   "outputs": [],
   "source": [
    "target_year = 2012"
   ]
  },
  {
   "cell_type": "code",
   "execution_count": null,
   "metadata": {},
   "outputs": [],
   "source": [
    "data_directory = '../data/embeddings_final'\n",
    "if not os.path.isdir(data_directory):\n",
    "    raise FileNotFoundError(\"Could not find data directory\")\n",
    "\n",
    "embedding_file = os.path.join(data_directory, \"embedding_SG_dim100_upto{}.npy\".format(target_year))\n",
    "words_file = os.path.join(data_directory, \"words_SG_upto{}.txt\".format(target_year))\n",
    "predictor = KinasePredictor(embeddings=embedding_file, words=words_file)"
   ]
  },
  {
   "cell_type": "markdown",
   "metadata": {},
   "source": [
    "# PubMed Word Embeddings\n",
    "The following code displays the numbers of word embeddings used as input."
   ]
  },
  {
   "cell_type": "code",
   "execution_count": null,
   "metadata": {},
   "outputs": [],
   "source": [
    "embeddings = predictor.get_embeddings()\n",
    "embeddings.head(n=10)"
   ]
  },
  {
   "cell_type": "code",
   "execution_count": null,
   "metadata": {},
   "outputs": [],
   "source": [
    "print(\"Total number of embeddings: \", len(embeddings))"
   ]
  },
  {
   "cell_type": "markdown",
   "metadata": {},
   "source": [
    "# Positive examples\n",
    "Note that we need to rename the gene.id to gene_id upstream TODO"
   ]
  },
  {
   "cell_type": "code",
   "execution_count": null,
   "metadata": {},
   "outputs": [],
   "source": [
    "positive_examples = \"positive_training_upto_{}.tsv\".format(target_year)\n",
    "positive_df = pd.read_csv(positive_examples,  sep= \"\\t\")[[\"mesh_id\", \"gene_id\"]]\n",
    "positive_df.head()"
   ]
  },
  {
   "cell_type": "code",
   "execution_count": null,
   "metadata": {},
   "outputs": [],
   "source": [
    "print(\"%d positive examples\" % len(positive_df))\n",
    "print(\"%d embedded words in total\" % len(predictor.get_embeddings()))"
   ]
  },
  {
   "cell_type": "markdown",
   "metadata": {},
   "source": [
    "# Difference vectors\n",
    "We form difference vectors by substracting the word vectors for the protein kinases (in the column ``gene.id``)\n",
    "from the corresponding vectors for the cancer (in the column ``mesh_id``). The following function in the\n",
    "KCET package takes the dataframe shown above, finds the corrresponding vectors, substracts them, and\n",
    "returns a new Pandas dataframe."
   ]
  },
  {
   "cell_type": "code",
   "execution_count": null,
   "metadata": {},
   "outputs": [],
   "source": [
    "diff_vectors_pos_train = predictor.get_disease_kinase_difference_vectors(examples=positive_df)"
   ]
  },
  {
   "cell_type": "code",
   "execution_count": null,
   "metadata": {},
   "outputs": [],
   "source": [
    "diff_vectors_pos_train.head()"
   ]
  },
  {
   "cell_type": "code",
   "execution_count": null,
   "metadata": {},
   "outputs": [],
   "source": [
    "print(\"%d total difference vectors were extracted.\" % len(diff_vectors_pos_train))"
   ]
  },
  {
   "cell_type": "markdown",
   "metadata": {},
   "source": [
    "# Negative examples\n",
    "Here, we process negative examples in the same way. TODO LINK TO EXPLANATION OF HOW WE MAKE POS AND NEG"
   ]
  },
  {
   "cell_type": "code",
   "execution_count": null,
   "metadata": {},
   "outputs": [],
   "source": [
    "negative_examples = \"negative_training_upto_{}.tsv\".format(target_year)\n",
    "negative_df = pd.read_csv(negative_examples,  sep= \"\\t\")[[\"mesh_id\", \"gene_id\"]]\n",
    "negative_df.head()"
   ]
  },
  {
   "cell_type": "code",
   "execution_count": null,
   "metadata": {},
   "outputs": [],
   "source": [
    "print(\"%d negative examples\" % len(negative_df))"
   ]
  },
  {
   "cell_type": "code",
   "execution_count": null,
   "metadata": {},
   "outputs": [],
   "source": [
    "diff_vectors_neg_train = predictor.get_disease_kinase_difference_vectors(examples=negative_df)"
   ]
  },
  {
   "cell_type": "code",
   "execution_count": null,
   "metadata": {},
   "outputs": [],
   "source": [
    "diff_vectors_neg_train.head()"
   ]
  },
  {
   "cell_type": "markdown",
   "metadata": {},
   "source": [
    "# PCA visualization\n",
    "To do PCA, we concatenate the positive and negative examples and label them so that we can visualize them using PCA."
   ]
  },
  {
   "cell_type": "code",
   "execution_count": null,
   "metadata": {},
   "outputs": [],
   "source": [
    "X_train = diff_vectors_pos_train.append(diff_vectors_neg_train)\n",
    "print(\"[INFO] We combined positive (n=%d) and negative (n=%d) to the combined dataframe (%d)\" % \n",
    "      (len(diff_vectors_pos_train), len(diff_vectors_neg_train), len(X_train)))"
   ]
  },
  {
   "cell_type": "code",
   "execution_count": null,
   "metadata": {},
   "outputs": [],
   "source": [
    "X_train.values"
   ]
  },
  {
   "cell_type": "code",
   "execution_count": null,
   "metadata": {},
   "outputs": [],
   "source": [
    "# vector with colors for the data points -- red for positive, blue for negative\n",
    "cvec = [ \"red\" if i < len(diff_vectors_pos_train) else \"blue\" for i in range(len(X_train))]"
   ]
  },
  {
   "cell_type": "code",
   "execution_count": null,
   "metadata": {},
   "outputs": [],
   "source": [
    "pca = PCA(n_components=3)\n",
    "pca_result = pca.fit_transform(X_train.values)\n",
    "df = pd.DataFrame()\n",
    "df['pca-one'] = pca_result[:,0]\n",
    "df['pca-two'] = pca_result[:,1] \n",
    "df['pca-three'] = pca_result[:,2]\n",
    "print('Explained variation per principal component: {}'.format(pca.explained_variance_ratio_))"
   ]
  },
  {
   "cell_type": "code",
   "execution_count": null,
   "metadata": {},
   "outputs": [],
   "source": [
    "plt.figure(figsize=(8,8))\n",
    "\n",
    "plt.scatter(pca_result[:,0], pca_result[:,1],c=cvec, alpha=0.9)\n",
    "plt.xlabel('PC 1 (%.2f%%)' % (pca.explained_variance_ratio_[0]*100))\n",
    "plt.ylabel('PC 2 (%.2f%%)' % (pca.explained_variance_ratio_[1]*100)) "
   ]
  },
  {
   "cell_type": "markdown",
   "metadata": {},
   "source": [
    "# T-Distributed Stochastic Neighbouring Entities (t-SNE) Plot"
   ]
  },
  {
   "cell_type": "code",
   "execution_count": null,
   "metadata": {},
   "outputs": [],
   "source": [
    "import time\n",
    "from sklearn.manifold import TSNE\n",
    "time_start = time.time()\n",
    "tsne = TSNE(n_components=2, verbose=1, perplexity=40, n_iter=300)\n",
    "tsne_results = tsne.fit_transform(pca_result)\n",
    "print('t-SNE done! Time elapsed: {} seconds'.format(time.time()-time_start))"
   ]
  },
  {
   "cell_type": "code",
   "execution_count": null,
   "metadata": {},
   "outputs": [],
   "source": [
    "plt.figure(figsize=(16,10))\n",
    "plt.scatter(tsne_results[:,0], tsne_results[:,1], c=cvec,  alpha=0.9)\n",
    "plt.xlabel('tsne-2d-one')\n",
    "plt.ylabel('tsne-2d-two') "
   ]
  },
  {
   "cell_type": "markdown",
   "metadata": {},
   "source": [
    "# Random forest\n",
    "First, let's arrange the training data. X_train we have from above. We additionally need to create a data structure for the labels with 1=positive, 0=negative example"
   ]
  },
  {
   "cell_type": "code",
   "execution_count": null,
   "metadata": {},
   "outputs": [],
   "source": [
    "print(\"Training data dimensions:\", X_train.shape)"
   ]
  },
  {
   "cell_type": "code",
   "execution_count": null,
   "metadata": {},
   "outputs": [],
   "source": [
    "label_1 = np.ones(diff_vectors_pos_train.shape[0])\n",
    "label_0 = np.zeros(diff_vectors_neg_train.shape[0])\n",
    "Y_train = np.concatenate((label_1,label_0))\n",
    "n_pos_examples = sum([x for x in Y_train])\n",
    "n_neg_examples = sum([(1-x) for x in Y_train])\n",
    "print(\"Number of positive examples: %d, number of negative examples: %d, Y_train.shape: %s\" % (n_pos_examples, n_neg_examples, Y_train.shape))"
   ]
  },
  {
   "cell_type": "markdown",
   "metadata": {},
   "source": [
    "## Positive validation data\n",
    "Note that for this pilot experiment, we are not checking ROC, but we are just predicting values for all combinations of protein kinases and cancers"
   ]
  },
  {
   "cell_type": "code",
   "execution_count": null,
   "metadata": {},
   "outputs": [],
   "source": [
    "positive_validation_data = \"positive_validation_{}.tsv\".format(target_year)\n",
    "positive_validation_df = pd.read_csv(positive_validation_data, sep='\\t')[[\"mesh_id\", \"gene_id\"]]\n"
   ]
  },
  {
   "cell_type": "code",
   "execution_count": null,
   "metadata": {},
   "outputs": [],
   "source": [
    "positive_validation_df.head()"
   ]
  },
  {
   "cell_type": "code",
   "execution_count": null,
   "metadata": {},
   "outputs": [],
   "source": [
    "diff_vectors_pos_validation = predictor.get_disease_kinase_difference_vectors(positive_validation_df)"
   ]
  },
  {
   "cell_type": "code",
   "execution_count": null,
   "metadata": {},
   "outputs": [],
   "source": [
    "diff_vectors_pos_validation.head()"
   ]
  },
  {
   "cell_type": "markdown",
   "metadata": {},
   "source": [
    "## Negative validation data"
   ]
  },
  {
   "cell_type": "code",
   "execution_count": null,
   "metadata": {},
   "outputs": [],
   "source": [
    "negative_validation_data = \"negative_validation_{}.tsv\".format(target_year)\n",
    "negative_validation_df = pd.read_csv(negative_validation_data, sep='\\t')[[\"mesh_id\", \"gene_id\"]]\n"
   ]
  },
  {
   "cell_type": "code",
   "execution_count": null,
   "metadata": {},
   "outputs": [],
   "source": [
    "negative_validation_df.head()"
   ]
  },
  {
   "cell_type": "code",
   "execution_count": null,
   "metadata": {},
   "outputs": [],
   "source": [
    "diff_vectors_neg_validation = predictor.get_disease_kinase_difference_vectors(negative_validation_df)"
   ]
  },
  {
   "cell_type": "code",
   "execution_count": null,
   "metadata": {},
   "outputs": [],
   "source": [
    "diff_vectors_neg_validation.head()"
   ]
  },
  {
   "cell_type": "markdown",
   "metadata": {},
   "source": [
    "# Save binary versions of the data for use in other notebooks\n",
    "We 'pickle' the three pandas dataframes produced by the code in this notebook."
   ]
  },
  {
   "cell_type": "code",
   "execution_count": null,
   "metadata": {},
   "outputs": [],
   "source": [
    "positive_valid_diff_pickle_path =  \"positive-valid-vectors-{}.pkl\".format(target_year)\n",
    "diff_vectors_pos_validation.to_pickle(positive_valid_diff_pickle_path)"
   ]
  },
  {
   "cell_type": "code",
   "execution_count": null,
   "metadata": {},
   "outputs": [],
   "source": [
    "positive_train_diff_pickle_path =  \"positive-train-vectors-{}.pkl\".format(target_year)\n",
    "diff_vectors_pos_train.to_pickle(positive_train_diff_pickle_path)"
   ]
  },
  {
   "cell_type": "code",
   "execution_count": null,
   "metadata": {},
   "outputs": [],
   "source": [
    "negative_train_diff_pickle_path = \"negative-train-vectors-{}.pkl\".format(target_year)\n",
    "diff_vectors_neg_train.to_pickle(negative_train_diff_pickle_path)"
   ]
  },
  {
   "cell_type": "code",
   "execution_count": null,
   "metadata": {},
   "outputs": [],
   "source": [
    "negative_valid_diff_pickle_path =  \"negative-valid-vectors-{}.pkl\".format(target_year)\n",
    "diff_vectors_neg_validation.to_pickle(negative_valid_diff_pickle_path)"
   ]
  },
  {
   "cell_type": "code",
   "execution_count": null,
   "metadata": {},
   "outputs": [],
   "source": []
  }
 ],
 "metadata": {
  "kernelspec": {
   "display_name": "kcet_env",
   "language": "python",
   "name": "kcet_env"
  },
  "language_info": {
   "codemirror_mode": {
    "name": "ipython",
    "version": 3
   },
   "file_extension": ".py",
   "mimetype": "text/x-python",
   "name": "python",
   "nbconvert_exporter": "python",
   "pygments_lexer": "ipython3",
   "version": "3.7.7"
  }
 },
 "nbformat": 4,
 "nbformat_minor": 2
}
