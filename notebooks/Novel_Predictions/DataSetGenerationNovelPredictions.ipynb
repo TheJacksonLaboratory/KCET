{
 "cells": [
  {
   "cell_type": "markdown",
   "metadata": {},
   "source": [
    "# Data set Generation\n",
    "\n",
    "This notebook shows how to generate datasets for the novel validation. We fix the year to the current year (2021) and get all available phase 4 clinical trials for test and training on this dataset. For the predicton set, we consider all possible links between  protein kinases and the cancers except the positive dataset calculated up to the current year."
   ]
  },
  {
   "cell_type": "code",
   "execution_count": 1,
   "metadata": {},
   "outputs": [],
   "source": [
    "import pandas as pd\n",
    "import os\n",
    "import sys\n",
    "sys.path.insert(0, os.path.abspath('../..'))\n",
    "from kcet import KcetDatasetGenerator"
   ]
  },
  {
   "cell_type": "markdown",
   "metadata": {},
   "source": [
    "# Input file. \n",
    "We have placed a version of ``clinical_trials_by_phase.tsv`` into the ``data`` subfolder in the ``notebooks`` subfolder of kcet."
   ]
  },
  {
   "cell_type": "code",
   "execution_count": 2,
   "metadata": {},
   "outputs": [],
   "source": [
    "ctfile = os.path.abspath(os.path.join('../data', 'clinical_trials_by_phase.tsv'))"
   ]
  },
  {
   "cell_type": "markdown",
   "metadata": {},
   "source": [
    "## target year\n",
    "In this example, we show how to extract datasets for the target year of 2021"
   ]
  },
  {
   "cell_type": "code",
   "execution_count": 3,
   "metadata": {},
   "outputs": [],
   "source": [
    "target_year = 2021 #current year"
   ]
  },
  {
   "cell_type": "code",
   "execution_count": 4,
   "metadata": {
    "scrolled": true
   },
   "outputs": [
    {
     "name": "stdout",
     "output_type": "stream",
     "text": [
      "[INFO] Reading protein kinase information from /Users/ravanv/PycharmProjects/KCET/input/prot_kinase.tsv\n",
      "[INFO] ingested symbol_to_id_map with 522 entries such as {'NCBIGene:2870': 'GRK6'}\n",
      "[INFO] Ingested mesh_id list with 698 entries such as 'meshd000008' and 'meshd000069293', \n",
      "[INFO] Ingested _meshid2disease_map with 698 entries\n",
      "[INFO] Ingested meshid2disease_map with 514 entries\n",
      "[INFO] Ingested pki_to_kinase with 76 entries\n",
      "[INFO] Parsed data for the following medications:\n",
      "[INFO] acalabrutinib\n",
      "[INFO] nintedanib\n",
      "[INFO] bosutinib\n",
      "[INFO] entrectinib\n",
      "[INFO] neratinib\n",
      "[INFO] ramucirumab\n",
      "[INFO] panitumumab\n",
      "[INFO] lorlatinib\n",
      "[INFO] midostaurin\n",
      "[INFO] palbociclib\n",
      "[INFO] afatinib\n",
      "[INFO] alpelisib\n",
      "[INFO] dacomitinib\n",
      "[INFO] selumetinib\n",
      "[INFO] crizotinib\n",
      "[INFO] ceritinib\n",
      "[INFO] olaratumab\n",
      "[INFO] cetuximab\n",
      "[INFO] tofacitinib\n",
      "[INFO] vemurafenib\n",
      "[INFO] pertuzumab\n",
      "[INFO] trastuzumab\n",
      "[INFO] sunitinib\n",
      "[INFO] lenvatinib\n",
      "[INFO] fostamatinib\n",
      "[INFO] tucatinib\n",
      "[INFO] apatinib\n",
      "[INFO] erdafitinib\n",
      "[INFO] necitumumab\n",
      "[INFO] imatinib\n",
      "[INFO] regorafenib\n",
      "[INFO] tivozanib\n",
      "[INFO] ponatinib\n",
      "[INFO] pexidartinib\n",
      "[INFO] sorafenib\n",
      "[INFO] cabozantinib\n",
      "[INFO] olmutinib\n",
      "[INFO] quizartinib\n",
      "[INFO] duvelisib\n",
      "[INFO] sirolimus\n",
      "[INFO] vandetanib\n",
      "[INFO] erlotinib\n",
      "[INFO] alectinib\n",
      "[INFO] dabrafenib\n",
      "[INFO] brigatinib\n",
      "[INFO] ribociclib\n",
      "[INFO] icotinib\n",
      "[INFO] amlexanox\n",
      "[INFO] binimetinib\n",
      "[INFO] avapritinib\n",
      "[INFO] larotrectinib\n",
      "[INFO] trametinib\n",
      "[INFO] everolimus\n",
      "[INFO] cobimetinib\n",
      "[INFO] gefitinib\n",
      "[INFO] abemaciclib\n",
      "[INFO] lapatinib\n",
      "[INFO] gilteritinib\n",
      "[INFO] pemigatinib\n",
      "[INFO] ruxolitinib\n",
      "[INFO] fedratinib\n",
      "[INFO] osimertinib\n",
      "[INFO] pazopanib\n",
      "[INFO] nilotinib\n",
      "[INFO] dasatinib\n",
      "[INFO] encorafenib\n",
      "[INFO] ibrutinib\n",
      "[INFO] zanubrutinib\n",
      "[INFO] copanlisib\n",
      "[INFO] axitinib\n"
     ]
    }
   ],
   "source": [
    "dsGen = KcetDatasetGenerator(clinical_trials=ctfile)"
   ]
  },
  {
   "cell_type": "code",
   "execution_count": 6,
   "metadata": {},
   "outputs": [
    {
     "name": "stdout",
     "output_type": "stream",
     "text": [
      "Skipping random link(ncbigene5159,meshd008223) since we found it in the positive set\n",
      "Skipping random link(ncbigene3932,meshd002277) since we found it in the positive set\n",
      "Skipping random link(ncbigene4921,meshd017253) since we found it in the positive set\n",
      "Skipping random link(ncbigene147746,meshd014523) since we found it in the positive set\n",
      "Skipping random link(ncbigene1436,meshd000008) since we found it in the positive set\n",
      "Skipping random link(ncbigene5979,meshd008080) since we found it in the positive set\n",
      "Skipping random link(ncbigene5159,meshd002288) since we found it in the positive set\n",
      "Skipping random link(ncbigene2261,meshd017599) since we found it in the positive set\n",
      "Skipping random link(ncbigene3791,meshd017253) since we found it in the positive set\n",
      "Skipping random link(ncbigene1021,meshd055752) since we found it in the positive set\n",
      "Skipping random link(ncbigene695,meshd054219) since we found it in the positive set\n",
      "Skipping random link(ncbigene25,meshd000230) since we found it in the positive set\n",
      "Skipping random link(ncbigene9748,meshd005706) since we found it in the positive set\n",
      "Skipping random link(ncbigene5979,meshd010412) since we found it in the positive set\n",
      "Skipping random link(ncbigene5291,meshd007680) since we found it in the positive set\n",
      "Skipping random link(ncbigene3791,meshd065646) since we found it in the positive set\n",
      "Skipping random link(ncbigene2322,meshd055752) since we found it in the positive set\n",
      "Skipping random link(ncbigene2475,meshd018197) since we found it in the positive set\n",
      "Skipping random link(ncbigene29110,meshd011289) since we found it in the positive set\n",
      "Skipping random link (ncbigene5602,meshd012751) since we already added it to the negative set\n",
      "Skipping random link(ncbigene1019,meshd006258) since we found it in the positive set\n",
      "Skipping random link(ncbigene55589,meshd002276) since we found it in the positive set\n",
      "Skipping random link(ncbigene5605,meshd013274) since we found it in the positive set\n",
      "Skipping random link(ncbigene2064,meshd012516) since we found it in the positive set\n",
      "Skipping random link(ncbigene5293,meshd008224) since we found it in the positive set\n",
      "Skipping random link(ncbigene1956,meshd016543) since we found it in the positive set\n",
      "Skipping random link (ncbigene57787,meshd007948) since we already added it to the negative set\n",
      "Skipping random link (ncbigene6093,meshd052958) since we already added it to the negative set\n",
      "Skipping random link(ncbigene2475,meshd018304) since we found it in the positive set\n",
      "Skipping random link (ncbigene221938,meshd018295) since we already added it to the negative set\n",
      "Skipping random link(ncbigene5293,meshd054438) since we found it in the positive set\n",
      "Skipping random link(ncbigene9263,meshd007822) since we found it in the positive set\n",
      "Skipping random link (ncbigene5562,meshd010282) since we already added it to the negative set\n",
      "Skipping random link(ncbigene11183,meshd006689) since we found it in the positive set\n",
      "Skipping random link(ncbigene780,meshd012004) since we found it in the positive set\n",
      "Skipping random link(ncbigene6793,meshd018304) since we found it in the positive set\n",
      "Skipping random link(ncbigene2475,meshd009062) since we found it in the positive set\n",
      "Skipping random link(ncbigene5979,meshd002345) since we found it in the positive set\n",
      "Skipping random link(ncbigene5293,meshd016889) since we found it in the positive set\n",
      "Skipping random link (ncbigene545,meshd054740) since we already added it to the negative set\n",
      "Skipping random link (ncbigene8576,meshd018278) since we already added it to the negative set\n",
      "Skipping random link(ncbigene5291,meshd007945) since we found it in the positive set\n",
      "Skipping random link(ncbigene2263,meshd012878) since we found it in the positive set\n",
      "Skipping random link(ncbigene2260,meshd013274) since we found it in the positive set\n",
      "Skipping random link(ncbigene5156,meshd005833) since we found it in the positive set\n",
      "Skipping random link(ncbigene5159,meshd002291) since we found it in the positive set\n",
      "Skipping random link(ncbigene25,meshd018241) since we found it in the positive set\n",
      "Skipping random link(ncbigene1956,meshd018288) since we found it in the positive set\n",
      "Skipping random link(ncbigene4233,meshd018287) since we found it in the positive set\n",
      "Skipping random link(ncbigene2580,meshd013584) since we found it in the positive set\n",
      "Skipping random link (ncbigene8899,meshd054066) since we already added it to the negative set\n",
      "Skipping random link(ncbigene5294,meshd001943) since we found it in the positive set\n",
      "Skipping random link(ncbigene3815,meshd018323) since we found it in the positive set\n",
      "Skipping random link(ncbigene3717,meshd001943) since we found it in the positive set\n",
      "Skipping random link(ncbigene2322,meshd018318) since we found it in the positive set\n",
      "Skipping random link (ncbigene51086,meshd000071380) since we already added it to the negative set\n",
      "Skipping random link (ncbigene6011,meshd018222) since we already added it to the negative set\n",
      "Skipping random link(ncbigene2322,meshd007340) since we found it in the positive set\n",
      "Skipping random link(ncbigene1436,meshd011087) since we found it in the positive set\n",
      "Skipping random link(ncbigene5979,meshd014571) since we found it in the positive set\n",
      "Skipping random link (ncbigene1018,meshd018280) since we already added it to the negative set\n",
      "Skipping random link(ncbigene25,meshd013736) since we found it in the positive set\n",
      "Skipping random link(ncbigene2264,meshd002295) since we found it in the positive set\n",
      "Skipping random link(ncbigene673,meshd009373) since we found it in the positive set\n",
      "Skipping random link (ncbigene10595,meshd012878) since we already added it to the negative set\n",
      "Skipping random link(ncbigene80122,meshd000230) since we found it in the positive set\n",
      "Skipping random link (ncbigene80122,meshd004428) since we already added it to the negative set\n",
      "Skipping random link (ncbigene3611,meshd018280) since we already added it to the negative set\n",
      "Skipping random link (ncbigene2066,meshd019046) since we already added it to the negative set\n",
      "Skipping random link(ncbigene3718,meshd017728) since we found it in the positive set\n",
      "Skipping random link(ncbigene5604,meshd012516) since we found it in the positive set\n",
      "Skipping random link(ncbigene4233,meshd009362) since we found it in the positive set\n",
      "Skipping random link(ncbigene2475,meshd018222) since we found it in the positive set\n",
      "Skipping random link(ncbigene5894,meshd005909) since we found it in the positive set\n",
      "Skipping random link(ncbigene5604,meshd000564) since we found it in the positive set\n",
      "Skipping random link (ncbigene5591,meshd015529) since we already added it to the negative set\n",
      "Skipping random link(ncbigene2475,meshd054747) since we found it in the positive set\n",
      "Skipping random link(ncbigene238,meshd018285) since we found it in the positive set\n",
      "Skipping random link(ncbigene780,meshd017728) since we found it in the positive set\n",
      "Skipping random link(ncbigene9263,meshd007951) since we found it in the positive set\n",
      "Skipping random link(ncbigene5979,meshd012707) since we found it in the positive set\n",
      "Skipping random link(ncbigene7294,meshd002051) since we found it in the positive set\n",
      "Skipping random link(ncbigene147746,meshd016403) since we found it in the positive set\n",
      "Skipping random link(ncbigene5979,meshd002288) since we found it in the positive set\n",
      "Skipping random link(ncbigene1021,meshd013724) since we found it in the positive set\n",
      "Skipping random link(ncbigene5159,meshd014594) since we found it in the positive set\n",
      "Skipping random link(ncbigene2042,meshd003536) since we found it in the positive set\n",
      "Skipping random link(ncbigene147746,meshd007948) since we found it in the positive set\n",
      "Skipping random link (ncbigene5596,meshd009918) since we already added it to the negative set\n",
      "Skipping random link (ncbigene56155,meshd043604) since we already added it to the negative set\n",
      "Skipping random link(ncbigene4914,meshd010051) since we found it in the positive set\n",
      "Skipping random link (ncbigene11183,meshd009379) since we already added it to the negative set\n",
      "Skipping random link(ncbigene2051,meshd018267) since we found it in the positive set\n",
      "Skipping random link(ncbigene2322,meshd012509) since we found it in the positive set\n",
      "Skipping random link (ncbigene2261,meshd001984) since we already added it to the negative set\n",
      "Skipping random link (ncbigene7010,meshd015043) since we already added it to the negative set\n",
      "Skipping random link(ncbigene3932,meshd016403) since we found it in the positive set\n",
      "Skipping random link (ncbigene9943,meshd018335) since we already added it to the negative set\n",
      "Skipping random link (ncbigene2260,meshd000077779) since we already added it to the negative set\n",
      "Skipping random link(ncbigene780,meshd015463) since we found it in the positive set\n",
      "Skipping random link(ncbigene2064,meshd015466) since we found it in the positive set\n",
      "Skipping random link(ncbigene2321,meshd012208) since we found it in the positive set\n",
      "Skipping random link (ncbigene1859,meshd012512) since we already added it to the negative set\n",
      "Skipping random link(ncbigene4233,meshd001932) since we found it in the positive set\n",
      "Skipping random link (ncbigene1026,meshd018262) since we already added it to the negative set\n",
      "Skipping random link(ncbigene3932,meshd055752) since we found it in the positive set\n",
      "Skipping random link (ncbigene203447,meshd018223) since we already added it to the negative set\n",
      "Skipping random link(ncbigene2066,meshd007680) since we found it in the positive set\n",
      "Skipping random link(ncbigene5979,meshd012468) since we found it in the positive set\n",
      "Skipping random link (ncbigene7016,meshd000314) since we already added it to the negative set\n",
      "Skipping random link(ncbigene2051,meshd001749) since we found it in the positive set\n",
      "Skipping random link(ncbigene2066,meshd007951) since we found it in the positive set\n",
      "Skipping random link (ncbigene1436,meshd008210) since we already added it to the negative set\n",
      "Skipping random link(ncbigene5290,meshd004938) since we found it in the positive set\n",
      "Skipping random link (ncbigene203447,meshd018232) since we already added it to the negative set\n",
      "Skipping random link(ncbigene5293,meshd009182) since we found it in the positive set\n",
      "Skipping random link(ncbigene1436,meshd018219) since we found it in the positive set\n",
      "Skipping random link(ncbigene4233,meshd001943) since we found it in the positive set\n",
      "Skipping random link (ncbigene2534,meshd018207) since we already added it to the negative set\n",
      "Skipping random link(ncbigene1436,meshd000008) since we found it in the positive set\n",
      "Skipping random link(ncbigene1956,meshd009360) since we found it in the positive set\n",
      "Skipping random link(ncbigene5294,meshd001943) since we found it in the positive set\n",
      "Skipping random link(ncbigene2324,meshd015465) since we found it in the positive set\n",
      "Skipping random link(ncbigene51776,meshd017253) since we found it in the positive set\n",
      "Skipping random link(ncbigene1021,meshd017599) since we found it in the positive set\n",
      "Skipping random link(ncbigene5607,meshd002288) since we found it in the positive set\n",
      "Skipping random link(ncbigene5156,meshd021441) since we found it in the positive set\n",
      "Skipping random link(ncbigene7010,meshd003536) since we found it in the positive set\n",
      "Skipping random link(ncbigene25,meshd018234) since we found it in the positive set\n",
      "Skipping random link(ncbigene2051,meshd008258) since we found it in the positive set\n",
      "Skipping random link(ncbigene238,meshd004806) since we found it in the positive set\n",
      "Skipping random link(ncbigene6098,meshd017253) since we found it in the positive set\n",
      "Skipping random link(ncbigene27,meshd004067) since we found it in the positive set\n",
      "Skipping random link (ncbigene4831,meshd000077192) since we already added it to the negative set\n",
      "Skipping random link (ncbigene29941,meshd018310) since we already added it to the negative set\n",
      "Skipping random link (ncbigene51347,meshd018290) since we already added it to the negative set\n",
      "Skipping random link(ncbigene5293,meshd010190) since we found it in the positive set\n",
      "Skipping random link (ncbigene140901,meshd009101) since we already added it to the negative set\n",
      "Skipping random link (ncbigene9891,meshd009442) since we already added it to the negative set\n",
      "Skipping random link(ncbigene3791,meshd009423) since we found it in the positive set\n",
      "Skipping random link(ncbigene640,meshd004938) since we found it in the positive set\n",
      "Skipping random link(ncbigene2580,meshd005909) since we found it in the positive set\n",
      "Skipping random link(ncbigene4067,meshd054219) since we found it in the positive set\n",
      "Skipping random link(ncbigene5979,meshd018289) since we found it in the positive set\n",
      "Skipping random link(ncbigene780,meshd006258) since we found it in the positive set\n",
      "Skipping random link(ncbigene5604,meshd018281) since we found it in the positive set\n",
      "Skipping random link (ncbigene114783,meshd054429) since we already added it to the negative set\n",
      "Skipping random link (ncbigene2065,meshd009365) since we already added it to the negative set\n",
      "Skipping random link (ncbigene255239,meshd049328) since we already added it to the negative set\n",
      "Skipping random link(ncbigene3815,meshd016609) since we found it in the positive set\n",
      "Skipping random link (ncbigene57396,meshd054446) since we already added it to the negative set\n",
      "Skipping random link(ncbigene3791,meshd018219) since we found it in the positive set\n",
      "Skipping random link (ncbigene54101,meshd011085) since we already added it to the negative set\n",
      "Skipping random link (ncbigene5605,meshd054364) since we already added it to the negative set\n",
      "Skipping random link(ncbigene7294,meshd006689) since we found it in the positive set\n",
      "Skipping random link(ncbigene2064,meshd003110) since we found it in the positive set\n",
      "Skipping random link(ncbigene3791,meshd017728) since we found it in the positive set\n",
      "Skipping random link(ncbigene25,meshd014523) since we found it in the positive set\n",
      "Skipping random link(ncbigene369,meshd016609) since we found it in the positive set\n",
      "Skipping random link(ncbigene5159,meshd016393) since we found it in the positive set\n",
      "Skipping random link (ncbigene11040,meshd008649) since we already added it to the negative set\n",
      "Skipping random link(ncbigene640,meshd009182) since we found it in the positive set\n",
      "Skipping random link (ncbigene56975,meshd000069584) since we already added it to the negative set\n",
      "Skipping random link(ncbigene3718,meshd000071960) since we found it in the positive set\n",
      "Skipping random link(ncbigene6793,meshd012878) since we found it in the positive set\n",
      "Skipping random link (ncbigene5591,meshd000077274) since we already added it to the negative set\n",
      "Skipping random link(ncbigene3932,meshd005870) since we found it in the positive set\n",
      "Skipping random link (ncbigene124923,meshd016583) since we already added it to the negative set\n",
      "Skipping random link (ncbigene8558,meshd018285) since we already added it to the negative set\n",
      "Skipping random link(ncbigene2064,meshd009375) since we found it in the positive set\n",
      "Skipping random link(ncbigene2066,meshd055756) since we found it in the positive set\n",
      "Skipping random link(ncbigene2064,meshd018200) since we found it in the positive set\n",
      "Skipping random link(ncbigene2261,meshd013274) since we found it in the positive set\n",
      "Skipping random link (ncbigene9252,meshd000077777) since we already added it to the negative set\n",
      "Skipping random link(ncbigene5604,meshd017253) since we found it in the positive set\n",
      "Skipping random link(ncbigene5585,meshd008415) since we found it in the positive set\n",
      "Skipping random link (ncbigene3643,meshd015529) since we already added it to the negative set\n",
      "Skipping random link(ncbigene5604,meshd018319) since we found it in the positive set\n",
      "Skipping random link (ncbigene100130827,meshd014685) since we already added it to the negative set\n",
      "Skipping random link(ncbigene5607,meshd018358) since we found it in the positive set\n",
      "Skipping random link (ncbigene11040,meshd018209) since we already added it to the negative set\n",
      "Skipping random link(ncbigene6795,meshd000077195) since we found it in the positive set\n",
      "Skipping random link(ncbigene5979,meshd013274) since we found it in the positive set\n",
      "Skipping random link(ncbigene2065,meshd002583) since we found it in the positive set\n",
      "[INFO] We generated a negative set with 5590 examples (the positive set has 7909)\n"
     ]
    }
   ],
   "source": [
    "positive_train_df, negative_train_df, prediction_df = \\\n",
    "   dsGen.get_data_for_novel_prediction(current_year=target_year)\n",
    "\n"
   ]
  },
  {
   "cell_type": "markdown",
   "metadata": {},
   "source": [
    "# Positive training data\n",
    "We use this data frame for test and training. It contains all phase 4 trials completed up to and including the target year."
   ]
  },
  {
   "cell_type": "code",
   "execution_count": 8,
   "metadata": {},
   "outputs": [
    {
     "data": {
      "text/html": [
       "<div>\n",
       "<style scoped>\n",
       "    .dataframe tbody tr th:only-of-type {\n",
       "        vertical-align: middle;\n",
       "    }\n",
       "\n",
       "    .dataframe tbody tr th {\n",
       "        vertical-align: top;\n",
       "    }\n",
       "\n",
       "    .dataframe thead th {\n",
       "        text-align: right;\n",
       "    }\n",
       "</style>\n",
       "<table border=\"1\" class=\"dataframe\">\n",
       "  <thead>\n",
       "    <tr style=\"text-align: right;\">\n",
       "      <th></th>\n",
       "      <th>cancer</th>\n",
       "      <th>mesh_id</th>\n",
       "      <th>kinase</th>\n",
       "      <th>gene_id</th>\n",
       "      <th>pki</th>\n",
       "      <th>nct</th>\n",
       "      <th>phase</th>\n",
       "      <th>year</th>\n",
       "    </tr>\n",
       "  </thead>\n",
       "  <tbody>\n",
       "    <tr>\n",
       "      <th>0</th>\n",
       "      <td>Breast Neoplasms</td>\n",
       "      <td>meshd001943</td>\n",
       "      <td>CDK4</td>\n",
       "      <td>ncbigene1019</td>\n",
       "      <td>abemaciclib</td>\n",
       "      <td>NCT04707196;NCT03988114;NCT04031885</td>\n",
       "      <td>Phase 4</td>\n",
       "      <td>2019</td>\n",
       "    </tr>\n",
       "    <tr>\n",
       "      <th>1</th>\n",
       "      <td>Breast Neoplasms</td>\n",
       "      <td>meshd001943</td>\n",
       "      <td>CDK6</td>\n",
       "      <td>ncbigene1021</td>\n",
       "      <td>abemaciclib</td>\n",
       "      <td>NCT04707196;NCT03988114;NCT04031885</td>\n",
       "      <td>Phase 4</td>\n",
       "      <td>2019</td>\n",
       "    </tr>\n",
       "    <tr>\n",
       "      <th>2</th>\n",
       "      <td>Neoplasm Metastasis</td>\n",
       "      <td>meshd009362</td>\n",
       "      <td>CDK4</td>\n",
       "      <td>ncbigene1019</td>\n",
       "      <td>abemaciclib</td>\n",
       "      <td>NCT04707196</td>\n",
       "      <td>Phase 4</td>\n",
       "      <td>2021</td>\n",
       "    </tr>\n",
       "    <tr>\n",
       "      <th>3</th>\n",
       "      <td>Neoplasm Metastasis</td>\n",
       "      <td>meshd009362</td>\n",
       "      <td>CDK6</td>\n",
       "      <td>ncbigene1021</td>\n",
       "      <td>abemaciclib</td>\n",
       "      <td>NCT04707196</td>\n",
       "      <td>Phase 4</td>\n",
       "      <td>2021</td>\n",
       "    </tr>\n",
       "    <tr>\n",
       "      <th>4</th>\n",
       "      <td>Carcinoma, Non-Small-Cell Lung</td>\n",
       "      <td>meshd002289</td>\n",
       "      <td>EGFR</td>\n",
       "      <td>ncbigene1956</td>\n",
       "      <td>afatinib</td>\n",
       "      <td>NCT04413201;NCT02695290;NCT02208843;NCT0435611...</td>\n",
       "      <td>Phase 4</td>\n",
       "      <td>2014</td>\n",
       "    </tr>\n",
       "  </tbody>\n",
       "</table>\n",
       "</div>"
      ],
      "text/plain": [
       "                           cancer      mesh_id kinase       gene_id  \\\n",
       "0                Breast Neoplasms  meshd001943   CDK4  ncbigene1019   \n",
       "1                Breast Neoplasms  meshd001943   CDK6  ncbigene1021   \n",
       "2             Neoplasm Metastasis  meshd009362   CDK4  ncbigene1019   \n",
       "3             Neoplasm Metastasis  meshd009362   CDK6  ncbigene1021   \n",
       "4  Carcinoma, Non-Small-Cell Lung  meshd002289   EGFR  ncbigene1956   \n",
       "\n",
       "           pki                                                nct    phase  \\\n",
       "0  abemaciclib                NCT04707196;NCT03988114;NCT04031885  Phase 4   \n",
       "1  abemaciclib                NCT04707196;NCT03988114;NCT04031885  Phase 4   \n",
       "2  abemaciclib                                        NCT04707196  Phase 4   \n",
       "3  abemaciclib                                        NCT04707196  Phase 4   \n",
       "4     afatinib  NCT04413201;NCT02695290;NCT02208843;NCT0435611...  Phase 4   \n",
       "\n",
       "   year  \n",
       "0  2019  \n",
       "1  2019  \n",
       "2  2021  \n",
       "3  2021  \n",
       "4  2014  "
      ]
     },
     "execution_count": 8,
     "metadata": {},
     "output_type": "execute_result"
    }
   ],
   "source": [
    "positive_train_df.head()"
   ]
  },
  {
   "cell_type": "code",
   "execution_count": 9,
   "metadata": {},
   "outputs": [
    {
     "name": "stdout",
     "output_type": "stream",
     "text": [
      "        gene_id      mesh_id\n",
      "0  ncbigene1019  meshd001943\n",
      "1  ncbigene1021  meshd001943\n",
      "2  ncbigene1019  meshd009362\n",
      "3  ncbigene1021  meshd009362\n",
      "4  ncbigene1956  meshd002289\n",
      "Number of positive trainig links: 702\n"
     ]
    }
   ],
   "source": [
    "#We write the file for machine learning as follows\n",
    "pos_train_df = positive_train_df[['gene_id','mesh_id']]\n",
    "outname = \"positive_training_upto_{}.tsv\".format(target_year)\n",
    "pos_train_df.to_csv(outname, sep='\\t')\n",
    "print(pos_train_df.head())\n",
    "print(\"Number of positive trainig links: {}\".format(pos_train_df.shape[0]) )"
   ]
  },
  {
   "cell_type": "markdown",
   "metadata": {},
   "source": [
    "# Negative training data\n",
    "This data is used for test and training. It contains a sample with factor times (default=10) as many random combinations of kinases and cancers that we not positive as of the target year. Note that the dataframes for negative examples just have the columns ``gene_id`` and ``mesh_id``."
   ]
  },
  {
   "cell_type": "code",
   "execution_count": 10,
   "metadata": {},
   "outputs": [
    {
     "name": "stdout",
     "output_type": "stream",
     "text": [
      "       mesh_id         gene_id\n",
      "0  meshd018218  ncbigene440275\n",
      "1  meshd054973    ncbigene4831\n",
      "2  meshd045888    ncbigene9262\n",
      "3  meshd008479    ncbigene2580\n",
      "4  meshd052958    ncbigene8851\n",
      "Number of negative trainig links: 5590\n"
     ]
    }
   ],
   "source": [
    "print(negative_train_df.head())\n",
    "outname = \"negative_training_upto_{}.tsv\".format(target_year)\n",
    "negative_train_df.to_csv(outname, sep='\\t')\n",
    "print(\"Number of negative trainig links: {}\".format(negative_train_df.shape[0]) )"
   ]
  },
  {
   "cell_type": "markdown",
   "metadata": {},
   "source": [
    "# Prediction data\n",
    "This set contains all possible links between untargeted protein kinases\n",
    "and the cancers except the positive dataset calculated up to current year"
   ]
  },
  {
   "cell_type": "code",
   "execution_count": 11,
   "metadata": {},
   "outputs": [
    {
     "name": "stdout",
     "output_type": "stream",
     "text": [
      "          mesh_id        gene_id\n",
      "0     meshd000008  ncbigene23552\n",
      "1  meshd000069293  ncbigene23552\n",
      "2  meshd000069295  ncbigene23552\n",
      "3  meshd000069584  ncbigene23552\n",
      "4  meshd000070779  ncbigene23552\n"
     ]
    }
   ],
   "source": [
    "print(prediction_df.head())"
   ]
  },
  {
   "cell_type": "code",
   "execution_count": 12,
   "metadata": {},
   "outputs": [
    {
     "name": "stdout",
     "output_type": "stream",
     "text": [
      "Number of prediction links: 356447\n"
     ]
    }
   ],
   "source": [
    "outname = \"predictions.tsv\"\n",
    "prediction_df.to_csv(outname, sep='\\t')\n",
    "print(\"Number of prediction links: {}\".format(prediction_df.shape[0]) )"
   ]
  },
  {
   "cell_type": "code",
   "execution_count": null,
   "metadata": {},
   "outputs": [],
   "source": []
  }
 ],
 "metadata": {
  "kernelspec": {
   "display_name": "kcet_env",
   "language": "python",
   "name": "kcet_env"
  },
  "language_info": {
   "codemirror_mode": {
    "name": "ipython",
    "version": 3
   },
   "file_extension": ".py",
   "mimetype": "text/x-python",
   "name": "python",
   "nbconvert_exporter": "python",
   "pygments_lexer": "ipython3",
   "version": "3.7.7"
  }
 },
 "nbformat": 4,
 "nbformat_minor": 2
}
